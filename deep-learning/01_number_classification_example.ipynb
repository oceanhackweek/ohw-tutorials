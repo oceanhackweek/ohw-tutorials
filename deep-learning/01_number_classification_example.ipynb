{
 "cells": [
  {
   "cell_type": "markdown",
   "id": "9fce3c2f-e502-44f6-9ea9-e3d23a7a14a0",
   "metadata": {},
   "source": [
    "This notebook contains the code samples found in Chapter 2, Section 1 of\n",
    "[Deep Learning with R](https://www.manning.com/books/deep-learning-with-r). Note\n",
    "that the original text features far more content, in particular further\n",
    "explanations and figures: in this notebook, you will only find source code and\n",
    "related comments.\n"
   ]
  },
  {
   "cell_type": "code",
   "execution_count": 2,
   "id": "6195128e-f1c2-46ff-bb91-61747025e341",
   "metadata": {},
   "outputs": [
    {
     "name": "stderr",
     "output_type": "stream",
     "text": [
      "Registered S3 methods overwritten by 'keras':\n",
      "  method                               from  \n",
      "  as.data.frame.keras_training_history keras3\n",
      "  plot.keras_training_history          keras3\n",
      "  print.keras_training_history         keras3\n",
      "  r_to_py.R6ClassGenerator             keras3\n",
      "\n"
     ]
    }
   ],
   "source": [
    "Sys.setenv(\"RETICULATE_PYTHON\"=\"C:/Users/EQUIPO/.ai-navigator/conda/envs/OHW\")\n",
    "\n",
    "library(keras)\n",
    "library(tensorflow)"
   ]
  },
  {
   "cell_type": "code",
   "execution_count": 3,
   "id": "0e4128f1-0898-483a-b771-941dec3b9274",
   "metadata": {},
   "outputs": [
    {
     "data": {
      "text/plain": [
       "TensorFlow v2.17.0 (C:\\Users\\EQUIPO\\AI-NAV~1\\conda\\envs\\OHW\\lib\\site-packages\\keras\\__init__.p)\n",
       "Python v3.9 (C:/Users/EQUIPO/.ai-navigator/conda/envs/OHW/python.exe)"
      ]
     },
     "metadata": {},
     "output_type": "display_data"
    }
   ],
   "source": [
    "tf_config()"
   ]
  },
  {
   "cell_type": "code",
   "execution_count": 4,
   "id": "a6380571-ca22-43cc-bef5-98b704651e11",
   "metadata": {},
   "outputs": [
    {
     "data": {
      "text/plain": [
       "[1] '2.17'"
      ]
     },
     "metadata": {},
     "output_type": "display_data"
    }
   ],
   "source": [
    "tf_version()"
   ]
  },
  {
   "cell_type": "markdown",
   "id": "fe40328b-7d19-409d-a7a0-62949fce1844",
   "metadata": {},
   "source": [
    "Let's look at a concrete example of a neural network that uses the Keras R\n",
    "package to learn to classify hand-written digits. Unless you already have\n",
    "experience with Keras or similar libraries, you will not understand everything\n",
    "about this first example right away. You probably haven't even installed Keras\n",
    "yet. Don't worry, that is perfectly fine. In the next chapter, we will review\n",
    "each element in our example and explain them in detail. So don't worry if some\n",
    "steps seem arbitrary or look like magic to you! We've got to start somewhere.\n",
    "\n",
    "The problem we're trying to solve here is to classify grayscale images of\n",
    "handwritten digits (28 pixels by 28 pixels) into their 10 categories (0 to 9).\n",
    "We'll use the MNIST dataset, a classic dataset in the machine-learning\n",
    "community, which has been around almost as long as the field itself and has been\n",
    "intensively studied. It's a set of 60,000 training images, plus 10,000 test\n",
    "images, assembled by the National Institute of Standards and Technology (the\n",
    "NIST in MNIST) in the 1980s. You can think of \"solving\" MNIST as the \"Hello\n",
    "World\" of deep learning—it's what you do to verify that your algorithms are\n",
    "working as expected. As you become a machine-learning practitioner, you'll see\n",
    "MNIST come up over and over again, in scientific papers, blog posts, and so on.\n",
    "\n",
    "The MNIST dataset comes preloaded in Keras, in the form of `train` and `test`\n",
    "lists, each of which includes a set of images (`x`) and associated labels (`y`):\n"
   ]
  },
  {
   "cell_type": "code",
   "execution_count": 5,
   "id": "eb9d01b0-2f64-48ad-a38f-fde2c389ccb3",
   "metadata": {},
   "outputs": [],
   "source": [
    "mnist <- dataset_mnist()\n",
    "train_images <- mnist$train$x\n",
    "train_labels <- mnist$train$y\n",
    "test_images <- mnist$test$x\n",
    "test_labels <- mnist$test$y"
   ]
  },
  {
   "cell_type": "markdown",
   "id": "fca9ab46-1507-4062-8227-64d6e48717a6",
   "metadata": {},
   "source": [
    "`train_images` and `train_labels` form the _training set_, the data that the\n",
    "model will learn from. The model will then be tested on the _test set_,\n",
    "`test_images` and `test_labels`. The images are encoded as as 3D arrays, and the\n",
    "labels are a 1D array of digits, ranging from 0 to 9. There is a one-to-one\n",
    "correspondence between the images and the labels.\n",
    "\n",
    "The R `str()` function is a convenient way to get a quick glimpse at the\n",
    "structure of an array. Let's use it to have a look at the training data:\n"
   ]
  },
  {
   "cell_type": "code",
   "execution_count": 6,
   "id": "a2ba40c8-a63f-4010-873e-8d0848dbf5ea",
   "metadata": {},
   "outputs": [
    {
     "name": "stdout",
     "output_type": "stream",
     "text": [
      " int [1:60000, 1:28, 1:28] 0 0 0 0 0 0 0 0 0 0 ...\n"
     ]
    }
   ],
   "source": [
    "str(train_images)"
   ]
  },
  {
   "cell_type": "code",
   "execution_count": 7,
   "id": "4c066d7f-9235-45cb-b841-5c2d28f55063",
   "metadata": {},
   "outputs": [
    {
     "data": {
      "text/html": [
       "<table class=\"dataframe\">\n",
       "<caption>A matrix: 28 × 28 of type int</caption>\n",
       "<tbody>\n",
       "\t<tr><td>0</td><td>0</td><td>0</td><td>0</td><td>  0</td><td>  0</td><td>  0</td><td>  0</td><td>  0</td><td>  0</td><td>...</td><td>  0</td><td>  0</td><td>  0</td><td>  0</td><td>  0</td><td>  0</td><td>0</td><td>0</td><td>0</td><td>0</td></tr>\n",
       "\t<tr><td>0</td><td>0</td><td>0</td><td>0</td><td>  0</td><td>  0</td><td>  0</td><td>  0</td><td>  0</td><td>  0</td><td>...</td><td>  0</td><td>  0</td><td>  0</td><td>  0</td><td>  0</td><td>  0</td><td>0</td><td>0</td><td>0</td><td>0</td></tr>\n",
       "\t<tr><td>0</td><td>0</td><td>0</td><td>0</td><td>  0</td><td>  0</td><td>  0</td><td>  0</td><td>  0</td><td>  0</td><td>...</td><td>  0</td><td>  0</td><td>  0</td><td>  0</td><td>  0</td><td>  0</td><td>0</td><td>0</td><td>0</td><td>0</td></tr>\n",
       "\t<tr><td>0</td><td>0</td><td>0</td><td>0</td><td>  0</td><td>  0</td><td>  0</td><td>  0</td><td>  0</td><td>  0</td><td>...</td><td>  0</td><td>  0</td><td>  0</td><td>  0</td><td>  0</td><td>  0</td><td>0</td><td>0</td><td>0</td><td>0</td></tr>\n",
       "\t<tr><td>0</td><td>0</td><td>0</td><td>0</td><td>  0</td><td>  0</td><td>  0</td><td>  0</td><td>  0</td><td>  0</td><td>...</td><td>  0</td><td>  0</td><td>  0</td><td>  0</td><td>  0</td><td>  0</td><td>0</td><td>0</td><td>0</td><td>0</td></tr>\n",
       "\t<tr><td>0</td><td>0</td><td>0</td><td>0</td><td>  0</td><td>  0</td><td>  0</td><td>  0</td><td>  0</td><td>  0</td><td>...</td><td>175</td><td> 26</td><td>166</td><td>255</td><td>247</td><td>127</td><td>0</td><td>0</td><td>0</td><td>0</td></tr>\n",
       "\t<tr><td>0</td><td>0</td><td>0</td><td>0</td><td>  0</td><td>  0</td><td>  0</td><td>  0</td><td> 30</td><td> 36</td><td>...</td><td>225</td><td>172</td><td>253</td><td>242</td><td>195</td><td> 64</td><td>0</td><td>0</td><td>0</td><td>0</td></tr>\n",
       "\t<tr><td>0</td><td>0</td><td>0</td><td>0</td><td>  0</td><td>  0</td><td>  0</td><td> 49</td><td>238</td><td>253</td><td>...</td><td> 93</td><td> 82</td><td> 82</td><td> 56</td><td> 39</td><td>  0</td><td>0</td><td>0</td><td>0</td><td>0</td></tr>\n",
       "\t<tr><td>0</td><td>0</td><td>0</td><td>0</td><td>  0</td><td>  0</td><td>  0</td><td> 18</td><td>219</td><td>253</td><td>...</td><td>  0</td><td>  0</td><td>  0</td><td>  0</td><td>  0</td><td>  0</td><td>0</td><td>0</td><td>0</td><td>0</td></tr>\n",
       "\t<tr><td>0</td><td>0</td><td>0</td><td>0</td><td>  0</td><td>  0</td><td>  0</td><td>  0</td><td> 80</td><td>156</td><td>...</td><td>  0</td><td>  0</td><td>  0</td><td>  0</td><td>  0</td><td>  0</td><td>0</td><td>0</td><td>0</td><td>0</td></tr>\n",
       "\t<tr><td>0</td><td>0</td><td>0</td><td>0</td><td>  0</td><td>  0</td><td>  0</td><td>  0</td><td>  0</td><td> 14</td><td>...</td><td>  0</td><td>  0</td><td>  0</td><td>  0</td><td>  0</td><td>  0</td><td>0</td><td>0</td><td>0</td><td>0</td></tr>\n",
       "\t<tr><td>0</td><td>0</td><td>0</td><td>0</td><td>  0</td><td>  0</td><td>  0</td><td>  0</td><td>  0</td><td>  0</td><td>...</td><td>  0</td><td>  0</td><td>  0</td><td>  0</td><td>  0</td><td>  0</td><td>0</td><td>0</td><td>0</td><td>0</td></tr>\n",
       "\t<tr><td>0</td><td>0</td><td>0</td><td>0</td><td>  0</td><td>  0</td><td>  0</td><td>  0</td><td>  0</td><td>  0</td><td>...</td><td>  0</td><td>  0</td><td>  0</td><td>  0</td><td>  0</td><td>  0</td><td>0</td><td>0</td><td>0</td><td>0</td></tr>\n",
       "\t<tr><td>0</td><td>0</td><td>0</td><td>0</td><td>  0</td><td>  0</td><td>  0</td><td>  0</td><td>  0</td><td>  0</td><td>...</td><td>  0</td><td>  0</td><td>  0</td><td>  0</td><td>  0</td><td>  0</td><td>0</td><td>0</td><td>0</td><td>0</td></tr>\n",
       "\t<tr><td>0</td><td>0</td><td>0</td><td>0</td><td>  0</td><td>  0</td><td>  0</td><td>  0</td><td>  0</td><td>  0</td><td>...</td><td> 25</td><td>  0</td><td>  0</td><td>  0</td><td>  0</td><td>  0</td><td>0</td><td>0</td><td>0</td><td>0</td></tr>\n",
       "\t<tr><td>0</td><td>0</td><td>0</td><td>0</td><td>  0</td><td>  0</td><td>  0</td><td>  0</td><td>  0</td><td>  0</td><td>...</td><td>150</td><td> 27</td><td>  0</td><td>  0</td><td>  0</td><td>  0</td><td>0</td><td>0</td><td>0</td><td>0</td></tr>\n",
       "\t<tr><td>0</td><td>0</td><td>0</td><td>0</td><td>  0</td><td>  0</td><td>  0</td><td>  0</td><td>  0</td><td>  0</td><td>...</td><td>253</td><td>187</td><td>  0</td><td>  0</td><td>  0</td><td>  0</td><td>0</td><td>0</td><td>0</td><td>0</td></tr>\n",
       "\t<tr><td>0</td><td>0</td><td>0</td><td>0</td><td>  0</td><td>  0</td><td>  0</td><td>  0</td><td>  0</td><td>  0</td><td>...</td><td>253</td><td>249</td><td> 64</td><td>  0</td><td>  0</td><td>  0</td><td>0</td><td>0</td><td>0</td><td>0</td></tr>\n",
       "\t<tr><td>0</td><td>0</td><td>0</td><td>0</td><td>  0</td><td>  0</td><td>  0</td><td>  0</td><td>  0</td><td>  0</td><td>...</td><td>253</td><td>207</td><td>  2</td><td>  0</td><td>  0</td><td>  0</td><td>0</td><td>0</td><td>0</td><td>0</td></tr>\n",
       "\t<tr><td>0</td><td>0</td><td>0</td><td>0</td><td>  0</td><td>  0</td><td>  0</td><td>  0</td><td>  0</td><td>  0</td><td>...</td><td>250</td><td>182</td><td>  0</td><td>  0</td><td>  0</td><td>  0</td><td>0</td><td>0</td><td>0</td><td>0</td></tr>\n",
       "\t<tr><td>0</td><td>0</td><td>0</td><td>0</td><td>  0</td><td>  0</td><td>  0</td><td>  0</td><td>  0</td><td>  0</td><td>...</td><td> 78</td><td>  0</td><td>  0</td><td>  0</td><td>  0</td><td>  0</td><td>0</td><td>0</td><td>0</td><td>0</td></tr>\n",
       "\t<tr><td>0</td><td>0</td><td>0</td><td>0</td><td>  0</td><td>  0</td><td>  0</td><td>  0</td><td> 23</td><td> 66</td><td>...</td><td>  0</td><td>  0</td><td>  0</td><td>  0</td><td>  0</td><td>  0</td><td>0</td><td>0</td><td>0</td><td>0</td></tr>\n",
       "\t<tr><td>0</td><td>0</td><td>0</td><td>0</td><td>  0</td><td>  0</td><td> 18</td><td>171</td><td>219</td><td>253</td><td>...</td><td>  0</td><td>  0</td><td>  0</td><td>  0</td><td>  0</td><td>  0</td><td>0</td><td>0</td><td>0</td><td>0</td></tr>\n",
       "\t<tr><td>0</td><td>0</td><td>0</td><td>0</td><td> 55</td><td>172</td><td>226</td><td>253</td><td>253</td><td>253</td><td>...</td><td>  0</td><td>  0</td><td>  0</td><td>  0</td><td>  0</td><td>  0</td><td>0</td><td>0</td><td>0</td><td>0</td></tr>\n",
       "\t<tr><td>0</td><td>0</td><td>0</td><td>0</td><td>136</td><td>253</td><td>253</td><td>253</td><td>212</td><td>135</td><td>...</td><td>  0</td><td>  0</td><td>  0</td><td>  0</td><td>  0</td><td>  0</td><td>0</td><td>0</td><td>0</td><td>0</td></tr>\n",
       "\t<tr><td>0</td><td>0</td><td>0</td><td>0</td><td>  0</td><td>  0</td><td>  0</td><td>  0</td><td>  0</td><td>  0</td><td>...</td><td>  0</td><td>  0</td><td>  0</td><td>  0</td><td>  0</td><td>  0</td><td>0</td><td>0</td><td>0</td><td>0</td></tr>\n",
       "\t<tr><td>0</td><td>0</td><td>0</td><td>0</td><td>  0</td><td>  0</td><td>  0</td><td>  0</td><td>  0</td><td>  0</td><td>...</td><td>  0</td><td>  0</td><td>  0</td><td>  0</td><td>  0</td><td>  0</td><td>0</td><td>0</td><td>0</td><td>0</td></tr>\n",
       "\t<tr><td>0</td><td>0</td><td>0</td><td>0</td><td>  0</td><td>  0</td><td>  0</td><td>  0</td><td>  0</td><td>  0</td><td>...</td><td>  0</td><td>  0</td><td>  0</td><td>  0</td><td>  0</td><td>  0</td><td>0</td><td>0</td><td>0</td><td>0</td></tr>\n",
       "</tbody>\n",
       "</table>\n"
      ],
      "text/latex": [
       "A matrix: 28 × 28 of type int\n",
       "\\begin{tabular}{lllllllllllllllllllll}\n",
       "\t 0 & 0 & 0 & 0 &   0 &   0 &   0 &   0 &   0 &   0 & ... &   0 &   0 &   0 &   0 &   0 &   0 & 0 & 0 & 0 & 0\\\\\n",
       "\t 0 & 0 & 0 & 0 &   0 &   0 &   0 &   0 &   0 &   0 & ... &   0 &   0 &   0 &   0 &   0 &   0 & 0 & 0 & 0 & 0\\\\\n",
       "\t 0 & 0 & 0 & 0 &   0 &   0 &   0 &   0 &   0 &   0 & ... &   0 &   0 &   0 &   0 &   0 &   0 & 0 & 0 & 0 & 0\\\\\n",
       "\t 0 & 0 & 0 & 0 &   0 &   0 &   0 &   0 &   0 &   0 & ... &   0 &   0 &   0 &   0 &   0 &   0 & 0 & 0 & 0 & 0\\\\\n",
       "\t 0 & 0 & 0 & 0 &   0 &   0 &   0 &   0 &   0 &   0 & ... &   0 &   0 &   0 &   0 &   0 &   0 & 0 & 0 & 0 & 0\\\\\n",
       "\t 0 & 0 & 0 & 0 &   0 &   0 &   0 &   0 &   0 &   0 & ... & 175 &  26 & 166 & 255 & 247 & 127 & 0 & 0 & 0 & 0\\\\\n",
       "\t 0 & 0 & 0 & 0 &   0 &   0 &   0 &   0 &  30 &  36 & ... & 225 & 172 & 253 & 242 & 195 &  64 & 0 & 0 & 0 & 0\\\\\n",
       "\t 0 & 0 & 0 & 0 &   0 &   0 &   0 &  49 & 238 & 253 & ... &  93 &  82 &  82 &  56 &  39 &   0 & 0 & 0 & 0 & 0\\\\\n",
       "\t 0 & 0 & 0 & 0 &   0 &   0 &   0 &  18 & 219 & 253 & ... &   0 &   0 &   0 &   0 &   0 &   0 & 0 & 0 & 0 & 0\\\\\n",
       "\t 0 & 0 & 0 & 0 &   0 &   0 &   0 &   0 &  80 & 156 & ... &   0 &   0 &   0 &   0 &   0 &   0 & 0 & 0 & 0 & 0\\\\\n",
       "\t 0 & 0 & 0 & 0 &   0 &   0 &   0 &   0 &   0 &  14 & ... &   0 &   0 &   0 &   0 &   0 &   0 & 0 & 0 & 0 & 0\\\\\n",
       "\t 0 & 0 & 0 & 0 &   0 &   0 &   0 &   0 &   0 &   0 & ... &   0 &   0 &   0 &   0 &   0 &   0 & 0 & 0 & 0 & 0\\\\\n",
       "\t 0 & 0 & 0 & 0 &   0 &   0 &   0 &   0 &   0 &   0 & ... &   0 &   0 &   0 &   0 &   0 &   0 & 0 & 0 & 0 & 0\\\\\n",
       "\t 0 & 0 & 0 & 0 &   0 &   0 &   0 &   0 &   0 &   0 & ... &   0 &   0 &   0 &   0 &   0 &   0 & 0 & 0 & 0 & 0\\\\\n",
       "\t 0 & 0 & 0 & 0 &   0 &   0 &   0 &   0 &   0 &   0 & ... &  25 &   0 &   0 &   0 &   0 &   0 & 0 & 0 & 0 & 0\\\\\n",
       "\t 0 & 0 & 0 & 0 &   0 &   0 &   0 &   0 &   0 &   0 & ... & 150 &  27 &   0 &   0 &   0 &   0 & 0 & 0 & 0 & 0\\\\\n",
       "\t 0 & 0 & 0 & 0 &   0 &   0 &   0 &   0 &   0 &   0 & ... & 253 & 187 &   0 &   0 &   0 &   0 & 0 & 0 & 0 & 0\\\\\n",
       "\t 0 & 0 & 0 & 0 &   0 &   0 &   0 &   0 &   0 &   0 & ... & 253 & 249 &  64 &   0 &   0 &   0 & 0 & 0 & 0 & 0\\\\\n",
       "\t 0 & 0 & 0 & 0 &   0 &   0 &   0 &   0 &   0 &   0 & ... & 253 & 207 &   2 &   0 &   0 &   0 & 0 & 0 & 0 & 0\\\\\n",
       "\t 0 & 0 & 0 & 0 &   0 &   0 &   0 &   0 &   0 &   0 & ... & 250 & 182 &   0 &   0 &   0 &   0 & 0 & 0 & 0 & 0\\\\\n",
       "\t 0 & 0 & 0 & 0 &   0 &   0 &   0 &   0 &   0 &   0 & ... &  78 &   0 &   0 &   0 &   0 &   0 & 0 & 0 & 0 & 0\\\\\n",
       "\t 0 & 0 & 0 & 0 &   0 &   0 &   0 &   0 &  23 &  66 & ... &   0 &   0 &   0 &   0 &   0 &   0 & 0 & 0 & 0 & 0\\\\\n",
       "\t 0 & 0 & 0 & 0 &   0 &   0 &  18 & 171 & 219 & 253 & ... &   0 &   0 &   0 &   0 &   0 &   0 & 0 & 0 & 0 & 0\\\\\n",
       "\t 0 & 0 & 0 & 0 &  55 & 172 & 226 & 253 & 253 & 253 & ... &   0 &   0 &   0 &   0 &   0 &   0 & 0 & 0 & 0 & 0\\\\\n",
       "\t 0 & 0 & 0 & 0 & 136 & 253 & 253 & 253 & 212 & 135 & ... &   0 &   0 &   0 &   0 &   0 &   0 & 0 & 0 & 0 & 0\\\\\n",
       "\t 0 & 0 & 0 & 0 &   0 &   0 &   0 &   0 &   0 &   0 & ... &   0 &   0 &   0 &   0 &   0 &   0 & 0 & 0 & 0 & 0\\\\\n",
       "\t 0 & 0 & 0 & 0 &   0 &   0 &   0 &   0 &   0 &   0 & ... &   0 &   0 &   0 &   0 &   0 &   0 & 0 & 0 & 0 & 0\\\\\n",
       "\t 0 & 0 & 0 & 0 &   0 &   0 &   0 &   0 &   0 &   0 & ... &   0 &   0 &   0 &   0 &   0 &   0 & 0 & 0 & 0 & 0\\\\\n",
       "\\end{tabular}\n"
      ],
      "text/markdown": [
       "\n",
       "A matrix: 28 × 28 of type int\n",
       "\n",
       "| 0 | 0 | 0 | 0 |   0 |   0 |   0 |   0 |   0 |   0 | ... |   0 |   0 |   0 |   0 |   0 |   0 | 0 | 0 | 0 | 0 |\n",
       "| 0 | 0 | 0 | 0 |   0 |   0 |   0 |   0 |   0 |   0 | ... |   0 |   0 |   0 |   0 |   0 |   0 | 0 | 0 | 0 | 0 |\n",
       "| 0 | 0 | 0 | 0 |   0 |   0 |   0 |   0 |   0 |   0 | ... |   0 |   0 |   0 |   0 |   0 |   0 | 0 | 0 | 0 | 0 |\n",
       "| 0 | 0 | 0 | 0 |   0 |   0 |   0 |   0 |   0 |   0 | ... |   0 |   0 |   0 |   0 |   0 |   0 | 0 | 0 | 0 | 0 |\n",
       "| 0 | 0 | 0 | 0 |   0 |   0 |   0 |   0 |   0 |   0 | ... |   0 |   0 |   0 |   0 |   0 |   0 | 0 | 0 | 0 | 0 |\n",
       "| 0 | 0 | 0 | 0 |   0 |   0 |   0 |   0 |   0 |   0 | ... | 175 |  26 | 166 | 255 | 247 | 127 | 0 | 0 | 0 | 0 |\n",
       "| 0 | 0 | 0 | 0 |   0 |   0 |   0 |   0 |  30 |  36 | ... | 225 | 172 | 253 | 242 | 195 |  64 | 0 | 0 | 0 | 0 |\n",
       "| 0 | 0 | 0 | 0 |   0 |   0 |   0 |  49 | 238 | 253 | ... |  93 |  82 |  82 |  56 |  39 |   0 | 0 | 0 | 0 | 0 |\n",
       "| 0 | 0 | 0 | 0 |   0 |   0 |   0 |  18 | 219 | 253 | ... |   0 |   0 |   0 |   0 |   0 |   0 | 0 | 0 | 0 | 0 |\n",
       "| 0 | 0 | 0 | 0 |   0 |   0 |   0 |   0 |  80 | 156 | ... |   0 |   0 |   0 |   0 |   0 |   0 | 0 | 0 | 0 | 0 |\n",
       "| 0 | 0 | 0 | 0 |   0 |   0 |   0 |   0 |   0 |  14 | ... |   0 |   0 |   0 |   0 |   0 |   0 | 0 | 0 | 0 | 0 |\n",
       "| 0 | 0 | 0 | 0 |   0 |   0 |   0 |   0 |   0 |   0 | ... |   0 |   0 |   0 |   0 |   0 |   0 | 0 | 0 | 0 | 0 |\n",
       "| 0 | 0 | 0 | 0 |   0 |   0 |   0 |   0 |   0 |   0 | ... |   0 |   0 |   0 |   0 |   0 |   0 | 0 | 0 | 0 | 0 |\n",
       "| 0 | 0 | 0 | 0 |   0 |   0 |   0 |   0 |   0 |   0 | ... |   0 |   0 |   0 |   0 |   0 |   0 | 0 | 0 | 0 | 0 |\n",
       "| 0 | 0 | 0 | 0 |   0 |   0 |   0 |   0 |   0 |   0 | ... |  25 |   0 |   0 |   0 |   0 |   0 | 0 | 0 | 0 | 0 |\n",
       "| 0 | 0 | 0 | 0 |   0 |   0 |   0 |   0 |   0 |   0 | ... | 150 |  27 |   0 |   0 |   0 |   0 | 0 | 0 | 0 | 0 |\n",
       "| 0 | 0 | 0 | 0 |   0 |   0 |   0 |   0 |   0 |   0 | ... | 253 | 187 |   0 |   0 |   0 |   0 | 0 | 0 | 0 | 0 |\n",
       "| 0 | 0 | 0 | 0 |   0 |   0 |   0 |   0 |   0 |   0 | ... | 253 | 249 |  64 |   0 |   0 |   0 | 0 | 0 | 0 | 0 |\n",
       "| 0 | 0 | 0 | 0 |   0 |   0 |   0 |   0 |   0 |   0 | ... | 253 | 207 |   2 |   0 |   0 |   0 | 0 | 0 | 0 | 0 |\n",
       "| 0 | 0 | 0 | 0 |   0 |   0 |   0 |   0 |   0 |   0 | ... | 250 | 182 |   0 |   0 |   0 |   0 | 0 | 0 | 0 | 0 |\n",
       "| 0 | 0 | 0 | 0 |   0 |   0 |   0 |   0 |   0 |   0 | ... |  78 |   0 |   0 |   0 |   0 |   0 | 0 | 0 | 0 | 0 |\n",
       "| 0 | 0 | 0 | 0 |   0 |   0 |   0 |   0 |  23 |  66 | ... |   0 |   0 |   0 |   0 |   0 |   0 | 0 | 0 | 0 | 0 |\n",
       "| 0 | 0 | 0 | 0 |   0 |   0 |  18 | 171 | 219 | 253 | ... |   0 |   0 |   0 |   0 |   0 |   0 | 0 | 0 | 0 | 0 |\n",
       "| 0 | 0 | 0 | 0 |  55 | 172 | 226 | 253 | 253 | 253 | ... |   0 |   0 |   0 |   0 |   0 |   0 | 0 | 0 | 0 | 0 |\n",
       "| 0 | 0 | 0 | 0 | 136 | 253 | 253 | 253 | 212 | 135 | ... |   0 |   0 |   0 |   0 |   0 |   0 | 0 | 0 | 0 | 0 |\n",
       "| 0 | 0 | 0 | 0 |   0 |   0 |   0 |   0 |   0 |   0 | ... |   0 |   0 |   0 |   0 |   0 |   0 | 0 | 0 | 0 | 0 |\n",
       "| 0 | 0 | 0 | 0 |   0 |   0 |   0 |   0 |   0 |   0 | ... |   0 |   0 |   0 |   0 |   0 |   0 | 0 | 0 | 0 | 0 |\n",
       "| 0 | 0 | 0 | 0 |   0 |   0 |   0 |   0 |   0 |   0 | ... |   0 |   0 |   0 |   0 |   0 |   0 | 0 | 0 | 0 | 0 |\n",
       "\n"
      ],
      "text/plain": [
       "      [,1] [,2] [,3] [,4] [,5] [,6] [,7] [,8] [,9] [,10] [,11] [,12] [,13]\n",
       " [1,] 0    0    0    0      0    0    0    0    0    0   ...     0     0  \n",
       " [2,] 0    0    0    0      0    0    0    0    0    0   ...     0     0  \n",
       " [3,] 0    0    0    0      0    0    0    0    0    0   ...     0     0  \n",
       " [4,] 0    0    0    0      0    0    0    0    0    0   ...     0     0  \n",
       " [5,] 0    0    0    0      0    0    0    0    0    0   ...     0     0  \n",
       " [6,] 0    0    0    0      0    0    0    0    0    0   ...   175    26  \n",
       " [7,] 0    0    0    0      0    0    0    0   30   36   ...   225   172  \n",
       " [8,] 0    0    0    0      0    0    0   49  238  253   ...    93    82  \n",
       " [9,] 0    0    0    0      0    0    0   18  219  253   ...     0     0  \n",
       "[10,] 0    0    0    0      0    0    0    0   80  156   ...     0     0  \n",
       "[11,] 0    0    0    0      0    0    0    0    0   14   ...     0     0  \n",
       "[12,] 0    0    0    0      0    0    0    0    0    0   ...     0     0  \n",
       "[13,] 0    0    0    0      0    0    0    0    0    0   ...     0     0  \n",
       "[14,] 0    0    0    0      0    0    0    0    0    0   ...     0     0  \n",
       "[15,] 0    0    0    0      0    0    0    0    0    0   ...    25     0  \n",
       "[16,] 0    0    0    0      0    0    0    0    0    0   ...   150    27  \n",
       "[17,] 0    0    0    0      0    0    0    0    0    0   ...   253   187  \n",
       "[18,] 0    0    0    0      0    0    0    0    0    0   ...   253   249  \n",
       "[19,] 0    0    0    0      0    0    0    0    0    0   ...   253   207  \n",
       "[20,] 0    0    0    0      0    0    0    0    0    0   ...   250   182  \n",
       "[21,] 0    0    0    0      0    0    0    0    0    0   ...    78     0  \n",
       "[22,] 0    0    0    0      0    0    0    0   23   66   ...     0     0  \n",
       "[23,] 0    0    0    0      0    0   18  171  219  253   ...     0     0  \n",
       "[24,] 0    0    0    0     55  172  226  253  253  253   ...     0     0  \n",
       "[25,] 0    0    0    0    136  253  253  253  212  135   ...     0     0  \n",
       "[26,] 0    0    0    0      0    0    0    0    0    0   ...     0     0  \n",
       "[27,] 0    0    0    0      0    0    0    0    0    0   ...     0     0  \n",
       "[28,] 0    0    0    0      0    0    0    0    0    0   ...     0     0  \n",
       "      [,14] [,15] [,16] [,17] [,18] [,19] [,20] [,21]\n",
       " [1,]   0     0     0     0   0     0     0     0    \n",
       " [2,]   0     0     0     0   0     0     0     0    \n",
       " [3,]   0     0     0     0   0     0     0     0    \n",
       " [4,]   0     0     0     0   0     0     0     0    \n",
       " [5,]   0     0     0     0   0     0     0     0    \n",
       " [6,] 166   255   247   127   0     0     0     0    \n",
       " [7,] 253   242   195    64   0     0     0     0    \n",
       " [8,]  82    56    39     0   0     0     0     0    \n",
       " [9,]   0     0     0     0   0     0     0     0    \n",
       "[10,]   0     0     0     0   0     0     0     0    \n",
       "[11,]   0     0     0     0   0     0     0     0    \n",
       "[12,]   0     0     0     0   0     0     0     0    \n",
       "[13,]   0     0     0     0   0     0     0     0    \n",
       "[14,]   0     0     0     0   0     0     0     0    \n",
       "[15,]   0     0     0     0   0     0     0     0    \n",
       "[16,]   0     0     0     0   0     0     0     0    \n",
       "[17,]   0     0     0     0   0     0     0     0    \n",
       "[18,]  64     0     0     0   0     0     0     0    \n",
       "[19,]   2     0     0     0   0     0     0     0    \n",
       "[20,]   0     0     0     0   0     0     0     0    \n",
       "[21,]   0     0     0     0   0     0     0     0    \n",
       "[22,]   0     0     0     0   0     0     0     0    \n",
       "[23,]   0     0     0     0   0     0     0     0    \n",
       "[24,]   0     0     0     0   0     0     0     0    \n",
       "[25,]   0     0     0     0   0     0     0     0    \n",
       "[26,]   0     0     0     0   0     0     0     0    \n",
       "[27,]   0     0     0     0   0     0     0     0    \n",
       "[28,]   0     0     0     0   0     0     0     0    "
      ]
     },
     "metadata": {},
     "output_type": "display_data"
    }
   ],
   "source": [
    "train_images[1,,]"
   ]
  },
  {
   "cell_type": "code",
   "execution_count": 8,
   "id": "5b01ee76-3299-4d7c-8597-cdc7f55eb0ba",
   "metadata": {},
   "outputs": [
    {
     "data": {
      "text/html": [
       "5"
      ],
      "text/latex": [
       "5"
      ],
      "text/markdown": [
       "5"
      ],
      "text/plain": [
       "[1] 5"
      ]
     },
     "metadata": {},
     "output_type": "display_data"
    }
   ],
   "source": [
    "train_labels[1]"
   ]
  },
  {
   "cell_type": "code",
   "execution_count": 9,
   "id": "0588dc0c-b5d7-41b1-ac9e-8da237fefac6",
   "metadata": {},
   "outputs": [
    {
     "name": "stdout",
     "output_type": "stream",
     "text": [
      " int [1:60000(1d)] 5 0 4 1 9 2 1 3 1 4 ...\n"
     ]
    }
   ],
   "source": [
    "str(train_labels)"
   ]
  },
  {
   "cell_type": "code",
   "execution_count": 10,
   "id": "6161a0c3-614c-4184-b3cb-732b23039724",
   "metadata": {},
   "outputs": [
    {
     "name": "stdout",
     "output_type": "stream",
     "text": [
      " int [1:10000, 1:28, 1:28] 0 0 0 0 0 0 0 0 0 0 ...\n"
     ]
    }
   ],
   "source": [
    "str(test_images)"
   ]
  },
  {
   "cell_type": "markdown",
   "id": "4dfcc7f7-0520-4eb5-883a-8e188e86ef63",
   "metadata": {},
   "source": [
    "The workflow will be as follows: first we'll feed the neural network the\n",
    "training data, `train_images` and `train_labels`. The network will then learn to\n",
    "associate images and labels. Finally, we'll ask the network to produce\n",
    "predictions for `test_images`, and we'll verify whether these predictions match\n",
    "the labels from `test_labels`.\n",
    "\n",
    "Let's build the network -- again, remember that you aren't supposed to\n",
    "understand everything about this example yet.\n"
   ]
  },
  {
   "cell_type": "code",
   "execution_count": 11,
   "id": "fcb5607b-caec-4872-8e05-953b2d0b9167",
   "metadata": {},
   "outputs": [],
   "source": [
    "network <- keras_model_sequential() %>% \n",
    "  layer_dense(units = 512, \n",
    "              activation = \"relu\", \n",
    "              input_shape = c(28 * 28)) %>% \n",
    "  layer_dense(units = 10, \n",
    "              activation = \"softmax\")"
   ]
  },
  {
   "cell_type": "markdown",
   "id": "09e5a2c8-fe3d-424e-a260-5b88afc73e20",
   "metadata": {},
   "source": [
    "The core building block of neural networks is the _layer_, a data-processing\n",
    "module that you can think of as a filter for data. Some data comes in, and it\n",
    "comes out in a more useful form. Specifically, layers extract _representations_\n",
    "out of the data fed into them—hopefully representations that are more meaningful\n",
    "for the problem at hand. Most of deep learning consists of chaining together\n",
    "simple layers that will implement a form of progressive _data distillation_. A\n",
    "deep-learning model is like a sieve for data processing, made of a succession of\n",
    "increasingly refined data filters—the layers.\n",
    "\n",
    "Here our network consists of a sequence of two layers, which are densely\n",
    "connected (also called _fully connected_) neural layers. The second (and last)\n",
    "layer is a 10-way _softmax_ layer, which means it will return an array of 10\n",
    "probability scores (summing to 1). Each score will be the probability that the\n",
    "current digit image belongs to one of our 10 digit classes.\n",
    "\n",
    "To make the network ready for training, we need to pick three more things, as\n",
    "part of the _compilation_ step:\n",
    "\n",
    "- _A loss function_—How the network will be able to measure how good a job it's\n",
    "  doing on its training data, and thus how it will be able to steer itself in\n",
    "  the right direction.\n",
    "- _An optimizer_—The mechanism through which the network will update itself\n",
    "  based on the data it sees and its loss function.\n",
    "- _Metrics to monitor during training and testing_—Here we'll only care about\n",
    "  accuracy (the fraction of the images that were correctly classified).\n",
    "\n",
    "The exact purpose of the loss function and the optimizer will be made clear\n",
    "throughout the next two chapters.\n"
   ]
  },
  {
   "cell_type": "code",
   "execution_count": 12,
   "id": "273a99c1-c8bc-4255-9553-4c416402bc15",
   "metadata": {},
   "outputs": [],
   "source": [
    "network %>% compile(\n",
    "  optimizer = \"rmsprop\",\n",
    "  loss = \"categorical_crossentropy\",\n",
    "  metrics = c(\"accuracy\")\n",
    ")"
   ]
  },
  {
   "cell_type": "markdown",
   "id": "fc4c7c71-a448-4f44-b763-65b6608faa30",
   "metadata": {},
   "source": [
    "Before training, we'll preprocess the data by reshaping it into the shape the\n",
    "network expects and scaling it so that all values are in the `[0, 1]` interval.\n",
    "Previously, our training images, for instance, were stored in an array of shape\n",
    "`(60000, 28, 28)` of type integer with values in the `[0, 255]` interval. We\n",
    "transform it into a double array of shape `(60000, 28 * 28)` with values between\n",
    "0 and 1.\n"
   ]
  },
  {
   "cell_type": "code",
   "execution_count": 14,
   "id": "01bea4b1-dd33-40e1-b254-393ee5ca3a6e",
   "metadata": {},
   "outputs": [
    {
     "ename": "ERROR",
     "evalue": "Error in train_images < -array_reshape(train_images, c(60000, 28 * 28)): arreglos de dimensón no compatibles\n",
     "output_type": "error",
     "traceback": [
      "Error in train_images < -array_reshape(train_images, c(60000, 28 * 28)): arreglos de dimensón no compatibles\nTraceback:\n"
     ]
    }
   ],
   "source": [
    "train_images < -array_reshape(train_images, c(60000, 28 * 28))\n",
    "train_images < -train_images / 255\n",
    "\n",
    "test_images < -array_reshape(test_images, c(10000, 28 * 28))\n",
    "test_images < -test_images / 255"
   ]
  },
  {
   "cell_type": "markdown",
   "id": "22a6d5fa-f08a-4062-ba07-363bd94f71b0",
   "metadata": {
    "tags": []
   },
   "source": [
    "We also need to categorically encode the labels, a step which we explain in\n",
    "chapter 3:\n"
   ]
  },
  {
   "cell_type": "code",
   "execution_count": 15,
   "id": "5501abf7-af46-4d80-89f7-15ab7754f4bd",
   "metadata": {},
   "outputs": [
    {
     "ename": "ERROR",
     "evalue": "Error in (structure(function (x, num_classes = NULL) : unused arguments (y = c(5, 0, 4, 1, 9, 2, 1, 3, 1, 4, 3, 5, 3, 6, 1, 7, 2, 8, 6, 9, 4, 0, 9, 1, 1, 2, 4, 3, 2, 7, 3, 8, 6, 9, 0, 5, 6, 0, 7, 6, 1, 8, 7, 9, 3, 9, 8, 5, 9, 3, 3, 0, 7, 4, 9, 8, 0, 9, 4, 1, 4, 4, 6, 0, 4, 5, 6, 1, 0, 0, 1, 7, 1, 6, 3, 0, 2, 1, 1, 7, 9, 0, 2, 6, 7, 8, 3, 9, 0, 4, 6, 7, 4, 6, 8, 0, 7, 8, 3, 1, 5, 7, 1, 7, 1, 1, 6, 3, 0, 2, 9, 3, 1, 1, 0, 4, 9, 2, 0, 0, 2, 0, 2, 7, 1, 8, 6, 4, 1, 6, 3, 4, 5, 9, 1, 3, 3, 8, 5, 4, 7, 7, 4, 2, 8, 5, 8, 6, 7, 3, 4, 6, 1, 9, 9, 6, 0, 3, 7, 2, 8, 2, \n9, 4, 4, 6, 4, 9, 7, 0, 9, 2, 9, 5, 1, 5, 9, 1, 2, 3, 2, 3, 5, 9, 1, 7, 6, 2, 8, 2, 2, 5, 0, 7, 4, 9, 7, 8, 3, 2, 1, 1, 8, 3, 6, 1, 0, 3, 1, 0, 0, 1, 7, 2, 7, 3, 0, 4, 6, 5, 2, 6, 4, 7, 1, 8, 9, 9, 3, 0, 7, 1, 0, 2, 0, 3, 5, 4, 6, 5, 8, 6, 3, 7, 5, 8, 0, 9, 1, 0, 3, 1, 2, 2, 3, 3, 6, 4, 7, 5, 0, 6, 2, 7, 9, 8, 5, 9, 2, 1, 1, 4, 4, 5, 6, 4, 1, 2, 5, 3, 9, 3, 9, 0, 5, 9, 6, 5, 7, 4, 1, 3, 4, 0, 4, 8, 0, 4, 3, 6, 8, 7, 6, 0, 9, 7, 5, 7, 2, 1, 1, 6, 8, 9, 4, 1, 5, 2, 2, 9, 0, 3, 9, 6, 7, 2, 0, 3, 5, \n4, 3, 6, 5, 8, 9, 5, 4, 7, 4, 2, 7, 3, 4, 8, 9, 1, 9, 2, 8, 7, 9, 1, 8, 7, 4, 1, 3, 1, 1, 0, 2, 3, 9, 4, 9, 2, 1, 6, 8, 4, 7, 7, 4, 4, 9, 2, 5, 7, 2, 4, 4, 2, 1, 9, 7, 2, 8, 7, 6, 9, 2, 2, 3, 8, 1, 6, 5, 1, 1, 0, 2, 6, 4, 5, 8, 3, 1, 5, 1, 9, 2, 7, 4, 4, 4, 8, 1, 5, 8, 9, 5, 6, 7, 9, 9, 3, 7, 0, 9, 0, 6, 6, 2, 3, 9, 0, 7, 5, 4, 8, 0, 9, 4, 1, 2, 8, 7, 1, 2, 6, 1, 0, 3, 0, 1, 1, 8, 2, 0, 3, 9, 4, 0, 5, 0, 6, 1, 7, 7, 8, 1, 9, 2, 0, 5, 1, 2, 2, 7, 3, 5, 4, 9, 7, 1, 8, 3, 9, 6, 0, 3, 1, 1, 2, 6, 3, \n5, 7, 6, 8, 3, 9, 5, 8, 5, 7, 6, 1, 1, 3, 1, 7, 5, 5, 5, 2, 5, 8, 7, 0, 9, 7, 7, 5, 0, 9, 0, 0, 8, 9, 2, 4, 8, 1, 6, 1, 6, 5, 1, 8, 3, 4, 0, 5, 5, 8, 3, 6, 2, 3, 9, 2, 1, 1, 5, 2, 1, 3, 2, 8, 7, 3, 7, 2, 4, 6, 9, 7, 2, 4, 2, 8, 1, 1, 3, 8, 4, 0, 6, 5, 9, 3, 0, 9, 2, 4, 7, 1, 2, 9, 4, 2, 6, 1, 8, 9, 0, 6, 6, 7, 9, 9, 8, 0, 1, 4, 4, 6, 7, 1, 5, 7, 0, 3, 5, 8, 4, 7, 1, 2, 5, 9, 5, 6, 7, 5, 9, 8, 8, 3, 6, 9, 7, 0, 7, 5, 7, 1, 1, 0, 7, 9, 2, 3, 7, 3, 2, 4, 1, 6, 2, 7, 5, 5, 7, 4, 0, 2, 6, 3, 6, 4, 0, \n4, 2, 6, 0, 0, 0, 0, 3, 1, 6, 2, 2, 3, 1, 4, 1, 5, 4, 6, 4, 7, 2, 8, 7, 9, 2, 0, 5, 1, 4, 2, 8, 3, 2, 4, 1, 5, 4, 6, 0, 7, 9, 8, 4, 9, 8, 0, 1, 1, 0, 2, 2, 3, 2, 4, 4, 5, 8, 6, 5, 7, 7, 8, 8, 9, 7, 4, 7, 3, 2, 0, 8, 6, 8, 6, 1, 6, 8, 9, 4, 0, 9, 0, 4, 1, 5, 4, 7, 5, 3, 7, 4, 9, 8, 5, 8, 6, 3, 8, 6, 9, 9, 1, 8, 3, 5, 8, 6, 5, 9, 7, 2, 5, 0, 8, 5, 1, 1, 0, 9, 1, 8, 6, 7, 0, 9, 3, 0, 8, 8, 9, 6, 7, 8, 4, 7, 5, 9, 2, 6, 7, 4, 5, 9, 2, 3, 1, 6, 3, 9, 2, 2, 5, 6, 8, 0, 7, 7, 1, 9, 8, 7, 0, 9, 9, 4, 6, \n2, 8, 5, 1, 4, 1, 5, 5, 1, 7, 3, 6, 4, 3, 2, 5, 6, 4, 4, 0, 4, 4, 6, 7, 2, 4, 3, 3, 8, 0, 0, 3, 2, 2, 9, 8, 2, 3, 7, 0, 1, 1, 0, 2, 3, 3, 8, 4, 3, 5, 7, 6, 4, 7, 7, 8, 5, 9, 7, 0, 3, 1, 6, 2, 4, 3, 4, 4, 7, 5, 9, 6, 9, 0, 7, 1, 4, 2, 7, 3, 6, 7, 5, 8, 4, 5, 5, 2, 7, 1, 1, 5, 6, 8, 5, 8, 4, 0, 7, 9, 9, 2, 9, 7, 7, 8, 7, 4, 2, 6, 9, 1, 7, 0, 6, 4, 2, 5, 7, 0, 7, 1, 0, 3, 7, 6, 5, 0, 6, 1, 5, 1, 7, 8, 5, 0, 3, 4, 7, 7, 5, 7, 8, 6, 9, 3, 8, 6, 1, 0, 9, 7, 1, 3, 0, 5, 6, 4, 4, 2, 4, 4, 3, 1, 7, 7, 6, \n0, 3, 6, 0, 7, 1, 1, 4, 9, 4, 3, 4, 8, 2, 2, 1, 8, 7, 0, 8, 1, 0, 7, 6, 3, 7, 7, 5, 8, 8, 9, 0, 0, 4, 1, 5, 2, 2, 3, 9, 4, 9, 5, 0, 6, 7, 7, 1, 8, 0, 2, 2, 0, 4, 1, 1, 2, 7, 3, 9, 7, 2, 8, 1, 9, 5, 8, 8, 1, 9, 8, 3, 1, 6, 5, 7, 4, 2, 7, 0, 3, 0, 4, 1, 1, 7, 9, 1, 1, 8, 5, 7, 5, 0, 6, 6, 0, 4, 1, 2, 3, 4, 4, 6, 8, 0, 9, 5, 8, 7, 0, 3, 5, 4, 5, 9, 6, 7, 1, 9, 6, 1, 3, 8, 3, 9, 1, 2, 7, 7, 7, 0, 2, 3, 1, 1, 4, 2, 5, 6, 0, 9, 6, 2, 8, 9, 2, 3, 3, 6, 9, 1, 4, 3, 3, 0, 7, 7, 1, 7, 7, 3, 6, 4, 9, 5, 4, \n4, 2, 7, 9, 0, 9, 8, 4, 4, 9, 1, 2, 4, 9, 3, 0, 4, 1, 6, 2, 6, 3, 7, 4, 2, 6, 6, 7, 1, 8, 9, 0, 4, 1, 4, 2, 1, 3, 6, 4, 6, 7, 5, 8, 7, 0, 5, 1, 4, 2, 8, 4, 7, 7, 3, 8, 4, 9, 5, 8, 6, 7, 3, 4, 6, 7, 1, 7, 4, 3, 3, 9, 8, 8, 1, 8, 6, 3, 1, 1, 3, 5, 2, 8, 4, 2, 9, 7, 1, 4, 8, 2, 9, 6, 4, 1, 3, 4, 2, 5, 2, 5, 6, 8, 0, 6, 2, 4, 9, 4, 9, 4, 5, 1, 5, 8, 4, 7, 9, 5, 9, 5, 9, 1, 5, 8, 3, 9, 9, 1, 8, 3, 8, 6, 5, 2, 7, 2, 7, 6, 0, 9, 7, 9, 4, 6, 0, 5, 3, 5, 7, 3, 9, 3, 6, 8, 3, 1, 7, 6, 5, 5, 7, 6, 5, 8, 2, \n1, 7, 9, 2, 7, 3, 6, 7, 8, 5, 3, 7, 7, 8, 4, 0, 7, 3, 0, 6, 3, 9, 7, 1, 9, 5, 3, 6, 0, 9, 2, 8, 0, 9, 1, 6, 0, 0, 1, 9, 0, 0, 4, 2, 1, 7, 0, 3, 4, 4, 7, 5, 9, 8, 2, 0, 0, 8, 6, 2, 2, 7, 6, 1, 2, 9, 2, 6, 9, 7, 9, 5, 0, 8, 1, 5, 2, 4, 3, 9, 4, 7, 5, 6, 6, 7, 7, 6, 8, 5, 9, 7, 0, 6, 1, 9, 2, 3, 3, 5, 4, 3, 5, 8, 6, 3, 7, 2, 8, 4, 9, 5, 0, 2, 1, 4, 2, 4, 3, 1, 7, 1, 8, 0, 9, 6, 8, 1, 9, 4, 4, 9, 1, 8, 9, 6, 5, 5, 3, 3, 0, 1, 4, 3, 8, 3, 4, 2, 0, 7, 5, 5, 1, 8, 5, 3, 4, 6, 0, 5, 7, 2, 6, 6, 0, 1, 1, \n4, 7, 9, 0, 0, 6, 6, 8, 6, 9, 4, 5, 2, 4, 0, 7, 5, 6, 5, 0, 9, 8, 6, 1, 9, 7, 5, 7, 5, 1, 1, 3, 0, 2, 0, 3, 8, 1, 6, 4, 6, 2, 6, 4, 8, 8, 1, 4, 4, 7, 1, 2, 2, 3, 9, 6, 4, 9, 5, 6, 2, 3, 9, 2, 6, 2, 7, 4, 3, 6, 4, 9, 7, 0, 2, 2, 9, 5, 4, 5, 0, 1, 4, 3, 6, 3, 2, 9, 7, 5, 3, 7, 0, 9, 5, 8, 3, 2, 0, 1, 8, 3, 0, 1, 2, 3, 4, 0, 0, 1, 7, 2, 9, 3, 9, 4, 2, 5, 8, 6, 7, 7, 9, 8, 9, 9, 2, 0, 0, 1, 4, 2, 4, 3, 9, 4, 3, 5, 7, 6, 5, 7, 1, 8, 6, 9, 3, 0, 4, 1, 2, 2, 5, 3, 7, 4, 1, 7, 7, 8, 1, 9, 2, 3, 2, 4, 0, \n1, 8, 4, 3, 6, 5, 6, 4, 7, 9, 3, 1, 3, 0, 2, 1, 1, 0, 9, 9, 4, 6, 7, 6, 3, 5, 5, 4, 4, 6, 9, 1, 1, 3, 1, 1, 0, 5, 1, 4, 4, 6, 6, 6, 0, 1, 2, 0, 8, 2, 2, 1, 1, 3, 7, 9, 5, 3, 0, 2, 0, 6, 2, 9, 0, 7, 6, 9, 9, 1, 2, 9, 3, 4, 7, 9, 6, 0, 9, 4, 8, 7, 7, 9, 8, 6, 9, 5, 2, 2, 2, 3, 9, 8, 8, 8, 6, 4, 4, 4, 4, 2, 4, 6, 0, 7, 0, 7, 8, 2, 0, 8, 8, 3, 6, 8, 6, 6, 8, 6, 5, 1, 1, 8, 7, 8, 3, 6, 8, 9, 5, 0, 0, 0, 3, 2, 6, 6, 7, 8, 3, 5, 1, 4, 3, 5, 9, 4, 5, 4, 1, 1, 5, 4, 0, 9, 7, 1, 2, 5, 7, 9, 4, 0, 3, 6, 1, \n7, 7, 5, 6, 3, 0, 1, 1, 4, 2, 4, 3, 6, 4, 7, 5, 7, 6, 9, 7, 2, 8, 4, 9, 8, 0, 7, 1, 1, 2, 3, 3, 5, 4, 6, 5, 0, 6, 3, 7, 3, 8, 2, 9, 0, 0, 9, 1, 2, 2, 9, 3, 9, 4, 6, 5, 2, 6, 6, 7, 6, 8, 2, 9, 2, 0, 6, 7, 2, 8, 6, 9, 0, 9, 6, 0, 3, 1, 1, 4, 9, 5, 8, 1, 0, 6, 6, 7, 2, 3, 4, 2, 3, 9, 0, 0, 4, 5, 0, 6, 4, 7, 4, 3, 1, 9, 3, 9, 9, 3, 1, 8, 7, 1, 7, 2, 8, 9, 9, 6, 2, 7, 2, 5, 0, 6, 7, 3, 9, 5, 9, 0, 8, 5, 8, 4, 9, 0, 5, 3, 2, 4, 8, 7, 4, 1, 5, 4, 6, 3, 7, 7, 9, 6, 6, 2, 2, 1, 6, 5, 4, 5, 3, 0, 5, 5, 2, \n0, 5, 8, 8, 4, 2, 6, 9, 7, 1, 0, 2, 3, 1, 8, 7, 1, 8, 2, 7, 2, 6, 3, 2, 3, 7, 6, 8, 7, 5, 3, 8, 4, 4, 9, 4, 6, 4, 5, 5, 1, 1, 9, 3, 8, 6, 1, 4, 1, 7, 5, 4, 0, 4, 2, 7, 7, 5, 8, 0, 6, 9, 6, 6, 8, 7, 2, 0, 8, 8, 4, 8, 4, 4, 2, 3, 2, 3, 8, 2, 0, 5, 0, 0, 1, 0, 2, 1, 3, 3, 4, 7, 5, 3, 6, 1, 7, 6, 8, 3, 9, 0, 0, 7, 1, 2, 2, 4, 3, 7, 4, 1, 5, 0, 6, 3, 7, 9, 8, 7, 9, 5, 0, 1, 1, 8, 2, 6, 3, 3, 4, 3, 5, 3, 7, 1, 8, 1, 9, 6, 8, 9, 9, 7, 5, 0, 7, 3, 0, 6, 3, 8, 1, 6, 6, 1, 8, 6, 4, 6, 1, 0, 7, 1, 6, 4, 5, \n1, 6, 7, 4, 8, 2, 5, 7, 3, 8, 4, 1, 6, 3, 3, 4, 5, 3, 2, 4, 5, 7, 1, 2, 4, 0, 0, 5, 8, 0, 6, 1, 1, 9, 3, 2, 1, 3, 4, 2, 4, 3, 4, 5, 8, 5, 6, 7, 6, 8, 9, 4, 0, 9, 4, 9, 4, 7, 4, 1, 6, 1, 3, 7, 3, 8, 3, 3, 2, 4, 4, 8, 7, 6, 4, 3, 6, 8, 7, 0, 7, 9, 5, 6, 5, 2, 3, 0, 4, 1, 4, 0, 5, 6, 1, 2, 6, 3, 4, 8, 5, 9, 5, 0, 2, 7, 5, 2, 9, 3, 4, 4, 0, 5, 2, 5, 5, 2, 9, 8, 3, 5, 2, 4, 4, 6, 7, 6, 4, 6, 6, 7, 0, 9, 6, 1, 8, 8, 5, 2, 1, 1, 5, 2, 0, 6, 9, 5, 2, 3, 1, 4, 1, 7, 6, 9, 2, 4, 6, 0, 1, 0, 5, 5, 5, 9, 2, \n0, 4, 1, 1, 2, 4, 3, 0, 4, 2, 5, 7, 6, 2, 7, 7, 8, 3, 9, 0, 0, 2, 1, 1, 2, 8, 3, 4, 4, 1, 5, 9, 6, 1, 7, 5, 8, 9, 9, 6, 0, 1, 1, 7, 2, 8, 3, 7, 7, 8, 8, 8, 9, 7, 6, 8, 2, 4, 7, 4, 1, 8, 5, 0, 6, 9, 2, 8, 5, 2, 0, 0, 5, 4, 4, 3, 2, 1, 0, 5, 8, 5, 1, 4, 7, 2, 1, 4, 8, 6, 3, 4, 8, 1, 7, 5, 1, 3, 7, 1, 7, 9, 0, 0, 1, 9, 4, 0, 4, 8, 4, 8, 5, 1, 7, 1, 4, 2, 4, 4, 9, 2, 7, 3, 2, 4, 6, 9, 5, 1, 3, 2, 9, 4, 4, 3, 3, 6, 9, 2, 0, 6, 8, 8, 7, 5, 6, 6, 3, 8, 0, 4, 4, 6, 6, 7, 3, 4, 7, 7, 0, 6, 1, 6, 1, 6, 2, \n0, 9, 7, 3, 6, 1, 3, 8, 2, 9, 2, 8, 7, 2, 9, 5, 6, 2, 2, 6, 4, 9, 7, 6, 3, 0, 0, 5, 0, 3, 1, 3, 0, 6, 2, 3, 3, 5, 0, 0, 7, 3, 4, 7, 5, 6, 4, 1, 4, 5, 2, 5, 1, 9, 5, 8, 6, 0, 7, 9, 4, 0, 9, 1, 3, 2, 5, 3, 3, 4, 6, 5, 1, 6, 7, 7, 7, 8, 4, 9, 3, 0, 0, 1, 0, 2, 0, 3, 6, 4, 6, 7, 5, 8, 1, 9, 4, 0, 8, 1, 9, 2, 6, 3, 1, 5, 0, 6, 4, 7, 8, 8, 7, 9, 6, 0, 1, 0, 7, 1, 5, 0, 5, 1, 0, 2, 2, 3, 8, 0, 1, 6, 3, 9, 7, 6, 8, 6, 6, 5, 9, 2, 0, 9, 6, 1, 5, 4, 2, 9, 7, 5, 3, 7, 1, 5, 6, 6, 7, 7, 3, 3, 6, 1, 2, 4, 7, \n1, 8, 3, 2, 3, 8, 7, 5, 3, 7, 9, 8, 8, 6, 8, 8, 8, 2, 8, 4, 8, 1, 4, 5, 7, 1, 2, 2, 1, 9, 9, 5, 8, 2, 7, 9, 9, 7, 3, 7, 3, 1, 0, 6, 7, 9, 5, 2, 4, 1,\n",
     "output_type": "error",
     "traceback": [
      "Error in (structure(function (x, num_classes = NULL) : unused arguments (y = c(5, 0, 4, 1, 9, 2, 1, 3, 1, 4, 3, 5, 3, 6, 1, 7, 2, 8, 6, 9, 4, 0, 9, 1, 1, 2, 4, 3, 2, 7, 3, 8, 6, 9, 0, 5, 6, 0, 7, 6, 1, 8, 7, 9, 3, 9, 8, 5, 9, 3, 3, 0, 7, 4, 9, 8, 0, 9, 4, 1, 4, 4, 6, 0, 4, 5, 6, 1, 0, 0, 1, 7, 1, 6, 3, 0, 2, 1, 1, 7, 9, 0, 2, 6, 7, 8, 3, 9, 0, 4, 6, 7, 4, 6, 8, 0, 7, 8, 3, 1, 5, 7, 1, 7, 1, 1, 6, 3, 0, 2, 9, 3, 1, 1, 0, 4, 9, 2, 0, 0, 2, 0, 2, 7, 1, 8, 6, 4, 1, 6, 3, 4, 5, 9, 1, 3, 3, 8, 5, 4, 7, 7, 4, 2, 8, 5, 8, 6, 7, 3, 4, 6, 1, 9, 9, 6, 0, 3, 7, 2, 8, 2, \n9, 4, 4, 6, 4, 9, 7, 0, 9, 2, 9, 5, 1, 5, 9, 1, 2, 3, 2, 3, 5, 9, 1, 7, 6, 2, 8, 2, 2, 5, 0, 7, 4, 9, 7, 8, 3, 2, 1, 1, 8, 3, 6, 1, 0, 3, 1, 0, 0, 1, 7, 2, 7, 3, 0, 4, 6, 5, 2, 6, 4, 7, 1, 8, 9, 9, 3, 0, 7, 1, 0, 2, 0, 3, 5, 4, 6, 5, 8, 6, 3, 7, 5, 8, 0, 9, 1, 0, 3, 1, 2, 2, 3, 3, 6, 4, 7, 5, 0, 6, 2, 7, 9, 8, 5, 9, 2, 1, 1, 4, 4, 5, 6, 4, 1, 2, 5, 3, 9, 3, 9, 0, 5, 9, 6, 5, 7, 4, 1, 3, 4, 0, 4, 8, 0, 4, 3, 6, 8, 7, 6, 0, 9, 7, 5, 7, 2, 1, 1, 6, 8, 9, 4, 1, 5, 2, 2, 9, 0, 3, 9, 6, 7, 2, 0, 3, 5, \n4, 3, 6, 5, 8, 9, 5, 4, 7, 4, 2, 7, 3, 4, 8, 9, 1, 9, 2, 8, 7, 9, 1, 8, 7, 4, 1, 3, 1, 1, 0, 2, 3, 9, 4, 9, 2, 1, 6, 8, 4, 7, 7, 4, 4, 9, 2, 5, 7, 2, 4, 4, 2, 1, 9, 7, 2, 8, 7, 6, 9, 2, 2, 3, 8, 1, 6, 5, 1, 1, 0, 2, 6, 4, 5, 8, 3, 1, 5, 1, 9, 2, 7, 4, 4, 4, 8, 1, 5, 8, 9, 5, 6, 7, 9, 9, 3, 7, 0, 9, 0, 6, 6, 2, 3, 9, 0, 7, 5, 4, 8, 0, 9, 4, 1, 2, 8, 7, 1, 2, 6, 1, 0, 3, 0, 1, 1, 8, 2, 0, 3, 9, 4, 0, 5, 0, 6, 1, 7, 7, 8, 1, 9, 2, 0, 5, 1, 2, 2, 7, 3, 5, 4, 9, 7, 1, 8, 3, 9, 6, 0, 3, 1, 1, 2, 6, 3, \n5, 7, 6, 8, 3, 9, 5, 8, 5, 7, 6, 1, 1, 3, 1, 7, 5, 5, 5, 2, 5, 8, 7, 0, 9, 7, 7, 5, 0, 9, 0, 0, 8, 9, 2, 4, 8, 1, 6, 1, 6, 5, 1, 8, 3, 4, 0, 5, 5, 8, 3, 6, 2, 3, 9, 2, 1, 1, 5, 2, 1, 3, 2, 8, 7, 3, 7, 2, 4, 6, 9, 7, 2, 4, 2, 8, 1, 1, 3, 8, 4, 0, 6, 5, 9, 3, 0, 9, 2, 4, 7, 1, 2, 9, 4, 2, 6, 1, 8, 9, 0, 6, 6, 7, 9, 9, 8, 0, 1, 4, 4, 6, 7, 1, 5, 7, 0, 3, 5, 8, 4, 7, 1, 2, 5, 9, 5, 6, 7, 5, 9, 8, 8, 3, 6, 9, 7, 0, 7, 5, 7, 1, 1, 0, 7, 9, 2, 3, 7, 3, 2, 4, 1, 6, 2, 7, 5, 5, 7, 4, 0, 2, 6, 3, 6, 4, 0, \n4, 2, 6, 0, 0, 0, 0, 3, 1, 6, 2, 2, 3, 1, 4, 1, 5, 4, 6, 4, 7, 2, 8, 7, 9, 2, 0, 5, 1, 4, 2, 8, 3, 2, 4, 1, 5, 4, 6, 0, 7, 9, 8, 4, 9, 8, 0, 1, 1, 0, 2, 2, 3, 2, 4, 4, 5, 8, 6, 5, 7, 7, 8, 8, 9, 7, 4, 7, 3, 2, 0, 8, 6, 8, 6, 1, 6, 8, 9, 4, 0, 9, 0, 4, 1, 5, 4, 7, 5, 3, 7, 4, 9, 8, 5, 8, 6, 3, 8, 6, 9, 9, 1, 8, 3, 5, 8, 6, 5, 9, 7, 2, 5, 0, 8, 5, 1, 1, 0, 9, 1, 8, 6, 7, 0, 9, 3, 0, 8, 8, 9, 6, 7, 8, 4, 7, 5, 9, 2, 6, 7, 4, 5, 9, 2, 3, 1, 6, 3, 9, 2, 2, 5, 6, 8, 0, 7, 7, 1, 9, 8, 7, 0, 9, 9, 4, 6, \n2, 8, 5, 1, 4, 1, 5, 5, 1, 7, 3, 6, 4, 3, 2, 5, 6, 4, 4, 0, 4, 4, 6, 7, 2, 4, 3, 3, 8, 0, 0, 3, 2, 2, 9, 8, 2, 3, 7, 0, 1, 1, 0, 2, 3, 3, 8, 4, 3, 5, 7, 6, 4, 7, 7, 8, 5, 9, 7, 0, 3, 1, 6, 2, 4, 3, 4, 4, 7, 5, 9, 6, 9, 0, 7, 1, 4, 2, 7, 3, 6, 7, 5, 8, 4, 5, 5, 2, 7, 1, 1, 5, 6, 8, 5, 8, 4, 0, 7, 9, 9, 2, 9, 7, 7, 8, 7, 4, 2, 6, 9, 1, 7, 0, 6, 4, 2, 5, 7, 0, 7, 1, 0, 3, 7, 6, 5, 0, 6, 1, 5, 1, 7, 8, 5, 0, 3, 4, 7, 7, 5, 7, 8, 6, 9, 3, 8, 6, 1, 0, 9, 7, 1, 3, 0, 5, 6, 4, 4, 2, 4, 4, 3, 1, 7, 7, 6, \n0, 3, 6, 0, 7, 1, 1, 4, 9, 4, 3, 4, 8, 2, 2, 1, 8, 7, 0, 8, 1, 0, 7, 6, 3, 7, 7, 5, 8, 8, 9, 0, 0, 4, 1, 5, 2, 2, 3, 9, 4, 9, 5, 0, 6, 7, 7, 1, 8, 0, 2, 2, 0, 4, 1, 1, 2, 7, 3, 9, 7, 2, 8, 1, 9, 5, 8, 8, 1, 9, 8, 3, 1, 6, 5, 7, 4, 2, 7, 0, 3, 0, 4, 1, 1, 7, 9, 1, 1, 8, 5, 7, 5, 0, 6, 6, 0, 4, 1, 2, 3, 4, 4, 6, 8, 0, 9, 5, 8, 7, 0, 3, 5, 4, 5, 9, 6, 7, 1, 9, 6, 1, 3, 8, 3, 9, 1, 2, 7, 7, 7, 0, 2, 3, 1, 1, 4, 2, 5, 6, 0, 9, 6, 2, 8, 9, 2, 3, 3, 6, 9, 1, 4, 3, 3, 0, 7, 7, 1, 7, 7, 3, 6, 4, 9, 5, 4, \n4, 2, 7, 9, 0, 9, 8, 4, 4, 9, 1, 2, 4, 9, 3, 0, 4, 1, 6, 2, 6, 3, 7, 4, 2, 6, 6, 7, 1, 8, 9, 0, 4, 1, 4, 2, 1, 3, 6, 4, 6, 7, 5, 8, 7, 0, 5, 1, 4, 2, 8, 4, 7, 7, 3, 8, 4, 9, 5, 8, 6, 7, 3, 4, 6, 7, 1, 7, 4, 3, 3, 9, 8, 8, 1, 8, 6, 3, 1, 1, 3, 5, 2, 8, 4, 2, 9, 7, 1, 4, 8, 2, 9, 6, 4, 1, 3, 4, 2, 5, 2, 5, 6, 8, 0, 6, 2, 4, 9, 4, 9, 4, 5, 1, 5, 8, 4, 7, 9, 5, 9, 5, 9, 1, 5, 8, 3, 9, 9, 1, 8, 3, 8, 6, 5, 2, 7, 2, 7, 6, 0, 9, 7, 9, 4, 6, 0, 5, 3, 5, 7, 3, 9, 3, 6, 8, 3, 1, 7, 6, 5, 5, 7, 6, 5, 8, 2, \n1, 7, 9, 2, 7, 3, 6, 7, 8, 5, 3, 7, 7, 8, 4, 0, 7, 3, 0, 6, 3, 9, 7, 1, 9, 5, 3, 6, 0, 9, 2, 8, 0, 9, 1, 6, 0, 0, 1, 9, 0, 0, 4, 2, 1, 7, 0, 3, 4, 4, 7, 5, 9, 8, 2, 0, 0, 8, 6, 2, 2, 7, 6, 1, 2, 9, 2, 6, 9, 7, 9, 5, 0, 8, 1, 5, 2, 4, 3, 9, 4, 7, 5, 6, 6, 7, 7, 6, 8, 5, 9, 7, 0, 6, 1, 9, 2, 3, 3, 5, 4, 3, 5, 8, 6, 3, 7, 2, 8, 4, 9, 5, 0, 2, 1, 4, 2, 4, 3, 1, 7, 1, 8, 0, 9, 6, 8, 1, 9, 4, 4, 9, 1, 8, 9, 6, 5, 5, 3, 3, 0, 1, 4, 3, 8, 3, 4, 2, 0, 7, 5, 5, 1, 8, 5, 3, 4, 6, 0, 5, 7, 2, 6, 6, 0, 1, 1, \n4, 7, 9, 0, 0, 6, 6, 8, 6, 9, 4, 5, 2, 4, 0, 7, 5, 6, 5, 0, 9, 8, 6, 1, 9, 7, 5, 7, 5, 1, 1, 3, 0, 2, 0, 3, 8, 1, 6, 4, 6, 2, 6, 4, 8, 8, 1, 4, 4, 7, 1, 2, 2, 3, 9, 6, 4, 9, 5, 6, 2, 3, 9, 2, 6, 2, 7, 4, 3, 6, 4, 9, 7, 0, 2, 2, 9, 5, 4, 5, 0, 1, 4, 3, 6, 3, 2, 9, 7, 5, 3, 7, 0, 9, 5, 8, 3, 2, 0, 1, 8, 3, 0, 1, 2, 3, 4, 0, 0, 1, 7, 2, 9, 3, 9, 4, 2, 5, 8, 6, 7, 7, 9, 8, 9, 9, 2, 0, 0, 1, 4, 2, 4, 3, 9, 4, 3, 5, 7, 6, 5, 7, 1, 8, 6, 9, 3, 0, 4, 1, 2, 2, 5, 3, 7, 4, 1, 7, 7, 8, 1, 9, 2, 3, 2, 4, 0, \n1, 8, 4, 3, 6, 5, 6, 4, 7, 9, 3, 1, 3, 0, 2, 1, 1, 0, 9, 9, 4, 6, 7, 6, 3, 5, 5, 4, 4, 6, 9, 1, 1, 3, 1, 1, 0, 5, 1, 4, 4, 6, 6, 6, 0, 1, 2, 0, 8, 2, 2, 1, 1, 3, 7, 9, 5, 3, 0, 2, 0, 6, 2, 9, 0, 7, 6, 9, 9, 1, 2, 9, 3, 4, 7, 9, 6, 0, 9, 4, 8, 7, 7, 9, 8, 6, 9, 5, 2, 2, 2, 3, 9, 8, 8, 8, 6, 4, 4, 4, 4, 2, 4, 6, 0, 7, 0, 7, 8, 2, 0, 8, 8, 3, 6, 8, 6, 6, 8, 6, 5, 1, 1, 8, 7, 8, 3, 6, 8, 9, 5, 0, 0, 0, 3, 2, 6, 6, 7, 8, 3, 5, 1, 4, 3, 5, 9, 4, 5, 4, 1, 1, 5, 4, 0, 9, 7, 1, 2, 5, 7, 9, 4, 0, 3, 6, 1, \n7, 7, 5, 6, 3, 0, 1, 1, 4, 2, 4, 3, 6, 4, 7, 5, 7, 6, 9, 7, 2, 8, 4, 9, 8, 0, 7, 1, 1, 2, 3, 3, 5, 4, 6, 5, 0, 6, 3, 7, 3, 8, 2, 9, 0, 0, 9, 1, 2, 2, 9, 3, 9, 4, 6, 5, 2, 6, 6, 7, 6, 8, 2, 9, 2, 0, 6, 7, 2, 8, 6, 9, 0, 9, 6, 0, 3, 1, 1, 4, 9, 5, 8, 1, 0, 6, 6, 7, 2, 3, 4, 2, 3, 9, 0, 0, 4, 5, 0, 6, 4, 7, 4, 3, 1, 9, 3, 9, 9, 3, 1, 8, 7, 1, 7, 2, 8, 9, 9, 6, 2, 7, 2, 5, 0, 6, 7, 3, 9, 5, 9, 0, 8, 5, 8, 4, 9, 0, 5, 3, 2, 4, 8, 7, 4, 1, 5, 4, 6, 3, 7, 7, 9, 6, 6, 2, 2, 1, 6, 5, 4, 5, 3, 0, 5, 5, 2, \n0, 5, 8, 8, 4, 2, 6, 9, 7, 1, 0, 2, 3, 1, 8, 7, 1, 8, 2, 7, 2, 6, 3, 2, 3, 7, 6, 8, 7, 5, 3, 8, 4, 4, 9, 4, 6, 4, 5, 5, 1, 1, 9, 3, 8, 6, 1, 4, 1, 7, 5, 4, 0, 4, 2, 7, 7, 5, 8, 0, 6, 9, 6, 6, 8, 7, 2, 0, 8, 8, 4, 8, 4, 4, 2, 3, 2, 3, 8, 2, 0, 5, 0, 0, 1, 0, 2, 1, 3, 3, 4, 7, 5, 3, 6, 1, 7, 6, 8, 3, 9, 0, 0, 7, 1, 2, 2, 4, 3, 7, 4, 1, 5, 0, 6, 3, 7, 9, 8, 7, 9, 5, 0, 1, 1, 8, 2, 6, 3, 3, 4, 3, 5, 3, 7, 1, 8, 1, 9, 6, 8, 9, 9, 7, 5, 0, 7, 3, 0, 6, 3, 8, 1, 6, 6, 1, 8, 6, 4, 6, 1, 0, 7, 1, 6, 4, 5, \n1, 6, 7, 4, 8, 2, 5, 7, 3, 8, 4, 1, 6, 3, 3, 4, 5, 3, 2, 4, 5, 7, 1, 2, 4, 0, 0, 5, 8, 0, 6, 1, 1, 9, 3, 2, 1, 3, 4, 2, 4, 3, 4, 5, 8, 5, 6, 7, 6, 8, 9, 4, 0, 9, 4, 9, 4, 7, 4, 1, 6, 1, 3, 7, 3, 8, 3, 3, 2, 4, 4, 8, 7, 6, 4, 3, 6, 8, 7, 0, 7, 9, 5, 6, 5, 2, 3, 0, 4, 1, 4, 0, 5, 6, 1, 2, 6, 3, 4, 8, 5, 9, 5, 0, 2, 7, 5, 2, 9, 3, 4, 4, 0, 5, 2, 5, 5, 2, 9, 8, 3, 5, 2, 4, 4, 6, 7, 6, 4, 6, 6, 7, 0, 9, 6, 1, 8, 8, 5, 2, 1, 1, 5, 2, 0, 6, 9, 5, 2, 3, 1, 4, 1, 7, 6, 9, 2, 4, 6, 0, 1, 0, 5, 5, 5, 9, 2, \n0, 4, 1, 1, 2, 4, 3, 0, 4, 2, 5, 7, 6, 2, 7, 7, 8, 3, 9, 0, 0, 2, 1, 1, 2, 8, 3, 4, 4, 1, 5, 9, 6, 1, 7, 5, 8, 9, 9, 6, 0, 1, 1, 7, 2, 8, 3, 7, 7, 8, 8, 8, 9, 7, 6, 8, 2, 4, 7, 4, 1, 8, 5, 0, 6, 9, 2, 8, 5, 2, 0, 0, 5, 4, 4, 3, 2, 1, 0, 5, 8, 5, 1, 4, 7, 2, 1, 4, 8, 6, 3, 4, 8, 1, 7, 5, 1, 3, 7, 1, 7, 9, 0, 0, 1, 9, 4, 0, 4, 8, 4, 8, 5, 1, 7, 1, 4, 2, 4, 4, 9, 2, 7, 3, 2, 4, 6, 9, 5, 1, 3, 2, 9, 4, 4, 3, 3, 6, 9, 2, 0, 6, 8, 8, 7, 5, 6, 6, 3, 8, 0, 4, 4, 6, 6, 7, 3, 4, 7, 7, 0, 6, 1, 6, 1, 6, 2, \n0, 9, 7, 3, 6, 1, 3, 8, 2, 9, 2, 8, 7, 2, 9, 5, 6, 2, 2, 6, 4, 9, 7, 6, 3, 0, 0, 5, 0, 3, 1, 3, 0, 6, 2, 3, 3, 5, 0, 0, 7, 3, 4, 7, 5, 6, 4, 1, 4, 5, 2, 5, 1, 9, 5, 8, 6, 0, 7, 9, 4, 0, 9, 1, 3, 2, 5, 3, 3, 4, 6, 5, 1, 6, 7, 7, 7, 8, 4, 9, 3, 0, 0, 1, 0, 2, 0, 3, 6, 4, 6, 7, 5, 8, 1, 9, 4, 0, 8, 1, 9, 2, 6, 3, 1, 5, 0, 6, 4, 7, 8, 8, 7, 9, 6, 0, 1, 0, 7, 1, 5, 0, 5, 1, 0, 2, 2, 3, 8, 0, 1, 6, 3, 9, 7, 6, 8, 6, 6, 5, 9, 2, 0, 9, 6, 1, 5, 4, 2, 9, 7, 5, 3, 7, 1, 5, 6, 6, 7, 7, 3, 3, 6, 1, 2, 4, 7, \n1, 8, 3, 2, 3, 8, 7, 5, 3, 7, 9, 8, 8, 6, 8, 8, 8, 2, 8, 4, 8, 1, 4, 5, 7, 1, 2, 2, 1, 9, 9, 5, 8, 2, 7, 9, 9, 7, 3, 7, 3, 1, 0, 6, 7, 9, 5, 2, 4, 1,\nTraceback:\n",
      "1. to_categorical(train_labels)",
      "2. do.call(resolve_utils()$to_categorical, args)"
     ]
    }
   ],
   "source": [
    "train_labels < -to_categorical(train_labels)\n",
    "test_labels < -to_categorical(test_labels)"
   ]
  },
  {
   "cell_type": "markdown",
   "id": "0aea565d-a9bb-4af2-bbcf-366e2ccb334f",
   "metadata": {},
   "source": [
    "We are now ready to train our network, which in Keras is done via a call to the\n",
    "`fit` method of the network: we \"fit\" the model to its training data.\n"
   ]
  },
  {
   "cell_type": "code",
   "execution_count": null,
   "id": "dfe6ae7f-997f-4743-99f4-b064d3c25153",
   "metadata": {},
   "outputs": [],
   "source": [
    "network %>% fit(train_images, \n",
    "                train_labels, \n",
    "                epochs = 5, \n",
    "                batch_size = 128)"
   ]
  },
  {
   "cell_type": "markdown",
   "id": "92cc12b5-b05b-4b8c-a49c-8b3545339747",
   "metadata": {},
   "source": [
    "Two quantities are being displayed during training: the \"loss\" of the network\n",
    "over the training data, and the accuracy of the network over the training data.\n",
    "\n",
    "We quickly reach an accuracy of 0.989 (i.e. 98.9%) on the training data. Now\n",
    "let's check that our model performs well on the test set too:\n"
   ]
  },
  {
   "cell_type": "code",
   "execution_count": null,
   "id": "6a4e6b1d-e17d-4821-bffb-60d17dde4507",
   "metadata": {},
   "outputs": [],
   "source": [
    "metrics <- network %>% evaluate(test_images, test_labels, verbose = 0)\n",
    "metrics"
   ]
  },
  {
   "cell_type": "code",
   "execution_count": null,
   "id": "944420aa-ed8a-4a0f-a69c-7e0827162366",
   "metadata": {},
   "outputs": [],
   "source": []
  }
 ],
 "metadata": {
  "kernelspec": {
   "display_name": "R [conda env:OHW] *",
   "language": "R",
   "name": "conda-env-OHW-r"
  },
  "language_info": {
   "codemirror_mode": "r",
   "file_extension": ".r",
   "mimetype": "text/x-r-source",
   "name": "R",
   "pygments_lexer": "r",
   "version": "4.1.3"
  }
 },
 "nbformat": 4,
 "nbformat_minor": 5
}
