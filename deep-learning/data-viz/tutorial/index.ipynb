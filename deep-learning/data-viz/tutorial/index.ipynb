{
 "cells": [
  {
   "cell_type": "markdown",
   "metadata": {},
   "source": [
    "<style>div.container { width: 100% }</style>\n",
    "<img style=\"float:left;  vertical-align:text-bottom;\" height=\"65\" width=\"172\" src=\"../assets/holoviz-logo-unstacked.svg\" />\n",
    "<div style=\"float:right; vertical-align:text-bottom;\"><h2>Tutorial Index</h2></div>\n"
   ]
  },
  {
   "cell_type": "markdown",
   "metadata": {},
   "source": [
    "This tutorial will take you through all of the steps involved in exploring data\n",
    "of many different types and sizes, building simple and complex figures, working\n",
    "with billions of data points, adding interactive behavior, widgets and controls,\n",
    "and deploying full dashboards and applications.\n",
    "\n",
    "We'll be using a wide range of open-source Python libraries, but focusing on the\n",
    "tools we help maintain as part of the HoloViz project:\n",
    "[Panel](https://panel.pyviz.org), [hvPlot](https://hvplot.pyviz.org),\n",
    "[HoloViews](http://holoviews.org), [GeoViews](http://geoviews.org),\n",
    "[Datashader](http://datashader.org), [Param](http://param.pyviz.org), and\n",
    "[Colorcet](http://colorcet.pyviz.org).\n",
    "\n",
    "These tools were previously part of [PyViz.org](http://pyviz.org), but have been\n",
    "pulled out into [HoloViz.org](http://holoviz.org) to allow PyViz to be fully\n",
    "neutral and general.\n",
    "\n",
    "The HoloViz tools have been carefully designed to work together with each other\n",
    "and with the SciPy ecosystem to address a very wide range of data-analysis and\n",
    "visualization tasks, making it simple to discover, understand, and communicate\n",
    "the important properties of your data.\n",
    "\n",
    "This notebook serves as the homepage of the tutorial, including a table of\n",
    "contents letting you launch each tutorial section.\n"
   ]
  },
  {
   "cell_type": "markdown",
   "metadata": {},
   "source": [
    "## Index and Schedule\n",
    "\n",
    "- **Introduction and setup**\n",
    "\n",
    "  - &nbsp;&nbsp;**5 min** &nbsp;[Setup](00_Setup.ipynb): Setting up the\n",
    "    environment and data files.\n",
    "  - **20 min** &nbsp;[Overview](01_Overview.ipynb): Overview of the HoloViz\n",
    "    tools, philosophy, and approach.\n",
    "\n",
    "- **Building dashboards using Panel**\n",
    "  - **15 min** &nbsp;[Building_Panels](02_Building_Panels.ipynb): How to make\n",
    "    apps and dashboards from Python objects.\n",
    "  - &nbsp;&nbsp;**5 min**\n",
    "    &nbsp;[_Exercise 1_](exercises/Building_a_Dashboard.ipynb#Exercise-1): Using\n",
    "    a mix of visualizable types, create a panel and serve it.\n",
    "  - **10 min** &nbsp;[Interlinked Panels](03_Interlinked_Panels.ipynb):\n",
    "    Customizing linkages between widgets and displayable objects.\n",
    "  - &nbsp;&nbsp;**5 min**\n",
    "    &nbsp;[_Exercise 2_](exercises/Building_a_Dashboard.ipynb#Exercise-2): Add\n",
    "    widgets to control your dashboard.\n",
    "  - **10 min** &nbsp;_Break_\n",
    "- **The `.plot` API: a data-centric approach to visualization**\n",
    "  - **30 min** &nbsp;[Basic Plotting](04_Basic_Plotting.ipynb): Quick\n",
    "    introduction to the `.plot` interface.\n",
    "  - **10 min** &nbsp;[Composing Plots](05_Composing_Plots.ipynb): Overlaying and\n",
    "    laying out `.hvplot` outputs to show relationships.\n",
    "  - **10 min** &nbsp;[_Exercise 3_](exercises/Plotting.ipynb#Exercise-3): Add\n",
    "    some `.plot` or `.hvplot` visualizations to your dashboard.\n",
    "  - **10 min** &nbsp;_Break_\n",
    "- **Custom interactivity**\n",
    "\n",
    "  - **10 min** &nbsp;[_Exercise 4_](exercises/Plotting.ipynb#Exercise-4): Add a\n",
    "    linked visualization with HoloViews.\n",
    "\n",
    "- **Building advanced dashboards**\n",
    "  - **30 min** &nbsp;[_Exercise 5_](exercises/Advanced_Dashboarding.ipynb):\n",
    "    Build a new dashboard using everything you've learned so far.\n"
   ]
  },
  {
   "cell_type": "markdown",
   "metadata": {},
   "source": [
    "## Related links\n",
    "\n",
    "You will find extensive support material on the websites for each package. You\n",
    "may find these links particularly useful during the tutorial:\n",
    "\n",
    "- [hvPlot user guide](https://hvplot.pyviz.org/user_guide): Guide to the plots\n",
    "  available via `.hvplot()`\n",
    "- [HoloViews reference gallery](http://holoviews.org/reference/index.html):\n",
    "  Visual reference of all HoloViews elements and containers, along with some\n",
    "  other components\n",
    "- [Panel reference gallery](http://panel.pyviz.org/reference/index.html): Visual\n",
    "  reference of all panes, layouts and widgets.\n"
   ]
  }
 ],
 "metadata": {
  "kernelspec": {
   "display_name": "Python [conda env:root] *",
   "language": "python",
   "name": "conda-root-py"
  },
  "language_info": {
   "codemirror_mode": {
    "name": "ipython",
    "version": 3
   },
   "file_extension": ".py",
   "mimetype": "text/x-python",
   "name": "python",
   "nbconvert_exporter": "python",
   "pygments_lexer": "ipython3",
   "version": "3.9.6"
  }
 },
 "nbformat": 4,
 "nbformat_minor": 4
}
