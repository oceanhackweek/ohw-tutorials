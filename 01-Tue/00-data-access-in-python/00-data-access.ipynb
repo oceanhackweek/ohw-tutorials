{
 "cells": [
  {
   "cell_type": "code",
   "execution_count": null,
   "metadata": {
    "slideshow": {
     "slide_type": "skip"
    }
   },
   "outputs": [],
   "source": [
    "from pandas.plotting import register_matplotlib_converters\n",
    "\n",
    "register_matplotlib_converters()\n",
    "\n",
    "import warnings\n",
    "\n",
    "warnings.filterwarnings(\"ignore\")"
   ]
  },
  {
   "cell_type": "markdown",
   "metadata": {
    "slideshow": {
     "slide_type": "slide"
    }
   },
   "source": [
    "# Data Access\n",
    "\n",
    "## servers, servers everywhere and not a bit to flip\n",
    "\n",
    "![](https://imgs.xkcd.com/comics/digital_data.png)"
   ]
  },
  {
   "cell_type": "markdown",
   "metadata": {
    "slideshow": {
     "slide_type": "slide"
    }
   },
   "source": [
    "## whoami\n",
    "\n",
    "~~Callum Rollo~~ Filipe Fernandes (`ocefpaf`)\n",
    "\n",
    "- Physical Oceanographer\n",
    "- Data Plumber\n",
    "- Code Janitor\n",
    "- CI babysitter"
   ]
  },
  {
   "cell_type": "markdown",
   "metadata": {
    "slideshow": {
     "slide_type": "slide"
    }
   },
   "source": [
    "## Filipe's day job: IOOS\n",
    "\n",
    "![](https://raw.githubusercontent.com/ocefpaf/2018-SciPy-talk/gh-pages/images/IOOS-RAs.jpg)"
   ]
  },
  {
   "cell_type": "markdown",
   "metadata": {
    "slideshow": {
     "slide_type": "slide"
    }
   },
   "source": [
    "## Big or small we need data!\n",
    "\n",
    "- There are various sources: variety of servers, APIs, and web services. Just to\n",
    "  list a few: OPeNDAP, ERDDAP, THREDDS, ftp, http(s), S3, LAS, etc.\n",
    "\n",
    "![](https://imgs.xkcd.com/comics/data_pipeline.png)"
   ]
  },
  {
   "cell_type": "markdown",
   "metadata": {},
   "source": [
    "## Feedback\n",
    "\n",
    "As you suffer from my tutorial on Data Access I'd love that you keep the following questions in mind so we can improve this tutorial. Should we focus on?\n",
    "\n",
    "- Leveraging metadata for finding and exploring data?\n",
    "- Software packages to access, slice, and dice data?\n",
    "- Data sources?\n",
    "- None of the above, we don't need this tutorial!\n"
   ]
  },
  {
   "cell_type": "markdown",
   "metadata": {
    "slideshow": {
     "slide_type": "slide"
    }
   },
   "source": [
    "## Web Services/Type of servers\n",
    "\n",
    "| Data Type                              | Web Service | Response    |\n",
    "| -------------------------------------- | ----------- | ----------- |\n",
    "| In-situ data<br>(buoys, stations, etc) | OGC SOS     | XML/CSV     |\n",
    "| Gridded data (models, satellite)       | OPeNDAP     | Binary      |\n",
    "| Raster Images                          | OGC WMS     | GeoTIFF/PNG |\n",
    "| ERDDAP                                 | Restful API | \\*          |\n",
    "\n",
    "- Your imagination is the limit!\n",
    "PS: There are also `stac` for images, cloud buckets for various formats, and many more."
   ]
  },
  {
   "cell_type": "markdown",
   "metadata": {
    "slideshow": {
     "slide_type": "slide"
    }
   },
   "source": [
    "## What are we going to see in this tutorial?\n",
    "\n",
    "Browse and access data from:\n",
    "\n",
    "1. ERDDAP\n",
    "2. OPeNDAP\n",
    "3. Searvey\n",
    "4. WMS\n",
    "5. CSW and CKAN\\*\n",
    "\n",
    "\n",
    "\\* There are many examples on CSW in [the IOOS code lab  jupyter-book ](https://ioos.github.io/ioos_code_lab/content/intro.html)."
   ]
  },
  {
   "cell_type": "markdown",
   "metadata": {
    "slideshow": {
     "slide_type": "slide"
    }
   },
   "source": [
    "## 1) ERDDAP\n",
    "\n",
    "### Learning objectives:\n",
    "\n",
    "- Explore an ERDDAP server with the python interface (erddapy);\n",
    "- Find data for a time/region of interest;\n",
    "- Download the data with a familiar format and create some plots."
   ]
  },
  {
   "cell_type": "markdown",
   "metadata": {
    "slideshow": {
     "slide_type": "slide"
    }
   },
   "source": [
    "## What is ERDDAP?\n",
    "\n",
    "- Flexible outputs: .html table, ESRI .asc and .csv, .csvp, Google Earth .kml,\n",
    "  OPeNDAP binary, .mat, .nc, ODV .txt, .tsv, .json, and .xhtml\n",
    "- RESTful API to access the data\n",
    "- Standardize dates and time in the results\n",
    "- Server-side searching and slicing"
   ]
  },
  {
   "cell_type": "code",
   "execution_count": null,
   "metadata": {
    "slideshow": {
     "slide_type": "slide"
    }
   },
   "outputs": [],
   "source": [
    "from erddapy import ERDDAP\n",
    "\n",
    "\n",
    "server = \"https://gliders.ioos.us/erddap\"\n",
    "e = ERDDAP(server=server, protocol=\"tabledap\")"
   ]
  },
  {
   "cell_type": "markdown",
   "metadata": {
    "slideshow": {
     "slide_type": "slide"
    }
   },
   "source": [
    "### What services are available in the server?"
   ]
  },
  {
   "cell_type": "code",
   "execution_count": null,
   "metadata": {
    "slideshow": {
     "slide_type": "fragment"
    }
   },
   "outputs": [],
   "source": [
    "import pandas as pd\n",
    "\n",
    "df = pd.read_csv(\n",
    "    e.get_search_url(\n",
    "        response=\"csv\",\n",
    "        search_for=\"all\",\n",
    "    )\n",
    ")"
   ]
  },
  {
   "cell_type": "code",
   "execution_count": null,
   "metadata": {
    "slideshow": {
     "slide_type": "fragment"
    }
   },
   "outputs": [],
   "source": [
    "print(\n",
    "    f'We have {len(set(df[\"tabledap\"].dropna()))} '\n",
    "    f'tabledap, {len(set(df[\"griddap\"].dropna()))} '\n",
    "    f'griddap, and {len(set(df[\"wms\"].dropna()))} wms.'\n",
    ")"
   ]
  },
  {
   "cell_type": "markdown",
   "metadata": {
    "slideshow": {
     "slide_type": "slide"
    }
   },
   "source": [
    "### Let's query all the datasets that have the `standard_name` of `sea_water_practical_salinity`."
   ]
  },
  {
   "cell_type": "code",
   "execution_count": null,
   "metadata": {
    "slideshow": {
     "slide_type": "fragment"
    }
   },
   "outputs": [],
   "source": [
    "url = e.get_categorize_url(\n",
    "    categorize_by=\"standard_name\",\n",
    "    value=\"sea_water_practical_salinity\",\n",
    "    response=\"csv\",\n",
    ")\n",
    "\n",
    "df = pd.read_csv(url)\n",
    "\n",
    "dataset_ids = df.loc[\n",
    "    ~df[\"tabledap\"].isnull(), \"Dataset ID\"\n",
    "].tolist()\n",
    "\n",
    "dataset_ids_list = \"\\n\".join(dataset_ids)\n",
    "print(f\"Found {len(dataset_ids)} datasets\")"
   ]
  },
  {
   "cell_type": "markdown",
   "metadata": {
    "slideshow": {
     "slide_type": "slide"
    }
   },
   "source": [
    "### Let us narrow our search to deployments that within a lon/lat/time extent."
   ]
  },
  {
   "cell_type": "code",
   "execution_count": null,
   "metadata": {
    "slideshow": {
     "slide_type": "fragment"
    }
   },
   "outputs": [],
   "source": [
    "from ipyleaflet import FullScreenControl, Map, Rectangle\n",
    "\n",
    "min_lon, max_lon = -72, -69\n",
    "min_lat, max_lat = 38, 41\n",
    "\n",
    "rectangle = Rectangle(bounds=((min_lat, min_lon), (max_lat, max_lon)))\n",
    "\n",
    "m = Map(\n",
    "    center=((min_lat + max_lat) / 2, (min_lon + max_lon) / 2),\n",
    "    zoom=6,\n",
    ")\n",
    "\n",
    "m.add_layer(rectangle)\n",
    "m.add_control(FullScreenControl())\n",
    "m"
   ]
  },
  {
   "cell_type": "code",
   "execution_count": null,
   "metadata": {
    "slideshow": {
     "slide_type": "fragment"
    }
   },
   "outputs": [],
   "source": [
    "kw = {\n",
    "    \"min_time\": \"2016-07-10T00:00:00Z\",\n",
    "    \"max_time\": \"2017-02-10T00:00:00Z\",\n",
    "    \"min_lon\": min_lon,\n",
    "    \"max_lon\": max_lon,\n",
    "    \"min_lat\": min_lat,\n",
    "    \"max_lat\": max_lat,\n",
    "    \"standard_name\": \"sea_water_practical_salinity\",\n",
    "}"
   ]
  },
  {
   "cell_type": "code",
   "execution_count": null,
   "metadata": {
    "scrolled": true,
    "slideshow": {
     "slide_type": "slide"
    }
   },
   "outputs": [],
   "source": [
    "search_url = e.get_search_url(response=\"csv\", **kw)\n",
    "search = pd.read_csv(search_url)\n",
    "dataset_ids = search[\"Dataset ID\"].values\n",
    "\n",
    "dataset_ids_list = \"\\n\".join(dataset_ids)"
   ]
  },
  {
   "cell_type": "code",
   "execution_count": null,
   "metadata": {
    "scrolled": true,
    "slideshow": {
     "slide_type": "slide"
    }
   },
   "outputs": [],
   "source": [
    "print(f\"Found {len(dataset_ids)} Datasets:\\n{dataset_ids_list}\")"
   ]
  },
  {
   "cell_type": "code",
   "execution_count": null,
   "metadata": {
    "slideshow": {
     "slide_type": "slide"
    }
   },
   "outputs": [],
   "source": [
    "sal = \"salinity\"\n",
    "temp = \"temperature\"\n",
    "\n",
    "e.dataset_id = dataset_ids[0]\n",
    "\n",
    "e.variables = [\n",
    "    \"depth\",\n",
    "    \"latitude\",\n",
    "    \"longitude\",\n",
    "    sal,\n",
    "    temp,\n",
    "    \"time\",\n",
    "]\n",
    "\n",
    "e.constraints = {\n",
    "    \"latitude>=\":min_lat,\n",
    "    \"latitude<=\":max_lat,\n",
    "    \"longitude>=\":min_lon,\n",
    "    \"longitude<=\":max_lon,\n",
    " }\n",
    "\n",
    "\n",
    "url = e.get_download_url()\n",
    "print(url)"
   ]
  },
  {
   "cell_type": "markdown",
   "metadata": {},
   "source": [
    "Breaking the url down, we see that it specifies several things\n",
    "\n",
    "\n",
    "- `https://gliders.ioos.us/erddap/` The url of the server\n",
    "- `tabledap` the protocol, which can be tabledap or griddap\n",
    "- `blue-20160818T1448.html` the ID of the dataset we want\n",
    "- `.html` the requested file format\n",
    "- `depth,latitude,longitude,salinity,temperature,time` the variables we request\n",
    "- `latitude>=38&latitude<=41&longitude>=-72&longitude<=-69` constraints like the geographical extent"
   ]
  },
  {
   "cell_type": "code",
   "execution_count": null,
   "metadata": {
    "scrolled": false,
    "slideshow": {
     "slide_type": "slide"
    }
   },
   "outputs": [],
   "source": [
    "import pandas as pd\n",
    "\n",
    "\n",
    "e.constraints = {}\n",
    "e.dataset_id = \"ru29-20150623T1046\" # NB: We changed to a more interesting glider.\n",
    "\n",
    "df = e.to_pandas(index_col=\"time (UTC)\", parse_dates=True).dropna()\n",
    "df.head()"
   ]
  },
  {
   "cell_type": "markdown",
   "metadata": {
    "slideshow": {
     "slide_type": "slide"
    }
   },
   "source": [
    "Exercise: experiment with the `e.to_xarray()` method. Think about why/where use\n",
    "one or the other?\n"
   ]
  },
  {
   "cell_type": "code",
   "execution_count": null,
   "metadata": {
    "slideshow": {
     "slide_type": "slide"
    }
   },
   "outputs": [],
   "source": [
    "import matplotlib.pyplot as plt\n",
    "\n",
    "\n",
    "subset = df.loc[df[\"depth (m)\"] <= 5]\n",
    "\n",
    "fig, ax = plt.subplots(figsize=(13, 3.75))\n",
    "subset[f\"{sal} (1e-3)\"].dropna().plot(ax=ax);"
   ]
  },
  {
   "cell_type": "code",
   "execution_count": null,
   "metadata": {
    "slideshow": {
     "slide_type": "skip"
    }
   },
   "outputs": [],
   "source": [
    "import gsw\n",
    "import numpy as np\n",
    "\n",
    "\n",
    "def plot_ts():\n",
    "    fig, ax = plt.subplots(figsize=(5, 5))\n",
    "\n",
    "    s = np.linspace(0, 42, 100)\n",
    "    t = np.linspace(-2, 40, 100)\n",
    "\n",
    "    s, t = np.meshgrid(s, t)\n",
    "    sigma = gsw.sigma0(s, t)\n",
    "\n",
    "    cnt = np.arange(-7, 40, 5)\n",
    "    cs = ax.contour(s, t, sigma, colors=\"gray\", levels=cnt)\n",
    "    ax.clabel(cs, fontsize=9, inline=1, fmt=\"%2i\")\n",
    "\n",
    "    ax.set_xlabel(\"Salinity [g kg$^{-1}$]\")\n",
    "    ax.set_ylabel(\"Temperature [$^{\\circ}$C]\")\n",
    "    ax.scatter(df[f\"{sal} (1e-3)\"], df[\"temperature (Celsius)\"], s=10, alpha=0.25)\n",
    "\n",
    "    ax.grid(True)\n",
    "    ax.axis([34, 38, 2.5, 25])\n",
    "    return fig, ax"
   ]
  },
  {
   "cell_type": "code",
   "execution_count": null,
   "metadata": {
    "slideshow": {
     "slide_type": "slide"
    }
   },
   "outputs": [],
   "source": [
    "fig, ax = plot_ts();"
   ]
  },
  {
   "cell_type": "code",
   "execution_count": null,
   "metadata": {},
   "outputs": [],
   "source": [
    "df = df.loc[~df.index.duplicated(keep=\"first\")].sort_index().dropna()\n",
    "\n",
    "locations = list(\n",
    "    zip(\n",
    "        df[\"latitude (degrees_north)\"],\n",
    "        df[\"longitude (degrees_east)\"],\n",
    "    )\n",
    ")"
   ]
  },
  {
   "cell_type": "code",
   "execution_count": null,
   "metadata": {
    "scrolled": false
   },
   "outputs": [],
   "source": [
    "import folium\n",
    "\n",
    "\n",
    "tiles = (\n",
    "    \"http://services.arcgisonline.com/arcgis/rest/services/\"\n",
    "    \"World_Topo_Map/MapServer/MapServer/tile/{z}/{y}/{x}\"\n",
    ")\n",
    "\n",
    "m = folium.Map(tiles=tiles, attr=\"ESRI\", zoom_start=4)\n",
    "\n",
    "folium.CircleMarker(locations[0], fill_color=\"green\", radius=10).add_to(m)\n",
    "folium.CircleMarker(locations[-1], fill_color=\"red\", radius=10).add_to(m)\n",
    "\n",
    "line = folium.PolyLine(\n",
    "    locations=locations,\n",
    "    color=\"orange\",\n",
    "    weight=8,\n",
    "    opacity=0.6,\n",
    "    popup=\"Slocum Glider ru29 Deployed on 2015-06-23\",\n",
    ").add_to(m)\n",
    "\n",
    "m"
   ]
  },
  {
   "cell_type": "code",
   "execution_count": null,
   "metadata": {
    "slideshow": {
     "slide_type": "slide"
    }
   },
   "outputs": [],
   "source": [
    "responses = [\"mat\", \"json\", \"ncCF\", \"ncCFHeader\"]\n",
    "\n",
    "for response in responses:\n",
    "    print(f\"{e.get_download_url(response=response)}\\n\")"
   ]
  },
  {
   "cell_type": "markdown",
   "metadata": {
    "slideshow": {
     "slide_type": "slide"
    }
   },
   "source": [
    "Exercise: explore the web interface for the OOI server URL:\n",
    "\n",
    "http://erddap.dataexplorer.oceanobservatories.org/erddap/index.html\n",
    "\n",
    "or the IOOS glider dac:\n",
    "\n",
    "https://gliders.ioos.us/erddap\n",
    "\n",
    "or the VOTO glider server:\n",
    "\n",
    "https://erddap.observations.voiceoftheocean.org/erddap\n",
    "\n",
    "and find a dataset of interested, download a format that you are familiar with\n",
    "and plot it (using the web interface or the Python, your choice).\n"
   ]
  },
  {
   "cell_type": "markdown",
   "metadata": {
    "slideshow": {
     "slide_type": "slide"
    }
   },
   "source": [
    "## 2) OPeNDAP\n",
    "\n",
    "\n",
    "- [OPeNDAP](https://www.opendap.org/about) stands for \"Open-source Project for a Network Data Access Protocol\"\n",
    "- Provides access to metadata and data subsets via the Web without downloading an entire dataset\n",
    "- Many tools that can read NetCDF files can also talk to an OPeNDAP URL directly\n",
    "\n",
    "\n",
    "### Learning objectives:\n",
    "\n",
    "- Open ocean model data from a THREDDS server via OPeNDAP using `xarray`;\n",
    "- Discuss the differences with an `erddapy` request;\n",
    "- Plot it using `xarray` interface."
   ]
  },
  {
   "cell_type": "code",
   "execution_count": null,
   "metadata": {
    "scrolled": true,
    "slideshow": {
     "slide_type": "slide"
    }
   },
   "outputs": [],
   "source": [
    "import cf_xarray\n",
    "import xarray as xr\n",
    "\n",
    "\n",
    "url = \"https://tds.marine.rutgers.edu/thredds/dodsC/roms/doppio/2017_da/avg/Averages_Best_Excluding_Day1\"\n",
    "\n",
    "ds = xr.open_dataset(url)\n",
    "ds.cf"
   ]
  },
  {
   "cell_type": "code",
   "execution_count": null,
   "metadata": {
    "slideshow": {
     "slide_type": "slide"
    }
   },
   "outputs": [],
   "source": [
    "variable = \"sea_water_potential_temperature\"\n",
    "time = \"2022-08-10\"\n",
    "surface = -1\n",
    "\n",
    "selection = ds.cf[variable].sel(\n",
    "    time=\"2022-08-10\"\n",
    ").isel(s_rho=surface)"
   ]
  },
  {
   "cell_type": "code",
   "execution_count": null,
   "metadata": {
    "slideshow": {
     "slide_type": "slide"
    }
   },
   "outputs": [],
   "source": [
    "import cartopy.crs as ccrs\n",
    "import matplotlib.pyplot as plt\n",
    "\n",
    "fig, ax = plt.subplots(\n",
    "    figsize=(6, 6), subplot_kw={\"projection\": ccrs.PlateCarree()},\n",
    ")\n",
    "\n",
    "selection.plot(\n",
    "    ax=ax,\n",
    "    x=\"lon_rho\",\n",
    "    y=\"lat_rho\",\n",
    ")\n",
    "ax.coastlines();"
   ]
  },
  {
   "cell_type": "markdown",
   "metadata": {
    "slideshow": {
     "slide_type": "slide"
    }
   },
   "source": [
    "## 3) Searvey\n",
    "\n",
    "### Learning objectives:\n",
    "\n",
    "- Use searvey to obtain CO-OPS data https://searvey.readthedocs.io"
   ]
  },
  {
   "cell_type": "code",
   "execution_count": null,
   "metadata": {
    "scrolled": true,
    "slideshow": {
     "slide_type": "slide"
    }
   },
   "outputs": [],
   "source": [
    "import shapely\n",
    "from searvey import coops\n",
    "\n",
    "secoora = shapely.geometry.box(-87.4, 24.25, -74.7, 36.7)\n",
    "df = coops.coops_stations_within_region(secoora)\n",
    "df"
   ]
  },
  {
   "cell_type": "code",
   "execution_count": null,
   "metadata": {
    "slideshow": {
     "slide_type": "slide"
    }
   },
   "outputs": [],
   "source": [
    "df.loc[df[\"name\"] == \"Duck\"]"
   ]
  },
  {
   "cell_type": "code",
   "execution_count": null,
   "metadata": {
    "slideshow": {
     "slide_type": "slide"
    }
   },
   "outputs": [],
   "source": [
    "from datetime import datetime, timedelta\n",
    "from searvey.coops import COOPS_Station\n",
    "\n",
    "station = COOPS_Station(\"Duck\")\n",
    "\n",
    "ds = station.product(\n",
    "    \"water_level\",\n",
    "    start_date=datetime.today() - timedelta(15),\n",
    "    end_date=datetime.today(),\n",
    ")\n",
    "\n",
    "ds[\"v\"].plot();"
   ]
  },
  {
   "cell_type": "markdown",
   "metadata": {
    "slideshow": {
     "slide_type": "slide"
    }
   },
   "source": [
    "## 4) WMS\n",
    "\n",
    "### Learning objectives:\n",
    "\n",
    "- Add a WMS layer to an interactive map. (\"Hurricane viz widget.\")"
   ]
  },
  {
   "cell_type": "code",
   "execution_count": null,
   "metadata": {
    "slideshow": {
     "slide_type": "slide"
    }
   },
   "outputs": [],
   "source": [
    "from ipyleaflet import FullScreenControl, Map, WMSLayer, basemaps\n",
    "from ipywidgets import SelectionSlider\n",
    "from traitlets import Unicode\n",
    "\n",
    "time_options = [\n",
    "    \"13:00\", \"13:30\", \"14:00\", \"14:30\", \"15:00\", \"15:30\",\n",
    "    \"16:00\", \"16:30\", \"17:00\", \"17:30\", \"18:00\", \"18:30\",\n",
    "]\n",
    "\n",
    "slider = SelectionSlider(description=\"Time:\", options=time_options)\n",
    "\n",
    "\n",
    "def update_wms(change):\n",
    "    time_wms.time = \"2020-07-25T{}\".format(slider.value)\n",
    "\n",
    "\n",
    "slider.observe(update_wms, \"value\")\n",
    "\n",
    "\n",
    "class TimeWMSLayer(WMSLayer):\n",
    "    time = Unicode(\"\").tag(sync=True, o=True)"
   ]
  },
  {
   "cell_type": "code",
   "execution_count": null,
   "metadata": {
    "slideshow": {
     "slide_type": "slide"
    }
   },
   "outputs": [],
   "source": [
    "time_wms = TimeWMSLayer(\n",
    "    url=\"https://mesonet.agron.iastate.edu/cgi-bin/wms/nexrad/n0r-t.cgi?\",\n",
    "    layers=\"nexrad-n0r-wmst\",\n",
    "    time=\"2020-07-25T13:00:00Z\",\n",
    "    format=\"image/png\",\n",
    "    transparent=True,\n",
    "    attribution=\"Weather data © 2012 IEM Nexrad\",\n",
    ")\n",
    "m = Map(basemap=basemaps.CartoDB.Positron, center=(30, -88), zoom=5)\n",
    "m.add_layer(time_wms)\n",
    "m.add_control(FullScreenControl())"
   ]
  },
  {
   "cell_type": "code",
   "execution_count": null,
   "metadata": {
    "slideshow": {
     "slide_type": "slide"
    }
   },
   "outputs": [],
   "source": [
    "m"
   ]
  },
  {
   "cell_type": "code",
   "execution_count": null,
   "metadata": {
    "slideshow": {
     "slide_type": "fragment"
    }
   },
   "outputs": [],
   "source": [
    "slider"
   ]
  },
  {
   "cell_type": "markdown",
   "metadata": {
    "slideshow": {
     "slide_type": "slide"
    }
   },
   "source": [
    "## 5) Catalog Service Web (CSW)\n",
    "\n",
    "### Is there a canonical source for data?"
   ]
  },
  {
   "cell_type": "markdown",
   "metadata": {
    "slideshow": {
     "slide_type": "fragment"
    }
   },
   "source": [
    "![](https://i.kym-cdn.com/photos/images/newsfeed/001/093/557/142.gif)"
   ]
  },
  {
   "cell_type": "markdown",
   "metadata": {
    "slideshow": {
     "slide_type": "fragment"
    }
   },
   "source": [
    "Well, kind of... The closet thing are data catalogs like the [IOOS CSW catalog](https://data.ioos.us/) or [pangeo-forge](https://pangeo-forge.readthedocs.io/en/latest/)."
   ]
  },
  {
   "cell_type": "markdown",
   "metadata": {
    "slideshow": {
     "slide_type": "slide"
    }
   },
   "source": [
    "## Catalog Service for the Web (CSW)\n",
    "\n",
    "- A single source to find endpoints\n",
    "- Nice python interface:<br>`owslib.csw.CatalogueServiceWeb`\n",
    "- Advanced filtering:<br>`owslib.fes`"
   ]
  },
  {
   "cell_type": "markdown",
   "metadata": {
    "slideshow": {
     "slide_type": "slide"
    }
   },
   "source": [
    "![](https://raw.githubusercontent.com/ocefpaf/2018-SciPy-talk/gh-pages/images/IOOS.svg)"
   ]
  },
  {
   "cell_type": "markdown",
   "metadata": {
    "slideshow": {
     "slide_type": "slide"
    }
   },
   "source": [
    "## IOOS CodeLab\n",
    "For more complex examples on how to find data in the catalog please check the [IOOS code gallery](https://ioos.github.io/ioos_code_lab/content/intro.html).\n",
    "\n",
    "![](https://ioos.github.io/ioos_code_lab/_images/ioos_CodeLab_image_multi_hex.png)"
   ]
  },
  {
   "cell_type": "markdown",
   "metadata": {
    "slideshow": {
     "slide_type": "slide"
    }
   },
   "source": [
    "## Where to find data?"
   ]
  },
  {
   "cell_type": "markdown",
   "metadata": {
    "slideshow": {
     "slide_type": "fragment"
    }
   },
   "source": [
    "Curated list of ERDDAP servers:\n",
    "https://github.com/IrishMarineInstitute/awesome-erddap\n",
    "\n",
    "Search across multiple ERDDAP servers https://erddap.com/\n",
    "\n",
    "Environmental Data Service (EDS) model viewer: https://eds.ioos.us\n",
    "\n",
    "Exploring THREDDS servers: https://unidata.github.io/siphon/latest"
   ]
  },
  {
   "cell_type": "markdown",
   "metadata": {
    "slideshow": {
     "slide_type": "slide"
    }
   },
   "source": [
    "## Extras: how does this all work?"
   ]
  },
  {
   "cell_type": "markdown",
   "metadata": {
    "slideshow": {
     "slide_type": "fragment"
    }
   },
   "source": [
    "## Standards!\n",
    "\n",
    "![](https://imgs.xkcd.com/comics/standards.png)"
   ]
  },
  {
   "cell_type": "markdown",
   "metadata": {
    "slideshow": {
     "slide_type": "slide"
    }
   },
   "source": [
    "## Bad example"
   ]
  },
  {
   "cell_type": "markdown",
   "metadata": {
    "slideshow": {
     "slide_type": "fragment"
    }
   },
   "source": [
    "```python\n",
    "import cftime\n",
    "import nc_time_axis\n",
    "from netCDF4 import Dataset\n",
    "\n",
    "url = \"http://goosbrasil.org:8080/pirata/B19s34w.nc\"\n",
    "nc = Dataset(url)\n",
    "\n",
    "temp = nc[\"temperature\"][:]\n",
    "times = nc[\"time\"]\n",
    "temp[temp <= -9999] = np.NaN\n",
    "t = cftime.num2date(times[:], times.units, calendar=times.calendar)\n",
    "mask = (t >= datetime(2008, 1, 1)) & (t <= datetime(2008, 12, 31))\n",
    "\n",
    "fig, ax = plt.subplots()\n",
    "ax.plot(t[mask], temp[:, 0][mask], \".\");\n",
    "```"
   ]
  },
  {
   "cell_type": "code",
   "execution_count": null,
   "metadata": {},
   "outputs": [],
   "source": [
    "from IPython import display\n",
    "from base64 import b64decode\n",
    "\n",
    "\n",
    "img = \"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\"\n",
    "display.Image(b64decode(img))"
   ]
  },
  {
   "cell_type": "markdown",
   "metadata": {
    "slideshow": {
     "slide_type": "slide"
    }
   },
   "source": [
    "## Good example"
   ]
  },
  {
   "cell_type": "markdown",
   "metadata": {
    "slideshow": {
     "slide_type": "fragment"
    }
   },
   "source": [
    "```python\n",
    "import xarray as xr\n",
    "\n",
    "ds = xr.open_dataset(url)\n",
    "temp = ds[\"temperature\"]\n",
    "temp.sel(depth_t=1.0, time=\"2008\").plot();\n",
    "```"
   ]
  },
  {
   "cell_type": "code",
   "execution_count": null,
   "metadata": {},
   "outputs": [],
   "source": [
    "img = \"iVBORw0KGgoAAAANSUhEUgAAAjMAAAHgCAYAAABQEOzeAAAAOXRFWHRTb2Z0d2FyZQBNYXRwbG90bGliIHZlcnNpb24zLjUuMywgaHR0cHM6Ly9tYXRwbG90bGliLm9yZy/NK7nSAAAACXBIWXMAAA9hAAAPYQGoP6dpAACLEUlEQVR4nO3dd3iT5foH8G+S7jZN9y5ll1G2TJEtqKjg+Llw4ABFQI+IHlER9ag4jvOoOFAUFcXBEFEQZcgWKKMIlN1F955pkzy/P5K8bWhLkzaz+X6uqxfNmzdvnjwtyd37GbdMCCFARERE5KLkjm4AERERUVswmCEiIiKXxmCGiIiIXBqDGSIiInJpDGaIiIjIpTGYISIiIpfGYIaIiIhcGoMZIiIicmkMZoiIiMilMZghckHPP/88ZDKZTZ+jqqoKzz//PLZu3drs8xcUFLT5eX799Vc8//zzbb5Oa2RmZuJf//oXRo8ejaCgIMhkMnzxxRcWXePs2bO48cYbERQUhICAAFx55ZVITk4267EymUz6+u9//9uKV9A84+uRyWSYM2eOVa9N5GwYzBBRk6qqqvDCCy80GcxY06+//ooXXnjBps/RnNOnT+Obb76Bl5cXrrnmGosfn5+fjyuuuAInT57E559/ju+//x41NTUYM2YMUlNTzbrG/fffj927d2PatGkWP/+l/PHHH9i9e7dVr0nkrDwc3QAiIkcZNWoU8vPzAQD79+/Ht99+a9Hj33jjDeTn52PXrl1ISEgAAIwcORJdunTBc889h5UrV7Z4jbi4OAwbNszyxrfgsssus/o1iZwVMzNETm79+vXo378/vL290alTp2aHI4QQ+PDDD9G/f3/4+voiODgYN998M86ePWty3pgxY5CUlITt27dj2LBh8PX1RWxsLBYuXAitVgsAOH/+PMLDwwEAL7zwgjRcMX36dJNr5ebm4vbbb4dKpUJkZCTuu+8+lJaWmv3apk+fjg8++ACA6ZDL+fPnzb5GW8jlbXsLXL16NcaNGycFMgAQGBiIG2+8EevWrYNGo2nVdb/44gvIZDJs3rwZM2bMQGhoKAIDA3H33XejsrISOTk5uOWWWxAUFITo6GjMnz8fdXV1bXotRK6MmRkiJ/bnn39iypQpGD58OL777jtotVq8/vrryM3NbXTugw8+iC+++AKPPPIIXnvtNRQVFeHFF1/EiBEjcPjwYURGRkrn5uTk4LbbbsNTTz2FF198EevXr8dLL72E4uJivP/++4iOjsaGDRtw1VVX4f7778cDDzwAAFKAY3TTTTfh1ltvxf3334+UlBQsWLAAAPD555+b9foWLlyIyspK/PjjjyZDItHR0c0+RqfTQafTtXhtmUwGhUJhVjtao7q6GmfOnMENN9zQ6L6+ffuiuroaZ8+eRffu3Vv9HA888ABuvPFGfPfddzh48CCefvppaDQapKam4sYbb8TMmTPxxx9/4LXXXkNMTAzmzZvXlpdE5LoEETmtoUOHipiYGFFdXS0dKysrEyEhIaLhf9/du3cLAOLNN980eXxGRobw9fUVTz75pHRs9OjRAoBYu3atybkzZswQcrlcpKWlCSGEyM/PFwDEokWLGrVr0aJFAoB4/fXXTY4//PDDwsfHR+h0OrNf4+zZs4Ulb0XG527pKyEhwexrCiHEvn37BACxbNkys87PysoSAMTixYsb3bdixQoBQOzateuS12iuf5ctWyYAiLlz55ocnzp1qgAg3nrrLZPj/fv3FwMHDmz2OWbPnt3CqyFybczMEDmpyspK7Nu3Dw8//DB8fHyk40qlEtdddx2+/PJL6dgvv/wCmUyGO++802RoIyoqCv369Ws0iVepVOL66683OXbHHXfg008/xV9//YU777zTrDZefI2+ffuipqYGeXl5Jpkga5o5cyauvfbaFs/z9va2yfNf7FKrytq64uzi19mzZ0+sWbMGkydPbnT8999/b9NzEbkyBjNETqq4uBg6nQ5RUVGN7rv4WG5uLoQQzQYQnTt3Nrnd1HnGaxYWFprdxtDQUJPbxgCiurra7GtYKioqChERES2eZ+ul68HBwZDJZE32V1FREQAgJCSkTc9x8eO9vLyaPV5TU9Om5yJyZQxmiJyU8cMyJyen0X0XHwsLC4NMJsP27dubzEhcfKypOTfGa14coDibF1980ayl3AkJCTadSOzr64uuXbsiJSWl0X0pKSnw9fVtFEQSkW0wmCFyUv7+/hgyZAhWrVqFN954QxpqKi8vx7p160zOvfbaa/Hqq68iKysLt9xyS4vXLi8vx88//2wyTLRixQrI5XKMGjUKgH2yLBc/j6+vb4vnO9Mw0w033IB33nkHGRkZiI+PB6Dv21WrVuH666+HhwffYonsgf/TiJzYf/7zH1x11VW48sor8fjjj0Or1eK1116Dv7+/NJQBAJdffjlmzpyJe++9F/v378eoUaPg7++P7Oxs7NixA3369MGsWbOk80NDQzFr1iykp6eje/fu+PXXX/Hpp59i1qxZ6NChAwD9vJqEhASsXbsW48ePR0hICMLCwtCxY0ervsY+ffoAAF577TVcffXVUCgU6Nu3rzSkcrGYmBjExMRY7fl//PFHAJCWsO/fvx8BAQEAgJtvvlk6b/z48di2bZvJnKT58+fjq6++wuTJk/Hiiy/C29sbr776Kmpqahy2qzGRO2IwQ+TErrzySqxZswbPPvssbr31VkRFReHhhx9GdXV1o6GWjz/+GMOGDcPHH3+MDz/8EDqdDjExMbj88ssxZMgQk3OjoqLwwQcfYP78+UhJSUFISAiefvrpRtf87LPP8MQTT+D666+HWq3GPffcY/F2/y254447sHPnTnz44Yd48cUXIYTAuXPnrB40Nef//u//TG5/8MEH0t43QgjpuFarlfbhMQoPD8f27dsxf/583HPPPdBoNBg+fDi2bt2KHj162L7xRAQAkImG/1uJqN0bM2YMCgoKcPToUUc3xe3JZDIsXLgQzz33HBQKhVUnLWu1Wggh4OnpidmzZ+P999+32rWJnA13ACYicqD//Oc/8PT0xJtvvmnV64aGhsLT09Oq1yRyVhxmIiKbMGenXnefILtv3z7pe+MEYmvZunWrNL/HnKXsRK6Mw0xEZBPTp0832divKXz7ISJrYDBDRDZx/vx5FBQUXPIcVnYmImtgMENEREQujROAiYiIyKU5dPbd4sWLsWrVKpw4cQK+vr4YMWIEXnvtNSQmJkrn5Obm4t///jd+//13lJSUYNSoUfjf//6Hbt26mfUcOp0OFy5cgFKptHmtFiIiIrIOIQTKy8sRExMDufzSuReHDjNdddVVuO222zB48GBoNBo888wzSElJwbFjx+Dv7w8hBEaMGCEtWwwMDMRbb72FDRs2SOe0JDMz0+qrBIiIiMg+MjIyEBcXd8lznGrOTH5+PiIiIrBt2zaMGjUKJ0+eRGJiIo4ePYrevXsD0G8EFRERgddeew0PPPBAi9csLS1FUFAQMjIyEBgYaOuXQERERFZQVlaG+Ph4lJSUQKVSXfJcp9rkobS0FEB9eXu1Wg0AUoE9AFAoFPDy8sKOHTuaDGbUarX0OEBf9A0AAgMDGcwQERG5GHOmiDjNBGAhBObNm4eRI0ciKSkJANCjRw8kJCRgwYIFKC4uRm1tLV599VXk5OQgOzu7yessXrwYKpVK+uIQExERUfvmNMHMnDlzcOTIEXz77bfSMU9PT/z00084efIkQkJC4Ofnh61bt0qVdZuyYMEClJaWSl8ZGRn2eglERETkAE4xzDR37lz8/PPP+OuvvxpN8hk0aBAOHTqE0tJS1NbWIjw8HEOHDm12sy1vb294e3vbo9lERETkBByamRFCYM6cOVi1ahU2b96MTp06NXuuSqVCeHg4Tp06hf3792PKlCl2bCkRERE5K4dmZmbPno0VK1Zg7dq1UCqVyMnJAaAPXHx9fQEAP/zwA8LDw9GhQwekpKTg0UcfxdSpUzFx4kRHNp2IiIichEODmSVLlgAAxowZY3J82bJlmD59OgAgOzsb8+bNQ25uLqKjo3H33Xdj4cKFdm4pEREROSun2mfGFsrKyqBSqVBaWsql2URERC7Cks9vp1nNRERERNQaDGaIiIjIpTGYISIiIpfGYIaIiIhcGoMZIiIicmkMZohsoE6rw5HMErTzxYJERE6BwQy1Oxv/ycHnO845tA0fbT2D69/fia/3pDm0HURE7oDBDLU7D351AC/+cgy7Thc4rA1/nsgDAGz4J8dhbSAichdOUWiSyFoaDuvsPluIEV3D7PK8Op3A5zvPIae0BkmxKvxzoRQAsP98MdQaLbw9mq7yTkREbcdghtqV6jqt9H1qTrndnnfryTy8tP54o+NqjQ4H00swrHOo3dpCRORuOMxE7UqFWiN9fzynzG7PezC9pNn7dp8ptFs7iIjcEYMZalcq1fWZmYyiauSXq+3yvClZ+mGlyX2ipWPRKh8AwP60Iru0gYjIXTGYoXalskFmBgCS04tt/pxCCBw1BDP3X9EJlyUEQy4DHh7bFQCQXlRl1nW2ncxHWmGlzdpJRNReMZihdqXiomAmw8xAwlxZJdX413cHcSSzRDqWU1aDgopaKOQy9IoOxLJ7B+OPeaMxsVckAOBCSQ00Wt0lr3s4owT3fP43Rr+x1artJSJyBwxmqF2pqDENZqw9zPTD/gysOXQBnzXYx+Zoln5uTreIAPh4KqD08UTn8ACEB3jDy0MOrU4gu7TmktdNza2frFzXQuBDRESmGMxQu1JZa9tg5nyBfhgos7haOnYoQz+UlRSrMjlXLpchLsgXAJBRfOkMUYB3/cJCa2eTiIjaOwYz1K5cPMyUX2HdYCbNEGhkNQhmNp/IBwCM6NJ4+XVciB8AILOoutF9DTWc63M2n/NmiIgswWCG2hVjUBAW4AWg7ZkZIQS+2pOGbSf1AUt6oT6YyS2vQa1Ghwsl1TieXQa5DBiTGNHo8fHB5mVmGgZh5woYzBARWYLBDLUrFYal2Z3C/AG0PZjZfCIPC9ccxUNfHUBuWQ0KK2sBAEIAuWU1UtmCgR2CEeLv1ejx8YbMTEtDRyaZGQYzREQWYTBD7YoxKDAGM4WVtW2aUPvp9rMA9DsLf/rXWZP7Moursfl4LgBgXM/GWRkAiDNkZhrOsWlKRYP9cc4VVLS6vURE7ojBDDnUO3+cxOxvkqHTiZZPNoMxmIkL9oNCLgMAFFbUQq3RouqiycEtOZpVij1n6ze8W3pRJe70okrsPae/f3T38CavER9syMy0MMzUMDOz52wRCqw814eIqD1jMEMOo9Hq8M4fp7A+JRsHM6yzuZ1x7onSx0OaN5NXXoOr39mOMW9sRU2D2k0t2XdeH6j0iFI2ef9vR3NQVatFsJ8nekYFNnlOx1B9hii3TI3ymrpmn+vizf4ue+kPpGSWmt1WIiJ3xmCGHKbh3ivCOokZKZjx9/ZAuNIbgH5DurMFlcgrV7c43NNQsWF+zOCOIZjUO1I67qnQZ3y2puonBQ/rHAq5IQt0MZWfJ6IC9WUNTuaWo6BCjbnfHsTes6b1mi5ehQUAG/7JNrutRETujMEMOUxaYf3QS1Wt+RmTSzFmOAK8PRAeoA9m/jpVIN1/qezIxYqq9MFMsL8X3rqlv5Shmdg7yuS8ppZkN9QjWv+449nlmLMiGesOX8Cdn+01bbdhCOydW/vjjZv7AgB2sUAlEZFZGMyQw6QV1a/auXiYpbWME2kbZma2n8qX7i+pMj+YKa7Unxvi5wl/bw+smX051s0ZibuHJZicN7ylYMYwBHUip0yag1OnNU1FNWy38XoH00vwr+8O4o9juWa3mYjIHXm0fAqRbTTMzJRbKZipz8woEKHUD+/U1NWvZioyDB2Zw3husGHJtY+nAn3iVNDqBGaO6oy0wkr0iw9C14im59QY9TRkZv48nicdk100KtUwoxQX7IcIpTfyytVYc+gC9pwtwoRekSAioqYxmCGHaVgh2lqZmfqgwBO9YhpPyi2uMj+YMZ578f4xCrkMT1/T0+zrGDMzF88RqqnTwsdTAaC+ppSxrMHo7uH44UAmAH0hy/xytZRpIiIiUxxmIodpmJm5uEBka9VPAFbgyl6RjQIRS4aZpMyMX+PN8CzROdy/yeN5ZfXLrysbtBsAHhrTBdf2jZbuT063zmovIqL2iMEMOYQQAukNdsWtsHAPmKZotDqoNfohpQBvD3gq5Lh5UJzJOeZmZoQQzWZmLOWpkGNCzwh4ecgxa0wXxBqKT+aU1UjPZZwAbMzMdAkPwPt3DMTtQ+IBMJghIroUDjORQ+RXqE1WMFkjM1PZYBddf0NQ8Oj4bsgvV+N4dhlO5JSbnZmpUGukSbptzcwAwMd3XYZajQ6+XgocSCtGVkm1FMxU12lh3DPQ39v0v+TADsH49u8MJKcxmCEiag4zM+QQDYdYAOvMmSlX6wMVLw85PBX6X21/bw+8fWt/PDS6CwDzMzPGlUy+ngr4eina3DaFXCZdx7jvTK5hDo1xaEwmA/wueq6BCcEAgMOZpTiVW97mdhARtUcMZsghyi7a76WpTeMsdTC9BAAQ7OfZ6L4gw7HiqjrU1GkhWtilr8hKQ0xNiVLpgxljZsaYUQrw8oDsomVOncP8MaRTCGo1Otz9+d8orTZ/zg8RkbtgMEMOcfGwUluDmUq1Bq/8ehwAcOvgDo3uNwYlx7PL0GPhBvyUnNXkdfafL8KxC2XS7r/B/o0Do7aKDLw4mKnftfhiMpkMH985CLFBvsgurcFfJ/MbnUNE5O4YzJBDlDcRzNTUabFwzVGsPdR0oHEpv6ZkI7u0BrFBvnh4TJdG91887+XXlMalAvLKanDHp3txx9I9yCuvafJx1tDcMJNxJdPFgv29MMpQyDI1h0NNREQXYzBDDmEsKxBh2DulUq3FJ3+dxVd70vDod4csvl5Wib7m0qju4dLeLQ0FXTT0lJLVuIjj0QulqNXqUFJVh52n9aUEbDPMpH/Nxn1nLt5jpinGjfdO5JRZvT1ERK6OwQw5hDEzE22YP1Jeo8HPhy9I92u0uiYf15z8cv2E4ohmNpa7OFDIL1cjt6zG5Njx7Pqsxx/H9SUEbJGZ6RIeAJlMH4Dll6ulZdlNDTMZGTfea9hGIiLSYzBDDmEsXxCt0u+5UlChxum8Cun+/Ap1k49rjjGYaW6X3Isn1gJASqZpduZEgyEc47JxW2Rmgvy80NMQnOw+W2hS6bs5iZH6zExWSXWjydNERO6OwQw5hHGYybiy52IXSmqaPN4cY/BjyZb/Fw81nchuPISTFNu4JII1GCtt7z5TKK1QUl4imFH5eSLG0FecN0NEZIrBDDnExcNMF8surbboesZ9ay4VzHQK05cV6B4ZAADYc7ZQWqJdU6fF2YJKk/N7RQdibGKERe0w13ApmCnAP1n6IKpLRMAlH9Mj2jjUxHkzREQNMZghhzAGMyH+XvBS1P8aennov8+2IDMjhKjPzAQ0H8x8/cBQ/O/2AfjgjoGQy4C954rw9qaTAIB/LpRBqxNQ+XpifI8IqHw98d7t/ZscnrKGIZ1CoJDLcL6wCusNK6sGdgi+5GOMk4CPXWAwQ0TUEIMZcgjjMJPSxxPenvW/huMMmRDjSp/zBZW45ePd+HLX+UbXKK6sxdGsUpwrqEStoSbTpTIzsUG+uK5fDLpFKvHKDX0AAP/bchqrD2bizqV7AQB941T49O7LsGfBeHSNULb9hTZD6eOJIR1DpNsKuQz94lWXfEyfWP39RzIbr8QiInJnrM1EDmHMzAT6eJjsOTOkUwg2/JOD7NJqFFSoMfHtv1Cr1eHvc0W4e3iClCnJL1dj/JtbUdbgsUofjyaXZTfltiEdsOLvdBzJLMWTPx5BnVagX3wQXpySBHmD0gO2dMOAWOw+q18C3jNaCT+vS/93TDIEMydzy1FTpzX7tRIRtXfMzJBDGAMYpY/p/i8xhorSF0pr8N+NqahtsET7fGEVPt9xDtOW7sFjKw+ZBDKAZZN/AWB8j0gAQJ1WQCYDPrlrkDSvxh6u6hMlfW/OEvDYIF8E+3lCoxOcBExE1ACDGXII43JkpU99NiLIzxMxQfoJwSmZJVh1UcmBsf/dihd/OYadpwux43QBAKBHVP1QUHN7zDRnfM/6yb2XdwmTygzYS6CPJ269LB4AMOOKzi2eL5PJpOxMU5v+ERG5KwYzZHdanZCCmQAfD2kC8KReUdK+MzoB1Gp16B8fhOkjOkqPVchl6GzInsQG+eL563tL94VeYvJvU3rHBEqrqaYOiG3162mLF6f2xp+Pj5bKFbTEOG/mKIMZIiIJ58yQ3TUsKqn08cCqh0dg7aEsPDqhO/w8FQhXekub4D00ugtqtTp8YZgAfHVSFF6e2gcfbj2NK3tFom9ckHStEkOla3PJZDK8dUt/7DtfhKn9Y9r8ulrD20OBLuGXXpLdUO8YfTCTmsthJiIiIwYzZHfGlUxeHnJ4eyiQFKuShk8AYNWsETicWYIQfy+M6BIm1V0CgAeu6AyVnycWXNOz0XXjg/0sbsvwLqHSni+uID5En7nKKrZsHx4iovaMwQzZXcOVTE2JD/FDfEh9YBIb5IuF1/aCEAL944Manb/xX6Pw5e7zeHJSok3a60xiDROk88rVUGu08PbgiiYiIgYzZHfNrWS6lPtHdmr2vsSo+n1j2rsQfy/4eMpRU6dDdkkNOtpx9RURkbPiBGCyuwq1ccM8xtKWkslkiDMMp2VyqImICACDGXIAY2Ym4BKFFal5xqGmrJIqB7eEiMg5MJghuyurZmamLWKDOQmYiKghBjNkd4WV+iXUIf6W7QtDenGGYIbDTEREegxmyO6KDcFMqH/LW/hTY8ZhpswSBjNERACDGXIAY2YmmMFMq8RxmImIyASDGbK7ImZm2sS4mimnrAaaBoU4iYjcFYMZsrsiac4Mg5nWCA/whpdCDq1OIKesxtHNISJyOAYzZHeFDGbaRC6XIdpQXZxDTUREDg5mFi9ejMGDB0OpVCIiIgJTp05FamqqyTkVFRWYM2cO4uLi4Ovri549e2LJkiUOajG1lRCifgJwAIOZ1pLmzXASMBGRY4OZbdu2Yfbs2dizZw82bdoEjUaDiRMnorKyUjrnsccew4YNG/D111/j+PHjeOyxxzB37lysXbvWgS2n1iqr1kCjEwCYmWkLaUUTMzNERI6tzbRhwwaT28uWLUNERAQOHDiAUaNGAQB2796Ne+65B2PGjAEAzJw5Ex9//DH279+PKVOm2LvJ1EaFlWoA+t1/WSSx9WKD9JOAOcxERORkc2ZKS0sBACEhIdKxkSNH4ueff0ZWVhaEENiyZQtOnjyJSZMmNXkNtVqNsrIyky9yHpz8ax0cZiIiquc0wYwQAvPmzcPIkSORlJQkHX/vvffQq1cvxMXFwcvLC1dddRU+/PBDjBw5ssnrLF68GCqVSvqKj4+310sgM3Dyr3XESrsAsz4TEZHTBDNz5szBkSNH8O2335ocf++997Bnzx78/PPPOHDgAN588008/PDD+OOPP5q8zoIFC1BaWip9ZWRk2KP5ZKZiBjNWYZwzc6GkBjrDHCQiInflFJX+5s6di59//hl//fUX4uLipOPV1dV4+umnsXr1akyePBkA0LdvXxw6dAj//e9/MWHChEbX8vb2hrc3a/5Ym1qjhZdCDplM1qbrMDNjHdEqHyjkMtRqdSioUCMi0MfRTSIichiHZmaEEJgzZw5WrVqFzZs3o1OnTib319XVoa6uDnK5aTMVCgV0Ou58ai+l1XUYsXgzRr2xBb//kyMd33u2EBlFlg1zcPdf6/BQyBFlCGBYo4mI3J1Dg5nZs2fj66+/xooVK6BUKpGTk4OcnBxUV+vfnAMDAzF69Gg88cQT2Lp1K86dO4cvvvgCy5cvxw033ODIpruVQxklKKysRUZRNR78+gD+uVCKXacLcOsne3D/l/sghPnDHIUV+tVMzMy0HZdnExHpOTSYWbJkCUpLSzFmzBhER0dLXytXrpTO+e677zB48GBMmzYNvXr1wquvvoqXX34ZDz30kANb7l5O51VI3wsBLN1+Dh/9dRYAcDK3AmfyK5t83MZ/cjDoP5uw60yBdCy3TB/MRHJYpM1iWXCSiAiAg+fMmPMXfVRUFJYtW2aH1lBzTueVAwDGJIZja2o+Vh/MMrl/84lcdI0IaPS4WV8fgE4Ad3y6F+df1c95yjXUEmIw03b1y7O5oomI3JvTrGYi53UqV5+ZuWFALIZ1rt8DSOmtj4X/OJ7X5OMaLrIRQkCI+sKIUSoGM23FYSYiIj2nWM1EzksIgVOGYaZuEUq8d9sAbPgnBzKZDAPig3Dt/3bgQFoxSqvroPL1NHlsZKC3NKx0MrcC0UE+qKrVAoA0eZVaj8NMRER6DGbokvIr1CitroNcBnQO94ePpwJ3D+8o3Z8Q6oe0wiocyijB6O7h0nGdTkgrlwBg15kCjOwaBgAI9PGArxdLGbRVXLChpEFJNYQQbV42T0TkqjjMRJdknPzbIcQPPp6NA5BBHYIBAMlpxSbHCyrVqNPWjzPtOVsoDTFxvox1RBuG6qpqtSiuqnNwa4iIHMeszMx7771n8YXvvfdeKJVKix9HzqNWo8OSrWcAAIlRTf8sByQEY9XBLCSnmwYz2SU1Jrf/uVCGnFLOl7EmH08FwpXeyC9XI6u4msvdichtmRXM/Otf/0JcXBwUCvOGBjIyMnDttdcymHFxb/6eiu2nCuDnpcDccd2aPMeYmTmUXgKtTkAh1w91ZJfq53F0DvPH2YJKZBZX43S+PsvDzIz1xAX76oOZkir0iVM5ujlERA5h9pyZ/fv3IyIiwqxzGcS4npTMUry24QTqtDrMHNUZlyWE4Ks9aQCAN/+vH5Jim/6gTIxSwt9LgXK1BqfyytEjKhAAkG3IwvSIVqK6Tovs0hpsS80HwMm/1hQb5IuD6SVc0UREbs2sYGbRokUICGi8j0hznn76aYSEhLR8IjmNz3eew47T+s3tymo0uL5fDKpqtegRpcRVSVHNPk4hl6FPnAp7zhYhJbO0UTATrfJFdZQ+mDmRo9+vJpLDTFYTFqCvQ1bYYLI1EZG7MWsC8KJFi+Dn52f2RRcsWICgoKDWtokcINUQaOi/L8OXu84DAO4f2anFVTKJkfpMnHEYCQAuGOoFRat80CM60OR8ZmasJyxAP0+mqILBDBG5L4tXM1VXV6Oqqn7H0bS0NLzzzjv4/fffrdowsh+tTpgEIjoB5JTVwNtDjmv7xrT4+K7GYCa3/hoNMzM9Lpo83CXc3xrNJgAh/szMEBFZHMxMmTIFy5cvBwCUlJRg6NChePPNNzFlyhQsWbLE6g0k20srrEStRgdfTwUm942Wjo/sGmbWfjBdw/VDkMbN9apqNUjJKgUAdI8MQM8GmZlZY7qgc7j5Q5Z0acYVTIWVage3hIjIcSwOZpKTk3HFFVcAAH788UdERkYiLS0Ny5cvb9USbrK/XWcKcMXrm/HSL8dQVlOHk7n6IaZukQG4LCFYOm98z0izrtctUh+cZBRXoaZOi52nC1Gr0SEu2BddIwLQLSIAM67ohH9N6IYnJyVa/wW5MWmYiZkZInJjFu8AXFVVJa1W+v3333HjjTdCLpdj2LBhSEtLs3oDyfp+S8lBRlE1lu44h9xytZRZ6R6pxKAGwcy4HuatXgv190KwnyeKq+pwJr8Cfx7PBQCM7xEhzbd5ZnIvK78KAuozM5wzQ0TuzOLMTNeuXbFmzRpkZGRg48aNmDhxIgAgLy8PgYGBLTyanEFmcf2cpz1nC6XMTGKkEkkxKtw1LAGPTehu9uZ2MplMqpp9KrcCm0/oC0+am9mh1gs1rGYqV2ug1mgd3BoiIsewOJh57rnnMH/+fHTs2BFDhw7F8OHDAeizNAMGDLB6A8n6Gu5Jkl+uxqGMEgD64SK5XIb/TE3CoxOa3iSvOV0j9Nm63WcKkVeuhlwGDO3M5fm2FujjAU+FPvvFoSYiclcWDzPdfPPNGDlyJLKzs9GvXz/p+Pjx43HDDTdYtXFkfUKIRhusZRmWUTdXssAcCaH6pfv704oAAOFKb3h7sJikrclkMgT7eSGvXI3CilpEq3wd3SQiIrtrVdXsqKgoREWZbqQ2ZMgQqzSIbKu4qg7VdfrhiB5RSmkjO6WPR5v2fzEWPTyTXwmAe8nYU2iAtz6YYWaGiNyUxcHM2LFjL7mJ2ubNm9vUILIt43yZCKU3ukfWBzOJkcoWN8e7lIszAqy/ZD+hxknAXJ5NRG7K4mCmf//+Jrfr6upw6NAhHD16FPfcc4+12kU2Yhxiigv2lYaGAKBbZNvqaUVfNFmYlbHtR9prhiuaiMhNWRzMvP32200ef/7551FRUdHkfeQ8sqRgxg8dQuqDmcTItm1kFxnoA5kMEKL+NtlHaIBx4zwGM0TknixezdScO++8E59//rm1Lkc2Yhxmig32RUJofVmB7m2Y/AsAXh5yqeghwDkz9hTKvWaIyM1ZLZjZvXs3fHz4AebsGg4zdWwwzNS9jcNMABDTYGiJw0z2EypVzuacGSJyTxYPM914440mt4UQyM7Oxv79+7Fw4UKrNYxsw7gMOy7YDxGBPnhodBd4KWQmWZXWilb54nCmviYTh5nsp74+EzMzROSeLA5mVCqVyW25XI7ExES8+OKL0m7A5Jwa7jETG6RfffTU1T2sdv3oIGZmHKF+NRODGSJyTxYHM8uWLbNFO8gOSqvrUKHWANAPM1mbcUVTgLcHArxbtYURtYI0zMQ5M0Tkpqw2Z4acnzErExbgDR9P6+/Oa9xrJjKw7UNWZD7jMFMF6zMRkZsy68/nkJAQnDx5EmFhYQgODr7k5mpFRUVWaxxZlzTEZIOsDACM7BqGfvFBmNIvxibXp6YZ6zPVaQWKKlnSgIjcj1nBzNtvvw2lUil935adYslxjMuybTHEBADB/l5YO/tym1ybmieTyRDi74XcMtZnIiL3ZFYw03Bn3+nTp9uqLWRj9SuZ+GHX3oT4e+uDGU4CJiI3ZPGcmeTkZKSkpEi3165di6lTp+Lpp59GbS3fSJ2ZtMdMEIOZ9iZUKmnAvWaIyP1YHMw8+OCDOHnyJADg7NmzuPXWW+Hn54cffvgBTz75pNUbSNaT2aCUAbUvxpIGXJ5NRO7I4mDm5MmTUrHJH374AaNHj8aKFSvwxRdf4KeffrJ2+8iKbD1nhhyHG+cRkTuzOJgRQkCn0wEA/vjjD1xzzTUAgPj4eBQUFFi3dWQ1FWoNymv0e8xEc5ip3QmT9prhMBMRuR+Lg5nLLrsML730Er766its27YNkydPBgCcO3cOkZGRVm8gWUdOaQ0AQMkN7dqlEO4CTERuzOJg5p133kFycjLmzJmDZ555Bl27dgUA/PjjjxgxYoTVG0jWkVumD2YiWWagXeIwExG5M4v/RO/bt6/JaiajN954AwqF9XeVJeswZmaiWACyXQoLMK5mqsWGo9lYtvM83rq1v1SDi4ioPbNaOQMfHx94enpa63JkZTnGzAyDmXYpQqn/ueaU1uDT7eew91wR1h+54OBWERHZh1mZmZZKGDTEcgbOyTjMFKVi3aT2KDbIFz6ectTU6XAwvRgAcDqvwsGtIiKyD7OCmXfeecfGzSBb4zBT+yaXy9AlPAD/XCiDTuiPnWIwQ0RuwuJyBuSacjnM1O51i9AHM0ancysghGAtNSJq91o1Z+bMmTN49tlncfvttyMvLw8AsGHDBvzzzz9WbRxZT440zMRgpr3qFqk0uV2u1iC3jPvOEFH7Z3Ews23bNvTp0wd79+7FqlWrUFGhT2UfOXIEixYtsnoDqe00Wh3yy/Ufahxmar+6RgQ0OnYqr9wBLSEisi+Lg5mnnnoKL730EjZt2gQvLy/p+NixY7F7926rNo6so6CiFjoBKOQyhAZwAnB71TCYUcj1Q0tNTQI+m1+BqlqN3dpFRGRrFgczKSkpuOGGGxodDw8PR2FhoVUaRdaVVaIvMBmh9JY+5Kj9SQjxg5dC/196eOdQAEBqjmlm5tiFMox/axtu/3Qv9p4txMfbzkBnnDFMROSiLN40LygoCNnZ2ejUqZPJ8YMHDyI2NtZqDSPrScksAQB0v2hOBbUvHgo5HruyO07llmNi7yjsOF2Av8+ZbpWw83QBhAAOZ5Tg1k/2AND/XoztEeGIJhMRWYXFmZk77rgD//73v5GTkwOZTAadToedO3di/vz5uPvuu23RRmqj5PQSAMDADsGObQjZ3KwxXfDWrf0xvEso5DLgbEGltCwfaHrY6VBGiR1bSERkfRYHMy+//DI6dOiA2NhYVFRUoFevXhg1ahRGjBiBZ5991hZtpDZKNmyiNiiBwYy7UPl6oneMCgCw+2x9NfsTOfql28bhKAA4mlVq38YREVmZxcGMp6cnvvnmG5w6dQrff/89vv76a5w4cQJfffUVazM5obyyGmQWV0MmA/rFqxzdHLKjEV3082Z2n9HPZdPqBFJz9XNoNvzrCvw0azgAIMUQzOw6XSDtHkxE5EosmjNTVlaGgIAAyOVydO7cGZ07dwYA6HQ6lJWVITAw0CaNpNYzZmUSI5VQ+rB2ljsZ3iUUH/91FpuO5aK0qg6FlWrU1Ong4ylHQqg/olW+kMuAvHI1jmaV4q7P/4ZWJ/DFvYMxJpFzaIjIdZidmVm9ejUuu+wy1NTUNLqvpqYGgwcPxrp166zaOGobnU7g0+3nAADDDKtbyH1c3jUM3SICUFxVhzd+P4EThpVNiZFKKOQy+HoppOXcX+9Jg9awqunhb5KRV9b4/zkRkbMyO5hZsmQJnnzySfj5+TW6z8/PD//+97/x/vvvW7VxZEoIy5bQrj6YhQNpxfDzUuDB0Z1t1CpyVp4KOV6Y0hsA8PWedMz7/hAAoGd0fQY1KVY/9PjdvgzpWFWtFltT8+3XUCKiNjI7mDl69CjGjBnT7P2jRo1CSkqKNdpETdDpBG75eDfu+HSP2fuCfLHrPABgzriuiFb52rB15KxGdAnDk1clwkuhr6jdOdwfD4/panJ/Qypf/VDkrjMFICJyFWbPmSkuLoZG0/yuoXV1dSgu5uRBWymoUGPfeX3/ZhZXo0No4wxZQ7llNUjJKoVMBvzfoHh7NJGc1MNjumJK/1gcv1CG0Ynh8GywkmlsYjhkMsCY9Js5qjPe2JiK9SnZiFL54vp+MegVw7lwROTczM7MdOzYEfv372/2/v379yMhIcEqjaLGSqvrpO+NK1IuZfMJfQHQfnFBCFeyhIG7iw3yxYRekSaBDACEBngjpkHW7s6h+v/DdVqBj7adwRsbT9i1nURErWF2MHPjjTfimWeeQW5ubqP7cnJy8Oyzz+Kmm26yauOoXnFVfTBzIrusxfP/PK4PZsZzZ1dqQcPJ4So/T/SLq1/Cv4VzZ4jIBZg9zPTUU09h7dq16NatG+68804kJiZCJpPh+PHj+OabbxAfH4+nnnrKlm11ayVVtdL3J3IunZnRaHXSnIdxPRnM0KU9O7knymvqcONAfTmSJyb1wJubUnHQsHP0hZJq+HoqEOzvdYmrEBE5jtnBjFKpxM6dO7FgwQKsXLlSmh8THByMO++8E6+88gqUStb+sZWSBsNMx3MunZk5kVOOqlotAn080DOK8x3o0oL9vfDJ3ZdJt0d2C8PIbmEY9foWpBdVYcSrm+HrqcDy+4dgcMcQB7aUiKhpFu0ArFKp8OGHH6KgoAC5ubnIyclBQUEBPvzwQwQFBdmoie4tJbMU05f9jZ2n61eXnC+oRHWtttnHGDfK698hGHJWyaZW6hFV/8dJdZ0W9y7bh4yiKge2iIioaRaXMwAAmUyG8PBwREREQCZr/Yfl4sWLMXjwYCiVSkRERGDq1KlITU1t9FxNfb3xxhutfl5XUavR4br3d2Braj7WHrogHdcJ4D/rj6FS3fTqsgNphlpMLCxJbdAj2jSrV6HW4KfkTAe1hoioea0KZqxl27ZtmD17Nvbs2YNNmzZBo9Fg4sSJqKyslM7Jzs42+fr8888hk8ncYrLxsp3nmr1vxd50zFi+H2pN4wyNMZgZmBBkq6aRG+hm2B0YAK5OigJQX+eJiMiZWFSbydo2bNhgcnvZsmWIiIjAgQMHMGrUKABAVFSUyTlr167F2LFjpbpQ7dkvR7IbHXvh+t7oGOaPh78+gF1nCvHqbyew6Lre0v0NC0v2jw+yY2upvbmsYzC8FHL4eyvw+MTu+O1oDg6ml6CmTgsfTxaVJSLn4dDMzMVKS/XVe0NCmp5kmJubi/Xr1+P+++9v9hpqtRplZWUmX64qvYn5CUF+nhjdPRxv3tIPgL5kgbbBjsDbTuqX0vaOCWRhSWqTaJUvfn30Cmz81yh0CQ9AVKAParU63PjhLmz8Jwd7zhbixXXHUFPX/PwtIiJ7aFMw01TRydYSQmDevHkYOXIkkpKSmjznyy+/hFKpxI033tjsdRYvXgyVSiV9xce75u63ZTV1JhvlGQX56ZfHTugZCZWvJ0qq6qQJv0D9/jLjekTap6HUrnWNCEBEoA9kMhlGdNHvR3Msuwz/+u4Q5n57EJ/vPIeVDeo6ERE5gsXBjE6nw3/+8x/ExsYiICAAZ8+eBQAsXLgQn332WasbMmfOHBw5cgTffvtts+d8/vnnmDZtGnx8fJo9Z8GCBSgtLZW+MjJc8402s6gaABDi74UA7/rRwCBD7RwPhRxjEsMBAA99dQBv/Z6K7NJqbD+lz8xM4P4yZGX/d1k8vAw7CFfXaZFfrgYA/GnYbZqIyFEsDmZeeuklfPHFF3j99dfh5VW/iVafPn2wdOnSVjVi7ty5+Pnnn7FlyxbExcU1ec727duRmpqKBx544JLX8vb2RmBgoMmXK8oo1g8xxQf7IlpVH7wF+9X3+fie+uxLYWUt3tt8GsMXb0ZlrRbhSm8kxahAZE3Du4Qi9aWr8JZhiNNoz5lCVDSzso6IyB4sDmaWL1+OTz75BNOmTYNCUT8JsG/fvjhxwrI6LkIIzJkzB6tWrcLmzZvRqVOnZs/97LPPMGjQIPTr16/Zc9oT434eccF+CGmw86rKr34ezJjEcMSofBDk52myJ8iNA2O5vwzZhEwmw7V9Y9AtQj+HJlqln0ez4xSrbBOR41i8mikrKwtdu3ZtdFyn06GurvEcj0uZPXs2VqxYgbVr10KpVCInJweAfnM+X9/64ndlZWX44Ycf8Oabb1raXJeVWawfZooL8UVVbf1fvcoGQ06BPp7YPH8MFHIZFDKZ9Jj4EF8Q2YqXhxzr5o6EEMDrG09g2c7z2Jqah6uSolp+MBGRDVicmenduze2b9/e6PgPP/yAAQMGWHStJUuWoLS0FGPGjEF0dLT0tXLlSpPzvvvuOwghcPvtt1vaXJeVKQ0z+cHXqz4DdnHGxcdTAU+FHHK5DB1C/dAh1K9NGxkSmcPHUwFfLwWu6BYGANh9lvvPEJHjWJyZWbRoEe666y5kZWVBp9Nh1apVSE1NxfLly/HLL79YdC0hRMsnAZg5cyZmzpxpaVNdWkaRMcviB990h24HRNSswR1DoJDLkFZYhcziKsQF+zm6SUTkhizOzFx33XVYuXIlfv31V8hkMjz33HM4fvw41q1bhyuvvNIWbXQ7QgiTCcC3DdEvL+8Xx0m95FyUPp7oa/i95O7ARO6noEKN53/+B3ll1tuqpTVa9Sf/pEmTMGnSJGu3hQzOFlSiqlYLbw854oL90Dk8AL8/NgqxQZwLQ85neOdQHEwvwe4zhfi/y1xzXycistymY7l4bOUhVKg1qKnT4tWb+jqsLa3aNK+kpARLly7F008/jaKiIgBAcnIysrKyrNo4d5VsqK3UN04FLw/9j6h7pBL+3hxuIucz0jBvZtOxXC7RJnIjr204gQq1BkmxgZg6INahbbE4mDly5Ai6d++O1157DW+88QZKSkoAAKtXr8aCBQus3T63ZNzRdyCrXpMLGNYpFJ3D/VGu1nA3YCI3UavR4VyBvij0p3dfhmGdQx3aHouDmXnz5mH69Ok4deqUyU68V199Nf766y+rNs5dJaeVAAAGJjCYIecnl8vwwEh94dclW89gayp3BCZq784XVkKrEwjw9kBUYPO78tuLxcHMvn378OCDDzY6HhsbK+0TQ61TVFmLf/94BKm55QCYmSHXcePAWHQM9UNBhRrTl+3DHi7VJmrXTuVWANDXb3OG7UAsDmZ8fHyarESdmpqK8PBwqzSqvdPqBNILqxotTf9gy2ms3K9P03cO90e40tsRzSOymI+nAmvnjMSk3voSGx9tO+PgFhGRLZ3O0wcz3SICHNwSPYuDmSlTpuDFF1+UdvuVyWRIT0/HU089hZtuusnqDWyP3vw9FaPe2IKN/+RKxzRaHX4+fAEAMLRTCD6cNtBRzSNqFZWvJxZc3RMyGbA1NR+nDBlGImp/TuXp/393i3TRYOa///0v8vPzERERgerqaowePRpdu3aFUqnEyy+/bIs2tjv7zutXgO0+U1/PZteZQuSXqxHs54mv7h+KHlGuWSCT3FvHMH9M7KXPznyzN93BrSEiW6nPzChbONM+LF7rGxgYiB07dmDz5s1ITk6GTqfDwIEDMWHCBFu0r10yzgA/nlP/l6sxK3Nt3xhpOTaRK7ptSAds/CcX6w5fwDOTe8JTwd9novakVqPDWcPnWFcnGWayKJjRaDTw8fHBoUOHMG7cOIwbN85W7Wq3SqvrUFBRCwA4kV0GIQRkMhn2ntNPmJxomHNA5Kqu6BqGUH8vFFbWYsepAoztEeHoJhGRFe07X4RajQ5hAd5Os5mrRX8yeXh4ICEhAVqt1lbtaffOG6JZACir0SC7tAZ55TXIKKqGTAb0jw9yXOOIrMBDIcd1/WIAAN/t41ATUXvzx3H9fM9xPcIbFT92FIvzv88++ywWLFgg7fxL5qnT6rD4t+NY9PM/JsdP5JRJ+8okRiqh9PF0QOuIrOu2IfGQyYCN/+SyZhNROyKEwJ/H9XtJje/pPCMJFs+Zee+993D69GnExMQgISEB/v7+JvcnJydbrXHthRAC//7xCFYdbFzu4Xh2OUqr9SvDuEketRc9ogIxbWgHfL0nHS+s+we/PXqFU+xFQURtcya/EulFVfBSyDGya5ijmyOxOJiZOnWqDZrRvm1JzWsUyIQrvZFfrsb+80Uor9HXs+EmedSezJ+YiFXJWTiRU45DGSUYwN9vIofZdaYAf50swOMTu7dpUr5xfudlHYOdql6gxS1ZtGiRLdrRrv19Tl9rqXOYvzQDfPqIjnhjYyq2nsyH8e/VwR35Zk/tR5CfFyb1jsLqg1lYczCLwQyRA93x6V4AgJ+XAo+M79bq6xinRVzmZCMJXDNpB0ezSgEAM0Z1xpjEcAT5eeL2IR0wNjEcQgA6AVzXLwYJof4tXInItRgr6a47ko06rc7BrSGiX1Oy2/R4YyHkAU4WzFicmQkODm5y7Fsmk8HHxwddu3bF9OnTce+991qlga5OCIEUQzDTJ1aF/xsUB0C/4mPGqM7YkpoPPy8FnrmmpyObSWQTl3cJRViANwoq1Nh9phCjurPkCZEjnchp/c7cRZW10j5pA+OdK5ixODPz3HPPQS6XY/LkyXjhhRfw/PPPY/LkyZDL5Zg9eza6d++OWbNm4dNPP7VFe11ORlE1Sqvr4KWQo3ukEh4KOTwM45UjuoThozsHYsWMYYhSOb7qKJG1eSjkmNBTv8/M5hOspk3kCDqdaR3ArJLqVl0nOU2flekaEQCVn3OtvLU4M7Njxw689NJLeOihh0yOf/zxx/j999/x008/oW/fvnjvvfcwY8YMqzXUVRmzMolRyiZ39r0qKdreTSKyq/E9I/Hdvgz8cTwXi67rxVVNRHZWrtaY3N51ugD/d1m8xdc5lFECABjYIcgKrbIuizMzGzdubLJ0wfjx47Fx40YAwDXXXIOzZ8+2vXUu7nReOZZsOw0ASIpVObg1RI5xeddQeHnIkVlcjadXpyC3rMbRTSJyK2WG7T+MTrayCOwRwx/nfeOC2tokq7M4mAkJCcG6desaHV+3bh1CQkIAAJWVlVAqnaP4lKMIIfDgVwdwNKsMPp5y3DbY8iiYqD3w8/LA5V1CAQDf/p2BF9b908IjiMiaSi8KZi6+bQ4hhLSYpY8T/nFu8TDTwoULMWvWLGzZsgVDhgyBTCbD33//jV9//RUfffQRAGDTpk0YPXq01RvrSg5llOBMfiV8PRX44/HRTlO/gsgRnr6mJ7JLa3Aipxx7zxZJNcmIyPYuzsy0Jpi5UFqDospaeMhlSIxyvmSFxcHMjBkz0KtXL7z//vtYtWoVhBDo0aMHtm3bhhEjRgAAHn/8cas31NWsMWySN6l3JAMZcnvdIpVYO+dy9Fn0Owora5FWWIWOYdyKgMgeympMg5eSKsuDmZRMfVame6QSPp4Kq7TLmlq1fd/ll1+Oyy+/3NptaTeqa7VYd0S/lt+4zwaRu/P2UCApNhDJ6SVITi9mMENkJ2XV+gnAXgo5arW6VmVmnHmICWjlpnlnzpzBs88+izvuuAN5efrllhs2bMA//3AsHAA+3HoaRZW1iA3ydaraFUSOZizZccCwxJOIbM8YvMSH+JrctoRxJVNSbKDV2mVNFgcz27ZtQ58+fbB371789NNPqKioAAAcOXKEpQ4AZBRV4eNt+pVcC6/tKe0pQ0TAIMOuocnpJY5tCJEbMQ4zdQjxA2DZMFNGURVySmvw97kiAMBww2R+Z2PxMNNTTz2Fl156CfPmzTNZsTR27Fi8++67Vm2cK/rhQCZqtToM6xyCSb2jHN0cIqfSNz4IAHAqtxx1Wl2bCt4RkXmMmRhjMFNdp4Vao4W3R/NzX6pqNXjihyNY36D8QUKoH7qEB9i2sa1k8TtJSkoKbrjhhkbHw8PDUVhYaJVGuSohhDTx9/YhHbhag+giMSof+HspoNEJpBVWOro5RG7BuJopNtgXcsPHUktDTct2njcJZABgfI9Ip/1csziYCQoKQnZ240JVBw8eRGyse092PZhRgvSiKvh5KXBlr0hHN4fI6chkMnSN1Gd0T+VWOLg1RO7BGLgE+Xoh0FdfhqC0haGmHacKAAD94uon/I43lCZxRhYHM3fccQf+/e9/IycnBzKZDDqdDjt37sT8+fNx991326KNLmPTsVwAwMRekfDzatVCMaJ2r1uEPk19Ko/BDJE9lNXoVzMF+nogyBDMlFwiM1NTp8UBQ3XsN2/pj9uHxOOaPlEY0inE9o1tJYs/cV9++WVMnz4dsbGxEEKgV69e0Gq1uOOOO/Dss8/aoo0u46ShGumgjs77AydyNAYzRPZlHGYK9PGEys8LKKy65CTg5PRi1Gp0iAz0Rpdwfyy+sa+9mtpqFgcznp6e+Oabb/Diiy/i4MGD0Ol0GDBgALp162aL9rkU45tzVyedIEXkDLoagpnTDGaI7MI4zBTo6wmVcZjpEpmZ3Wf081+Hdw512jkyF2v1WEiXLl3QpUsXa7bFpdXUaZFRXAUA6BbJYIaoOd0i9HNmzuRXQKsTUMjr3ywLK9Q4kVOOEV1c502UqCUH04txJr8SncL8MCjB/pl749Jsla9n/TBTVW2j8/65UIpAH0/sMgQzI7q4zj5pFgUzlZWVeO2117Bq1SqcP38eMpkMnTp1ws0334z58+fDz8/PVu10emfyKyAEEOzniVB/L0c3h8hpxQX7wsdTjpo6Hc4XVpos9ZzywU5kFlfji3sHY0yi8042JDLXhZJq3PzRbmh1AnIZsGneaLsub67V6FBTpwOgH2YK8ms6M3M2vwJTP9iJYD8vFFXqAx1n3VOmKWZPAK6trcXo0aPx+uuvo1u3bpg7dy5mz56NTp064eWXX8b48eNRV2f5roLthTFl3i1Cyb8oiS5BLpehd4x+hcShBpvn1dRpkVlcDQDYebrAEU0jsroDacXQ6gQAQCfqF4rYS1WtRvrez1vR7DDT6oNZqNMK5JWrodEJxAX7Ij7EdRIUZmdmlixZgszMTBw+fBiJiYkm9504cQJjxozBRx99hLlz51q9kc5oy4k8rE/JxrDOobh5UJy0zLRLBIeYiFoyKCEYB9KKkZxejJsGxQEAkhuUOAhmdpPaCWNNI6M/j+fiodH2m6JRXacFAHgqZPBUyKVgpuEEYCEEVhv2SDMa4UJZGcCCzMyqVauwcOHCRoEMAPTo0QPPPPMMfvzxR6s2zpkdyy7DjwcyseNUPgDgVJ5+JVM3BjNELRrYIQiA/q/WtYeycPW723HH0r3S/S3tgUHkTHQ6gfTCKgghGt2XYghmHhnXFYD+d764svF8FVupqtUHM8ZK10F++j8UGi7N3nYyH5nF1fBoMH/NlYaYAAuCmWPHjmHMmDHN3j927FgcO3bMGm1yCRcvLz2erQ9mukcqm30MEekZC06eyCnHo98dwvHsMpP7LakdQ+RoX+1Jw6g3tmDlvgyT40IIKTMzKSkKPaKU0Angsx3n7Na2akMw4+elD2ZCA/TBTF5ZDZLTi/Hy+mN49LtDAIBbB8djSKcQhPh7YVS3cLu10RrMHmYqKSlBaGjzkVpoaChKS0ubvb+96RZZvyKjuLIW6UX6lUzOWlGUyJlEBPqY3L5xQCxWNUhzFzex0oLIWW1NzQMA/HIkG7cN6SAdTy+qQlmNBl4ecnSPVOKBKzpj/g+H8f6W0+gZHYjJfaNt3jbjMJOvITMTH6yvnJ1ZXI353x/G2QJ9WZEBHYLw7OReUMhl0AkhZXJchdmZGZ1OB4Wi+Rcnl8uh1Wqt0ihXEB/sCy8P/YqMjf/k6I+F+EopPCK6tOkjOgIAFlzdA2/d2h9f3DsY1xre3C+1OymRszlh2DB13/kiqDVaHM0qxdpDWThgmAfWM0oJT4UcNw+Kk37v1xzKau5yVmXMzPgadqWPC9ZP6q1Qa6RAZsYVnfDFvUPg66WAl4fc5QIZwILMjBAC48ePh4dH0w/RaDRNHm+vPBRydA7zx4mccmniVJ9YVQuPIiKjZyf3xIxRnREbpP9LcUxiBDzkcvxyJJtzZshllFTVIru0BgCg1ujwxc7zeOePU6iu00qTbUd3rx+yuaJbGL7YdR4XSqrt0j7jnBlfT33uwsdTgXClN/LL1QAApY8Hnr6mp8uvwjU7mFm0aFGL59x0001taoyr6RoRgBM55dh7rggAkMRghshsHgq5FMgYGffA4DATuQpjVsZo8W8npO9Lq+vgpZDjzuEJ0rEYw+98lp2CmZo645yZ+o/7+GBfKZjpHObv8oEMYOVgxt3odzKtryDOzAxR2xiDmZLqOggh2sWbLLVvJwyT1z0VMtRp9auZLksIRlFVLc7mV2JK/xhEKOvniMUa5qyUVNWhUq2Bv7dtixIb58w0HDqKC/ZDsmGPp05h/jZ9fnthaec2aFi2IMDbA31jgxzXGKJ2wDjnrFajQ3WdltXnyekZMzP3Xd4JXh5ydAz1x9QBsTidV4Fv9qZh7jjTuoWBPp5Q+nigvEaDCyXV0mISW6m6aDUToJ/fadS5ndQSNGsC8MCBA1FcXNzyiQYjR45EVpZ9Jjc50pBOIQgL8Ea/+CB8ed8QqAx/VRJR6/h7KeCp0GdjuDybXIFxW4E+cSo8PjERNw2Kg0IuQ2KUEi9OSUK40rvRY2LtONRUc9FqJgCID67f2detMjOHDh3C4cOHERJiXoGsQ4cOQa1Wt6lhriAswBv7nhnPVDiRlchkMqh8vVBQoUZJVZ00v4DIGdXUaXHMEMz0iwsy+3GxQb44kVNul2DGWM7A1yQz46bBDACMHz++yd0Nm+JOH+7u9FqJ7CHIz9MQzHASMDm3lKxS1GkFwpXeiAs2P/CWJgEX2z6Yqa7VF5lsGMx0cNdg5tw5y3crjIuLs/gxRETBDSYBEzkzYz2xgR2CLPrD1jgJ2B7Ls6vrDJkZkwnAvrhneAKC/b1sPgHZXsx6FQkJCS2fRERkBSpfQ+0YzpkhJ2fcFG9QQrBFj7PnnJmLyxkA+hGFF6Yk2fy57cnsHYCJiOzBmJlJTi+GTmfe0DaRvQkhpOXNxlpj5jJmZoxlcGzp4kKT7RWDGSJyKsa9Zn48kIn5Pxx2cGuImpaaW46CCjW8PeQWb5ja1VCoOLfM9nPDqusaZ2baIwYzRORUrkqKkr5PyXKf4rXkWv48ri8ueXnXMIuzHoE+ntKE4Yt3ELa2ppZmt0cMZojIqQxKCMGa2ZcDqE+REzmbP4/nAgDG94xo1eN7RAUCqN9B2Fak2kzMzDRWUlKCpUuXYsGCBSgq0tclSk5OdouN8ojI9owpceMeGUTOpLBCjYMZJQCAcT1aF8z0jNbv/GvrzEy1m2RmLF6TdeTIEUyYMAEqlQrnz5/HjBkzEBISgtWrVyMtLQ3Lly+3RTuJyI3UBzPMzJDz+Sk5E0IASbGBiFa1bmNHY2Zmx+kC7DtfhMsSgm2yb1n9aqb2sQS7ORZnZubNm4fp06fj1KlT8PGpL5519dVX46+//rJq44jIPRnfeNUaHbRc0UROYM3BLCzdfhZ1Wh2W7TwPALhrWOu3LelhyMxkFlfj/z7ajZ2nC63RzEakzIxX+55VYvGr27dvHx588MFGx2NjY5GTk2PRtRYvXozBgwdDqVQiIiICU6dORWpqaqPzjh8/juuvvx4qlQpKpRLDhg1Denq6pU0nIhfRcOUFh5rI0fLKavCvlYfw0vrjePibZGSX1iAswAtT+se2+podQ/2h8q2v53cqzzbDTVya3QwfHx+UlTWesJSamorw8HCLrrVt2zbMnj0be/bswaZNm6DRaDBx4kRUVlZK55w5cwYjR45Ejx49sHXrVhw+fBgLFy40yQoRUfvi7SGH3JBxr+ZQEznYz4cvSN9vOqaf+PvAFZ3bFCAo5DJ8df8QdDaUE8gpq2lbI5ug1QnUavTlDNr7MJPFr27KlCl48cUX8f333wPQ7ySYnp6Op556CjfddJNF19qwYYPJ7WXLliEiIgIHDhzAqFGjAADPPPMMrrnmGrz++uvSeZ07d7a02UTkQmQyGfy8PFCh1qCSwQw52JpDpotbru0bjZlXtP1zqG9cEG4ZHI9XfzuBvDLrF2c2LssG2v8EYIszM//973+Rn5+PiIgIVFdXY/To0ejatSuUSiVefvnlNjWmtFS/p4SxOrdOp8P69evRvXt3TJo0CRERERg6dCjWrFnTpuchIufnyxVN5ATO5FfgaFYZPOQy/DRrBBbf2Adv3tIPcrl1JutGBnoDAHJtkJlpOIHex7N9z5mxODMTGBiIHTt2YPPmzUhOToZOp8PAgQMxYcKENjVECIF58+Zh5MiRSErS14zIy8tDRUUFXn31Vbz00kt47bXXsGHDBtx4443YsmULRo8e3eg6arUaanV9hNvUkBgROT9/LwXywWEmcizjsNKIrmEYlBBscR2mlkQG6qdM2CKYabhhni1WSjkTi4IZjUYDHx8fHDp0COPGjcO4ceOs1pA5c+bgyJEj2LFjh3RMp9OP9U2ZMgWPPfYYAKB///7YtWsXPvrooyaDmcWLF+OFF16wWruIyDF8DWP8HGYiR9ps2Ol3Qis3x2uJMZixxTBTVRNFJtsri/JOHh4eSEhIgFZr3TeXuXPn4ueff8aWLVsQFxcnHQ8LC4OHhwd69eplcn7Pnj2bXc20YMEClJaWSl8ZGRlWbSsR2YfxDbiaw0zkIMWVtdifpt8YtrWb47XEGMyUqzWoVFv3d924LLu9r2QCWjFn5tlnnzXZ+bcthBCYM2cOVq1ahc2bN6NTp04m93t5eWHw4MGNlmufPHkSCQlNr+/39vZGYGCgyRcRuR5unEeO9uOBTOgE0CNKibhgP5s8R4C3B/wNv+vWHmoyzjdzh8yMxXNm3nvvPZw+fRoxMTFISEiAv7+/yf3JyclmX2v27NlYsWIF1q5dC6VSKe1To1Kp4Our31XxiSeewK233opRo0Zh7Nix2LBhA9atW4etW7da2nQiciHGN2AOM5EjbE3Nw+LfjgMAbrks3qbPFanywdn8SuSWqdE5PMBq1y2urAMAk/1s2iuLg5mpU6da7cmXLFkCABgzZozJ8WXLlmH69OkAgBtuuAEfffQRFi9ejEceeQSJiYn46aefMHLkSKu1g4icj3FfDA4zkSO8++cp6ARw86A43Ht5R5s+V6RSH8zklVs3M2PcuyZS1f73ZbM4mFm0aJHVnlwI87Ypv++++3DfffdZ7XmJyPlxmIkcpaBCjUOGQpLzJybafCWQcXl2Tql1gxnjsFVUYPsPZtr3wnMiclkMZshRtpzIkwpJRtkhq1G/PNu6K5qMwZE7BDMWZ2bkcvklo1Rrr3QiIvdkXJrNTfPI3v40LMce1yPSLs8nBTMcZmo1i4OZ1atXm9yuq6vDwYMH8eWXX3J/FyKyGn9mZshB9p3Xr9Ydk2hZvcHWqt9rhsNMrdWq2kwXu/nmm9G7d2+sXLkS999/v1UaRkTuTRpmUjOYIfvR6gSKqmoBAHHBvnZ5zvqSBtYbZhJCuNUwk9XmzAwdOhR//PGHtS5HRG5OGmaqYzBD9lNWXQfj2pQgXy+7PKcxM5NTVmP2wpiWlFbXQW2omB1hCJbaM6sEM9XV1fjf//5nsnsvEVFb+HMHYHKAYkNWJsDbA14e9lkjYww2ajU6lFbXWeWaxvkywX6ebrEDsMXDTMHBwSYTgIUQKC8vh5+fH77++murNo6I3JexanYlh5nIjoqr9MFEkJ/9Nprz9lAg2M8TxVV1yC1TI8iv7RkhaYhJZZ+hMkezOJh5++23TYIZuVyO8PBwDB06FMHB1q0mSkTuS9o0j8NMZEclhsxMiL99hpiMIgN9DMFMDRKjlG2+Xv3k3/Y/xAS0IpgZN24c4uPjm1yenZ6ejg4dOlilYUTk3ur3meEwE9lPUaU+mLFGdsQSkYE+OJFTLg0PtYVGq8P6FH15oOgg98jMWDwg2KlTJ+Tn5zc6XlhY2KhQJBFRa3E1EzlCiWGYKdiOw0xA/Yqmi5dnn8wtR3mNZfNo3vnjFP46mQ9vDzluG2zbulLOwuJgprmZ1hUVFfDxaf/Lv4jIPvwarGay1goPopYYJwAHOyAzA5guz957thAT3/4LC1alWHStP47nAgBeuL43+sYFWa2NzszsYaZ58+YBAGQyGZ577jn4+dWXQ9dqtdi7dy/69+9v9QYSkXvy89ZnZrQ6gVqtDt4e7X9FBjmeIyYAA0CEFMzUZ2Y2/qMPSrafKoAQwqwaUTqdwLmCSgDAsM6hNmipczI7mDl48CAAfWYmJSUFXl71UauXlxf69euH+fPnW7+FROSW/BosJ61SaxnMkF2UOCgzY9zY7kJptXRs99lCAPo9YzKLqxEf4tfkYxvKLquBWqODp0Jmt03/nIHZwcyWLVsAAPfeey/effddBAYG2qxRREQeCjm8FHLUanWoqtOCayXJHozDTPbOzPQwrGA6kV2OSrUGao0Ox7PLpPtTskrNCmbO5euzMh1C/OChcJ9a0ha/0mXLljGQISK7MA41ceM8shfjBGB7L82OD/FDfIgvNDqBFXvTcc/nf5vcn5JVatZ1zhZUAAA6hQVYvY3OzOKl2QCwb98+/PDDD0hPT0dtba3JfatWrbJKw4iI/DwVKEEdN84ju3HUBGAAGN45FBlFmXj51+PSMeNmekfNDWYMmZnO4f42aaOzsjgz89133+Hyyy/HsWPHsHr1atTV1eHYsWPYvHkzVCqVLdpIRG7Kl5WzyY6EEA6bAAwAI7qESd9Hq3xw/8hO+O//9QNgfmbGOPm3c5h7BTMWZ2ZeeeUVvP3225g9ezaUSiXeffdddOrUCQ8++CCio6Nt0UYiclP+3sZdgDnMRLZXVatFraE4o0MyM13qVx+9fEMSxvWIlGo1lVTVoaZO22KdJWMw08nNghmLMzNnzpzB5MmTAQDe3t6orKyETCbDY489hk8++cTqDSQi9+XryfpMZD/GISYvhVzatNGeIgN98OqNffDC9b0xrkckAEDp7QHjiuyyFopQ6nQCWSX61VAJoQxmLikkJATl5eUAgNjYWBw9ehQAUFJSgqqqKuu2jojcmp9UOZvBDNne0Sz96qEOoX5m7eliC7cN6YB7RnSUbsvlMgT66Ie8WqqoXVZTB61Ov8GkvScwO5rFw0xXXHEFNm3ahD59+uCWW27Bo48+is2bN2PTpk0YP368LdpIRG7KzzDMxPpMZA+7zxQAAEZ0ca7N5oL8PFFaXddiMGOsK6X09oCXh/ssywZaEcy8//77qKnR71C4YMECeHp6YseOHbjxxhuxcOFCqzeQiNyXceO8SmZmyA6Mm9QNd7Kdc1W+5mVmpJVYbpaVASwMZjQaDdatW4dJkyYBAORyOZ588kk8+eSTNmkcEbk3DjORveSXq3EyV79Hi7OVATA3mCmqNBTJdMNgxqI8lIeHB2bNmgW1Wt3yyUREbVQ/zMRghixXUlWLpdvPIq+8psVzd57WDzH1ig50umAg0NzMjGGYKcQBy8odzeJBtaFDh0p1moiIbMk4zMQ5M9QaX+9Jw0vrj+OjrWdbPHfd4QsAgHE9ImzdLIuZnZnhMJP5Hn74YTz++OPIzMzEoEGD4O9vuvyrb9++VmscEbk3bppHbZFepF9heyqvvNlzTuSUYcepAvx5Ig8AMHVArF3aZgmz58xImRkGMy269dZbAQCPPPKIdEwmk0nlybVavukQkXX4c5iJ2iCvXD8lwhjUGFWqNXh2zVFc1y8aL60/LpUA6BOrQtcI56tpZP6cGWZmzHbu3DlbtIOIqBE/Lw4zUevllumDmcziatRpdfA0VJH++K+zWH0wC6sPZpmcf8fQDnZvozmMwUxZdR2EEPjjeB6GdAxBUVUtCivUuKxjCID61UzutscM0IpgJiEhwRbtICJqxNeTw0zUevmGib9ancCFkmppV9zcUtMJwRFKbyy7dzB6RQfavY3maJiZWX0wC/O+P4weUUpkFVejslaD3x8bha4RyvrMjBsOM7VqV52vvvoKl19+OWJiYpCWlgYAeOedd7B27VqrNo6I3JtUm4nBDFmoTqtDQUWtdPt8Yf1QU0l1rcm5gzuFoHeMymG7/rakYTDzw/5MAMCJnHKUqzXQCWDjP7kAIBXJdMfMjMXBzJIlSzBv3jxcc801KCkpkebIBAUF4Z133rF2+4jIjRknAFdymIksVFBhuoVIemGl9L2xGKNRn1iVXdrUWsZgJrdMjYMZxY3u32yYvGzMzIT4c2l2i/73v//h008/xTPPPAOFor4Q12WXXYaUlBSrNo6I3Bs3zaPWMs6XMTJmZrQ6YZKlAVwnmCmtrkNNnQ7hSm9MH9ERM0d1BgAkpxcjr6xGmiDsjsNMrZoAPGDAgEbHjRW0iYisxd+Lq5modfLKTOfFpBkCmAsl1ajV6EzuS4px7mDGuGme0aTekXj++t4AgB2nCnAsuwx3f/43AEAmqw9+3InFmZlOnTrh0KFDjY7/9ttv6NWrlzXaREQEoH6YqbpOC52hGjCROXINy7KVhnlXJ3P1e82cNQwxdY0IwAMjO2H+xO5QOfmOucbXYDSlf/1eOE9MSoS/lwIncvSvT+XrCQ+FexWZBFqRmXniiScwe/Zs1NTUQAiBv//+G99++y0WL16MpUuX2qKNROSmjMNMgD6g8fe2+C2L3JQxMzO+ZwTWHclGelEVskqqcS5fX3+pc5g/nr3WNf4Al8vrJyYHeHvgsoRg6fbYHhHY8sQYvPPHKXz3d7rTD5nZisXvDPfeey80Gg2efPJJVFVV4Y477kBsbCzeffdd3HbbbbZoIxG5KR8PBWQyQAj9UBODGTJXnmHOTJfwACTFqnA4owS7zxTiWHYZAKBzuPNtjncpSm8PlKs1eHxi90arriKUPnjlhj54/Mrubvt/pFWvesaMGZgxYwYKCgqg0+kQEeF8tSyIyPXJ5TL4eipQVas1bJzn7egmkYvINewxExHojRFdQnE4owS7Thdgu6Gg5IguzlUZuyVfPTAUJ3PK8X+XxTV7TmiA+/7/aHUIl5eXh9TUVMhkMshkMoSHh1uzXUREAPRDTVW1WpTXcHk2ma/hyp5olS+WbD2DVYYdf/29FBjaOcSRzbNY//gg9I8PcnQznJbFs4TKyspw1113ISYmBqNHj8aoUaMQExODO++8E6WlpbZoIxG5NX1K/dr/7cDGf3Ic3BZyFcbgN8DHA5d1DEZAg+GXK7qFw9tD0dxDyQVZHMw88MAD2Lt3L9avX4+SkhKUlpbil19+wf79+zFjxgxbtJGI3FhkYH3qfMepAge2hJydVifw0i/HsP5INioMwYzS2xN+Xh5485Z+0nnje3JqRHtj8TDT+vXrsXHjRowcOVI6NmnSJHz66ae46qqrrNo4IqJ5V3bHA8v3Qwggq6Ta0c0hJ/bz4Sws3XEOwDn4G1bCKX30H3OTekfhozsHYfeZAlzXL8aBrSRbsDgzExoaCpWq8dIvlUqF4ODgJh5BRNR643tGYtn0wQD0G54RNScls0z6vtKw0WKAT/3f7FclReGFKUnw8eQQU3tjcTDz7LPPYt68ecjOzpaO5eTk4IknnsDChQut2jgiIgCIC/YFAGQVM5ih5uVfVI8JqM/MUPtm8U95yZIlOH36NBISEtChQwcAQHp6Ory9vZGfn4+PP/5YOjc5Odl6LSUitxUTpA9mytUalNXUIdDHuXdsJcfIvaiEgZdCzom+bsLiYGbq1Kk2aAYRUfP8vDwQ7OeJ4qo6ZBVXIzCawQw1djbftD5gALMybsPin/SiRYts0Q4iokuKCfKVgpme0YGObg45mZKqWhRcNMzEISb30aafdEVFBXQ60+qjgYF8kyEi64sN8sU/F8pwoZTzZqix03kVjY4FuOnW/u7I4gnA586dw+TJk+Hv7y+tYAoODkZQUBBXMxGRzcRyEjBdwikGM27N4p/0tGnTAACff/45IiMjGxW8IiKyhVjDJGDuNUNNKaqsbXRMyYnibsPiYObIkSM4cOAAEhMTbdEeIqImRal8ANRXQyZqqNqwr0xDnDPjPiweZho8eDAyMjJs0RYiomYZhwwq1Cw4SY1VNRHMcJjJfVj8k166dCkeeughZGVlISkpCZ6epmm8vn37Wq1xRERGxr+yGcxQU6rr9L8XPp5y1NTpF6YwM+M+LP5J5+fn48yZM7j33nulYzKZDEIIyGQyaLWNo2MiorbyN/yVXclghppgHGaKVvniXIF+vxnuM+M+LP5J33fffRgwYAC+/fZbTgAmIrsxDhmUM5ihJhiHmSIDvaVgRslhJrdh8U86LS0NP//8M7p27WqL9hARNckYzNRqdKjV6ODlYfGUP2rHquvqMzNGXM3kPix+Nxg3bhwOHz5si7YQETXLv8Ff2RxqoosZh5mMq94ATgB2Jxb/pK+77jo89thjSElJQZ8+fRpNAL7++uut1jgiIiNPhRzeHnKoNTpUqDUI9vdydJPIiVRJc2bqgxlOAHYfFv+kH3roIQDAiy++2Og+TgAmIltS+nhAXVF7yRVN5wsq8fy6fzCyaxjuHt6Rw1FuwjjMFBnYIDPDYMZtWPy/XKfTNftlaSCzePFiDB48GEqlEhEREZg6dSpSU1NNzpk+fTpkMpnJ17BhwyxtNhG1AwFmrGhan5KNran5eGn9cTz8TbK9mkYOJg0zNQhmlN6cM+Mu2vQnS01NTZuefNu2bZg9ezb27NmDTZs2QaPRYOLEiaisNC3jftVVVyE7O1v6+vXXX9v0vETkmvzNWNFUUlW/rf2+80U2bxM5h6pa/e9EgI8HpvSPwZCOIVI9L2r/LM7BabVavPLKK/joo4+Qm5uLkydPonPnzli4cCE6duyI+++/3+xrbdiwweT2smXLEBERgQMHDmDUqFHScW9vb0RFRVnaVCJqZ8zJzJRW15l8X1OnhY+nwuZtI8cyDjP5eSnw7m0DHNwasjeLMzMvv/wyvvjiC7z++uvw8qqfgNenTx8sXbq0TY0pLS0FAISEhJgc37p1KyIiItC9e3fMmDEDeXl5zV5DrVajrKzM5IuI2geppEGNecEMAOSU1iCntAaL1h6V9h+h9qVOq0OdVgAAfBm4uiWLg5nly5fjk08+wbRp06BQ1P/S9O3bFydOnGh1Q4QQmDdvHkaOHImkpCTp+NVXX41vvvkGmzdvxptvvol9+/Zh3LhxUKubLja3ePFiqFQq6Ss+Pr7VbSIi5xJgRkmDRsFMWQ3e+eMkvtydhivf2gatTjT5uJKqWqQVMthxRcasDAD4ejGYcUcWBzNZWVlNbpin0+lQV1fXxCPMM2fOHBw5cgTffvutyfFbb70VkydPRlJSEq677jr89ttvOHnyJNavX9/kdRYsWIDS0lLpi0UxidoPfzOKTZZWm96XW1aD7acKAAAancCKvWlNPu7eL/bhyrf+wnlmb1yOcfKvQi6Dl4Kr19yRxT/13r17Y/v27Y2O//DDDxgwoHXjlHPnzsXPP/+MLVu2IC4u7pLnRkdHIyEhAadOnWryfm9vbwQGBpp8EVH7oDRjmKnMkJnpFOYPADhXUIncsvrFCst3Nw5m0gorcTC9BLVaHbafLrBmk8kOjHvM+HoqWGLHTZk9Afi+++7Du+++i0WLFuGuu+5CVlYWdDodVq1ahdTUVCxfvhy//PKLRU8uhMDcuXOxevVqbN26FZ06dWrxMYWFhcjIyEB0dLRFz0VErk8qNlnbcjDTPTIA5woqselYLjQ6AQ+5DBqdwOn8ClSqNSY7Cv9xvH4e3sG0Ytw1LMFGr4BswZiZ4RCT+zI7M/Pll1+iuroa1113HVauXIlff/0VMpkMzz33HI4fP45169bhyiuvtOjJZ8+eja+//horVqyAUqlETk4OcnJyUF1dDQCoqKjA/PnzsXv3bpw/fx5bt27Fddddh7CwMNxwww2WvVIicnlSsclmMjNanZCWbSdGKgEA/1zQLwKY2DsSUYE+EAI4lm26MODP47nS9wfSi63ebrKt6jr9z9yPwYzbMjszI0T9pLlJkyZh0qRJbX7yJUuWAADGjBljcnzZsmWYPn06FAoFUlJSsHz5cpSUlCA6Ohpjx47FypUroVQq2/z8RORaWlqaXdZg8m+3SNP3iIEdglGrEcgpq0FKZikGd9SvmiyurMXf5+r3o0krrEJBhRphAd7Wbj7ZSMNhJnJPFu0zY+2xyIYBUlN8fX2xceNGqz4nEbmullYzGVcy+XspGm2YNiYxApVqLf44noujWaXS8W/2pkGjE0iKDUStRoeTuRVITivGxN7c28pVcJiJLApmunfv3mJAU1TEHTeJyDbqVzM1XTrFGMyofD1NtrUf3T0cXSMC0CdOvyDgSFYpCivU+O1oDv77+0kAwAMjO2PH6QKczK1Aak45gxkX0nDDPHJPFgUzL7zwAlQqla3aQkR0SdKmeeqmt4EwBjOBvp6IUNYPE90zQj+hNylW//51Oq8Cw1/djFqNDoC+ns/kvtHSpnoXSttWqoWsp1KtwesbTmBSUhRGdAlr8pz6YSYWlnRXFv3kb7vtNkRERNiqLUREl1Q/Z6blzIyHQo63b+2HwopajE3Uv29FKH3w1NU98ObvqajV6NA9MgBdIwIwbWgCPBVyxATpszk5pdV2eDVkjq/2pOHL3WlIySrFqoebDmY4zERmBzNcu09Ejhboq3/LKqmqxeGMEvSLDzK5v2EwAwA3DGi8b9VDo7tgch99FmZk1zDI5fXvbVEq/TybbGZmnMaag1kAgIzi5gNMaZiJE4DdltlLs1uarEtEZGtRgT4YkxgOnQDu+2IfSqtMh5suDmaaEx/ih1Hdw00CGQCIUekzMxdKmJlxBsezy3AipxwAkF+uhlrTdEbOWDGbmRn3ZXYwo9PpOMRERA4lk8nw/h0D0SHED4WVtdh+Ot/k/jIzg5nmRAfpMzNlNZpLVuYm+zBmZYyyS5rOmFXX6uc+MZhxXyxiQUQuJcDbA2MSwwEAyWklJveZm5m51LWVhuXfHGpyLK1OYO2hCybHsprJmEmb5nGYyW0xmCEilzMoIRhA4916SwzDTiq/1gUzABBtGGrK5iRgh9p7rhA5ZTUI9PHA0E76DQ6bC2aqOAHY7TGYISKXM7CDPpg5dqEUNXX18yjOFlQAAOKD/Vp97WjjJOBmhjTI9ooqa7Fk6xkAwOS+0egcri8amtXMJOD8cjWA+tVu5H74kycilxMX7ItwpTfyy9U4mlWKWq0OgT6eOJOv3yemR3Try50Yl2dzmMkxqmu1uP79HcgsroZcBtw6uAN2nNLPjWoqM1Oh1mD/eX2GbrAhg0Puh8EMEbkcmUyGgR2CsPGfXPyUnImV+zKgMyy4vHj3X0tJmRkOMznEj8mZyCyuRmSgN96+tT/6xwfhbL4+49bUKrPtJ/NRq9WhU5g/uoQH2Lu55CQ4zERELsk41PTjgUwpkAGAHlHKNu2LFR+iD2ZSc8vb1D6ynE4n8PmOcwCAWaO7SDv+xhpWmTWVmfnzRB4AYFwPrrZ1ZwxmiMglGScB12lN98DqGR3Ypusaq2kfySxttqAl2cZ7m0/hXEElAn088H+XxUvHjUVDL5RUo06rM3nMdsMQ1HgGM26NwQwRuaSkWBU8FY0zMD2iWj9fBgDigv3QIcQPWp3AvnP6wrlancCBtCKTycZkXX8ez8U7f5wCACy4pqdUVBQAYlS+UPl6ok4rcDy7TDpeVatBbpl+8m/vWNYNdGcMZojIJfl4KtArpvEHWJeIts+bGNElFACw60wBAODbv9Nx05LdWLAqpc3XpqZtSdUPF91yWRxuH9LB5D65XIYBHYIAAAfS6pfjZxpWNyl9PFq9txC1DwxmiMhlDTLMm+kc7o+Xb0jCzFGdcZlh+KkthkvBTCEA4IMtpwEAqy/akZasJ62wCgBwWULTK5KMc6SS00ukYxlF+se0ZSk+tQ8MZojIZU3uGw2FXIYp/WIxbWgCnr6mp1WK4g7rrA9mjmeXoUKtMfmrv7n6QM5m28l8rD3kOsFXuiEw6RDadGBinCOV3ERmxjhpm9wXl2YTkcsalBCMf16YBC+Fdf8uiwz0QWyQL7JKqnE4owQN6+wmp5WgT5zKqTdo0+kE7vn8bwCAp0KOa/pEO7hFl1an1UmBScdQ/ybP6RcfBLlMv6Ipp7QGUSofZmZIwswMEbk0H09Fo+rX1iCVTEgrRmZxlXT89k/3YMwbW6VKzc7IWKMKAF765ZjJbWd0oaQaWp2At4ccEUrvJs8J8PZAkmGS7x/HcwEAGYafS3wIgxl3x2CGiKgJAw0TTv88kYfKWtOhpYIKNU7kOO8+NIWVaun7C6U1GP3GFmw1TLB1Rsb5Mh1C/C4ZmF7fLwZAfTXtjCJ9NicumMNM7o7BDBFREwYZJqIezihp8v7TuRV2bI1lCipqpe+7RQSgpKoOD319AMkXFeZ0FmmF+jIUCc0MMRld1y8GchmwP60Y//nlGI4ZlmkzM0MMZoiImtAjWglfz/oqzImRSvSNq18KfjrfeYOZQkMwM7hjMH599AqMSQxHTZ0Oj39/GFqdaOHR9mfMzCQ0M/nXKDLQB5d31e8K/Jlhp2CAmRliMENE1KSLJ872jFbi5zkj8fINSQCAU05c7sA4zBTq7w1PhRz/u30AAn08cK6gEn8a5ptotDrsOlOAkqraS13KLs6bGcwAwLOTe+H/BsVJc5o6hfnDz8t5J2OTffA3gIioGQ9c0Qk/JWcCABRy/d9+XQ3FDE/lOX9mJjTACwCg9PHEtGEJWLL1DJZuP4cuEQF48KsDOJ1XgSu6heGr+4c6srnSBGtzhosSo5R44//6AQBSMksRYniN5N6YmSEiakbP6EB0j9QHLxN66mv/dIvUl0vILK522hVNUmYmoH5l0PQRHeEhl+Hv80WY/U0yThuCse2nCpos4GhPxmrYcUGWDRf1iVNJRSjJvTGYISK6hJ9mjcCy6YNxVVIUACDE3wuh/vpswJm8Skc2rVnGzExYg6xFZKAPxiSGA4C0EivE8Dqa2lzvz+O5+HjbGZvPsSmvqUNZjT4ojGFgQq3EYIaI6BKUPp4Y2yPCZGfhboZszdELpY5q1iVJw0z+pnu2TB0QK33fKzoQT13VAwCwOjkLosHOgBqtDo98exCLfzuBx78/hL1nC7H3bCHKaqy/X40xKxTk52lSXJLIEgxmiIgsNKSjftn2nrOFDm5J0woMw0zGzIvRhJ6R0s7FNwyIxVV9ouDlIcepvAppmTOgz9wY99ZZc+gCbv1kD279ZA9uXrILtRqdVdtqHGKKUTErQ63HYIaIyELDu+iXB+86U2iS0XAWTQ0zAfrdkp++picm9IzALYPjEejjKc0FWtOgiObBBvvR9IhSonO4P3w9FTiZW4HPd56DNWUZyhjEcnk1tQGDGSIiCw3oEAQvDznyy9U442T7zdRqdFL5goYTgI3uGNoBS+8ZLBXPnNpfP/S09tAFaX7MAUMxx39N6IYN/xqFzY+PwYtTegMA3vvzFCrU1pv4nFVSAwCcyEttwmCGiMhCPp4KXGbY52TXGcuHmrafyscDX+7H13vSMPubZHy1J83ia+SW1eD+L/Y1KlNQbNg3Ri4DghpU+27OmMQIBPl5Iq9cjd2G15KcXgIAGNghWDrvpoFxiA3yRVWt1iRz01bGOTMMZqgtGMwQEbWCcSfav07mW/Q4IQQWrf0HfxzPxbNrjmJ9SjZe+PkfHMoowW8p2WYPW607fAF/nsjDp9vPmhw3DjGF+HubVYDTy0OOyYbNAVcfzMLRrFKkF1VBJgP6G+pTAYBcLsPgjvrgZu/ZImw4mo1KK2Rosgx7zHCYidqCwQwRUSuMTdTPNdlxugA1ddoWzq53JLMUZwv0S7qN5RI0OoGpH+zErG+S8fnO82Zd50y+/hrGUgBGuWX6YZvwZqpPN+UGwyqnn5IzcfunewAA4xIjEOhjmtkZaMhGvb/lNB76Ohnvbzlt9nM054JhmInLsqktGMwQEbVCz2glYlQ+qKnTScMz5lhtmGh7fb8YHP/PVfjkrkEm97+z6SR+PJCJNQezcPISJRPOFejn6lwoqTZZYXSh1Lg6yMfsNg1KCJaGecprNOgRpcTbt/VvdF7DYScAWLL1jNnP0RStTiCv3BDMWNBeoosxmCEiagWZTIZxhpVAfxjqHbVECIFfU7IBAFMHxADQL5ce0ikEncL80TM6EOVqDeb/cBj/WnkIN3yws9m9Xc4Zsjs6UV8OAABySvXBQXSQ+cGBTCbDo+O7QenjgbuGJeDbGcMaZWUA/cqmhnw85W3aVK+4qhbGh1+8jJzIEgxmiIhaaXzPSADAxn9yodE2vf/KusMXcMXrm3EgrRjpRVXIK1fDUyHDCMPybrlchu8fHI7Nj4/Ge7f1x4SekbiiWxhUvp6orNVi+8mCRtesVGuQW6aWbjccajIO20RbuG/LLYPjkfL8JPxnahKCmwksPBRyjOsRId2uqdO1aTWXcX5PsJ8nPBT8OKLW428PEVErXd4lDMF+niioUEurmrJKqvHm76k4klkCAJj/w2FkFFXjpiW7kGxYBZQUq4KPYb6MkUwmQ7dIJZbecxm+un8obrksDgDw54nGWR9jVsYorbD+drZhmCnaRsM2r97UB1/cO1jaODAls/W7IBdWNK4hRdQaDGaIiFrJy0OOa/vqh4vWHMzCmoNZuPzVzfjf5tN45dfjAAB1g/ksX+7SL8G+eO5JU4xZn62p+Y2Gcs5eFMycL2ximMlGO+pGKH0wJjECSbEqAEBKVhuCmUpj2QUOMVHbMJghImoDY72jnw9fwOM/HJaOn8qtQH652uTcQxklAPQTblsyKCEYgT4eKKqsxczl+/HGxhM4ZZgQfM6wksnLMDSTXqQPZoQQ9ROALZgz0xp94gIBAP+0oT6VMTMTxswMtRGDGSKiNhjYIQjX9o2GRieg1QmM6q6vTF1UVYuUrBLpPEWDPV/Mycx4KuSYd2V3yGXAnyfy8MGWM7hpyS6cyCmTJhwP7awf6jEOM5VU1aGmTp8Jigy0bTDTKUxfbDPTUI6gNaTMTAAzM9Q2DGaIiNpAJpPhf7cPwPL7huD563ph6d2XwddTASGAP4/rd+e9OikKX947BF4KOXpFByLKzPks0y/vhN8eHYXZY7sgKTYQZTUaXPXOdqRklULp7YH5ExMB6CcA19RpkW0YYgr192o0J8faogzBUl65utUrmgqkDf4YzFDbsN46EVEbyWQyjOoeLmVl4kN8cTK3ApuO6TMoPaICMbJbGLb/eyz8vCwLMhKjlHgiqgdmXNEZd3/+N44YJtz+68ru6BunQrCfJ4qr6pCaU44Cw7CNJcuyWysswAtymX6vmMIKNSIMwY1OJyCT6fukJZwATNbCzAwRkZXFB/sB0GctAH1AAuiHfpRN7N9ijiA/L6x++HK8dUs/PH1ND9wzPAEymcxkIq6xzpGtJv825KGQS7sM5xh2HT5XUImk5zdi8W8nzLqGcZgpjJkZaiMGM0REVhYf4mdye0CDGkdtoZDLcOPAOMwc1UXal6WPIZg5mlUqDWslxais8nwtMQ41GVdQ/bA/A1W1Wnzy11mUN7PZX0PMzJC1MJghIrKyuAZFE5NiA206GdcYzGxJzcP2U/qil1P6x9js+Royvi5jPSjj5GNAv5FgSzgBmKyFwQwRkZU1zMyM7xFp0+cyDjPllqmhE0D/+CB0DPO36XMaGScyG4eZ0ovq979ZY6hB1Ry1RovyGn3V7TB/ZmaobRjMEBFZWcPMzPieEZc40zrPFdUg83PToDibPl9DkdIwk364qOHmfbvOXLqaeJEhK+MhlyHQl2tRqG34G0REZGVdwgOQEOqHYD8vm89fkclk+PK+Idh5ugAqX0+7DTEB9XNmcstqoNMJafM+QF8A81xBJXpGBzb5WOOGgiH+XmatfCK6FAYzRERW5uOpwNb5Y6DVCcjltv+gToxSSium7KnhMFNueQ1qNTp4yGXoHavC4YwSnMqraDaYOZGt3824c7h9hsSofeMwExGRDchksnZfCVqaAFxag/MF+qxMbLAvehoCq9OG8gtNMdZ0Mk5gJmqL9v0/jYiIbCZa5QOFXIZytQYvrT8GAEgI9UfXCH2pg1N5Fc0+1hjMJDGYIStgMENERK3i7+2B2WO6AAD+uVAGAEgI8UO3SENmpplgRqPV4Xi2/nxmZsgaGMwQEVGrPXZldzw4qjNUvp6ICvTBtX2jTTIzM5fvlwphGp3Kq4Bao4PS2wMdQzlnhtqOE4CJiKjVZDIZFlzTEwuu6SkdE0Jfn0kI4PdjuSiuqsX3Dw6XVi0Zh5h6xwbaZYI0tX/MzBARkVXJZDLcMaSDdHvf+WKsOVS/iV5msb6GVJfwALu3jdonBjNERGR1L9/QB+dfnYwnJiXqb68/gePZZTiRUyZV9w5jTSayEg4zERGRzTxwRSf8eCAT5woqcfW726GQy6RJv2FKBjNkHczMEBGRzXh7KPD89b2l21qdwJHMEgBAOAtMkpU4NJhZvHgxBg8eDKVSiYiICEydOhWpqanNnv/ggw9CJpPhnXfesV8jiYioTUZ3D8fX9w+Fn5cCgL7UAcBhJrIehwYz27Ztw+zZs7Fnzx5s2rQJGo0GEydORGVlZaNz16xZg7179yImxn51R4iIyDpGdgvD5D7RJscYzJC1OHTOzIYNG0xuL1u2DBEREThw4ABGjRolHc/KysKcOXOwceNGTJ482d7NJCIiK4gO8jW5zTkzZC1ONQG4tFS/90BISIh0TKfT4a677sITTzyB3r17N/dQiVqthlqtlm6XlZVZv6FERGSxaENhSgDw8ZTD3zDsRNRWTjMBWAiBefPmYeTIkUhKSpKOv/baa/Dw8MAjjzxi1nUWL14MlUolfcXHx9uqyUREZIGGwUxYgLe0iR5RWzlNMDNnzhwcOXIE3377rXTswIEDePfdd/HFF1+Y/Uu/YMEClJaWSl8ZGRm2ajIREVkgpsEwE+fLkDU5RTAzd+5c/Pzzz9iyZQvi4uKk49u3b0deXh46dOgADw8PeHh4IC0tDY8//jg6duzY5LW8vb0RGBho8kVERI53cWaGyFocOmdGCIG5c+di9erV2Lp1Kzp16mRy/1133YUJEyaYHJs0aRLuuusu3HvvvfZsKhERtZHSxxMB3h6oUGsQruQeM2Q9Dg1mZs+ejRUrVmDt2rVQKpXIyckBAKhUKvj6+iI0NBShoaEmj/H09ERUVBQSExMd0WQiImqDaJUPTuVVMDNDVuXQYaYlS5agtLQUY8aMQXR0tPS1cuVKRzaLiIhsxDhvJpzLssmKHD7MZKnz589bvyFERGQXM0d1hp+XAlf1jnJ0U6gdcap9ZoiIqH27vGsYLu8a5uhmUDvjFKuZiIiIiFqLwQwRERG5NAYzRERE5NIYzBAREZFLYzBDRERELo3BDBEREbk0BjNERETk0hjMEBERkUtjMENEREQujcEMERERuTQGM0REROTSGMwQERGRS2MwQ0RERC6NwQwRERG5NA9HN8DWhBAAgLKyMge3hIiIiMxl/Nw2fo5fSrsPZsrLywEA8fHxDm4JERERWaq8vBwqleqS58iEOSGPC9PpdLhw4QKUSiVkMpnVrltWVob4+HhkZGQgMDDQatdtb9hP5mNfWYb9ZRn2l2XYX+azVV8JIVBeXo6YmBjI5ZeeFdPuMzNyuRxxcXE2u35gYCB/0c3AfjIf+8oy7C/LsL8sw/4yny36qqWMjBEnABMREZFLYzBDRERELo3BTCt5e3tj0aJF8Pb2dnRTnBr7yXzsK8uwvyzD/rIM+8t8ztBX7X4CMBEREbVvzMwQERGRS2MwQ0RERC6NwQwRERG5NAYzRERE5NIYzBDZUU1NjaOb4DL279/P/iIiszCYuUhRUREKCgoA6EshUNMyMzOxYsUK7N69GyUlJY5ujtM7d+4c+vXrh1deecXRTXF6Z8+exZQpUzBkyBB8//33jm6OS8jIyMC6deuQkpICrVYLwLzifO6I7/Hmc6W+YjDTwDPPPIMePXrgk08+AYAWa0G4IyEEHn30UfTq1QuffPIJrrzySsybNw/Z2dmObppTEkLgoYceQvfu3dG9e3c88sgjjm6S0xJC4OGHH0a3bt0gk8mgUqkQEBDg6GY5vfnz56NHjx549913MXLkSMydOxdnz56FTCZjQHMRvsebz9X6yrlbZyclJSW4//778ccff6BDhw7Ys2cP9u3bB4B/3TR0/vx5jBs3DgcOHMDvv/+OjRs34u2338a+fftw7NgxRzfP6Zw+fRqhoaHYsWMH/v77b/zwww8ICwtzdLOc0po1a+Dv748DBw5g165dWLNmDXr27InffvsNAP8fNufzzz/Hrl27sHHjRmzYsAFLly7F0aNHcd999wGAVYvrujK+x5vPVfvKbYOZhj8UX19fJCQkYMGCBXjzzTeRlZWF1atXo66uzu3/umn42jUaDaZOnYrPPvsMw4YNg7e3N6ZOnQqFQoFu3bo5sJXOo2F/eXp6IiYmBiNHjsSAAQOwa9cuPP7443jllVewYcMGlJeXO7Cljtewr/Lz8/H1119j7969GDp0KKqrq9GlSxcUFRWhqqqKH8oGxj4z/vvTTz+hS5cuGDlyJDw8PPB///d/6N+/P/766y8sXbrU5Fx3xvf4S2sXn4fCDVVVVYmamhrptk6nEyUlJdLtxx9/XFx++eVi/fr10v3u6OJ+qq6uFsXFxdLtnJwcMWHCBNGrVy9x//33izVr1jiglc7j4v7SarXip59+EjKZTEyaNEkkJCSIm266SfTr10/ExsaKu+++24Gtdaym+spIo9EIIYT417/+Jfr27dvofnd1cZ8VFxeLa665Rjz99NMm/fPEE0+IxMREERYWJurq6hzRVIczvmcbf5eEEHyPb0Z7+Tx0u8zMggULMHLkSFx77bV47733UFZWBplMhsDAQGmC0yOPPAIhBNasWYOCggLnjkZtpKl+8vHxQVBQEADg1KlT6NixIzw8PPDkk0+iuLgYTz75pNtOcG2qv+RyOcaOHYu77roLFRUV+Pnnn/HNN9/g0KFDWLRoEfbu3YslS5Y4uul2d3FflZeXQy6XS///jFmYCRMm4Pz580hPT3f68Xpbu7jPSkpKEBQUhJ49e+L333/HSy+9hMLCQjz55JP44osvsGjRInh6ekrZGXfy1ltvSe9DCoVCOq5Sqfgef5F29XnoyEjKntRqtbj55ptFr169xHfffSfuvvtu0atXLzF58mST84x/4bzzzjti0KBBYtmyZdJ9zhqRWpO5/SSEEIcOHZK+12g04vHHHxfDhw8XVVVV9myyQzXXX9dcc410zvHjx8W+ffuETqeTfr8KCwvFtddeK2bOnGny12N7ZsnvlhBCrF27VnTq1Ens2LHDzi11Hs312aRJk4QQQpSXl4tHH31UdO3aVYSEhIikpCSxd+9eIYQQI0eOFG+99ZYjm29Xf//9txgzZoyQyWRi4MCBYteuXUKIxlk94/u4u77HC9E+Pw/dJpg5duyY6Natm/j999+lYzt27BC+vr7i9ddfl34wxh9eTU2NuOaaa8Qtt9wijhw5Ir7++mvx0ksvOaTt9mRuPzVlypQpYvLkyaK2ttbpftFtpaX+aoqxb7p27SpmzZpll3Y6A0v/DxYWFgovLy/xyy+/mBx3J5fqs8WLF0vHMjIyxJEjR6TbNTU1Ijw8XHzwwQd2ba8j/ec//xE333yzWLZsmZg4caJ44IEHpPsavh8Zv3fX93gh2ufnodsEMwcOHBAymUwUFhYKIep/oRcvXiyCg4PFyZMnpXONP8A1a9aIzp07i9DQUOHl5SX++9//2r/hdmZJPzW0e/duMWrUKLFixQq7tdUZtLa/fvvtNzF48GCxc+dOu7XV0Sztq5KSEjFq1Cjx+OOP272tzqKlPktNTTU533j/8uXLxdChQ8WFCxfs22AHML7mtLQ0KRuzePFiMXToUPH9998LIRoHwu78Hi9E+/w8dJuBaLlcjl69emHFihUmxx9//HEEBQXh448/BgBotVrI5XKcOXMGq1atwrlz53DLLbegqKgIjz/+uCOablfm9pNOp8OxY8ewbds2zJo1CxMnTsTAgQNx8803O6LZDmNJfx09ehRbtmzBQw89hNtuuw3jx4/H0KFDHdFshzC3rzQaDQAgICAA2dnZqKysRF1dnd3b6wxa6jPjHiBarRaFhYVYs2YNHnzwQcyaNQuTJ09GVFSUc85vsCLjHKsOHTpg+PDhAIBbbrkF0dHRWLFiBYqLi03mZAFw6/d4oJ1+Hjo6mrKXoqIiMXXqVHHrrbdKf60YZ/q/+eabIiYmptGKgLi4OJPUrTuwpJ++/fZbMXnyZDFx4kRx+PBhh7XZkSzpry+//FKMHTtWjB071mS+kbuwpK+M84iWL1/eKPvgTizps7y8PDF//nwxYcIEt/z9MjJmGT777DMxdOjQZucNtef3+JaG+dvj52G7yMxkZGTgwIEDuHDhQqP7jH/lBQcH47rrrsOJEyekLdI9PDwA6Ge5BwcHIyMjQ4reX331VWRkZKBPnz52ehW2Z61+SktLAwBMmTIF77//PjZu3Ii+ffva6VXYj7X766abbsKnn36KzZs3o1+/fnZ6FfZhzf+DQP0qlLvuugvdu3e3x0uwO2v1WXp6OgAgPDwczz33HDZt2uSWv19GxnION998M3r16oVffvkFp06dAgAkJydL57XH93hAv2dTVVWVdLthRqpdfx46Oppqi9raWjFz5kwRFhYm+vbtK8LCwqSVDw2jyurqavHtt98KIYS45557xPDhw8XmzZul+59//nkxZswY+zbejthPlmF/mY99ZTn2mfnM7ava2lrxxRdfSLeN9/36669izJgxYtq0aWLcuHFCJpOJoqIi+74IO6mtrRUzZswQ3bp1E2PHjhXTp09v8rW2198rlw1mysvLxfXXXy/Gjh0rkpOTxYkTJ8TEiRPF6NGjTc579913RUhIiJgyZYoQQojDhw+LadOmCS8vLzFr1iwxc+ZMoVQqxZIlS4QQzrfcrK3YT5Zhf5mPfWU59pn5LO2rm266qdGHd1pamujSpYuQyWTitttuEzk5OXZ8BfZTVFQkJkyYIMaOHSt27NghPvnkEzFgwAAxYsQIceLECem89vx75bLBzN69e0W3bt1MIspPP/1UXH/99dIP4P333xcdO3YU33zzjUkUr9PpxCuvvCJmzJghrrnmmna9ooT9ZBn2l/nYV5Zjn5nP0r66+IP3zz//FAEBAaJ///5i//79dm27vW3YsEEkJSWZBC7Hjh0TcrlcPPLII6K4uFgsW7ZMdOjQod3+XrlsMLN9+3Yhk8mkjs/Pzxf9+/cXDz30kPjoo4+EEPpUY2VlpcnjXCnStAb2k2XYX+ZjX1mOfWa+1vaVUUFBgdtsFfHll1+KoKAgk2M7d+4UISEholu3bmL9+vVCp9OJiooKk3Pa0++VTAjnX7f3yiuvQK1Wo2fPnrjtttuk4+PGjUNWVhY6d+6M33//HRMnTkT37t2xYsUKjBkzBgsXLkTfvn0hhHCLQnXsJ8uwv8zHvrIc+8x81u6r9tx3TfXV1q1bcf/992PmzJn497//DQC47777EBYWhlWrVmH8+PH4+OOPodPp2m9pEIeFUWbYu3ev6NChgxg4cKC4+uqrhVKpFDfddJOUSisvLxenTp0SI0aMMNnA59ChQ6Jz587ShkntHfvJMuwv87GvLMc+Mx/7ynxN9dUNN9wgMjIyRE1NjXjttdeETCYTI0aMEAEBASIpKUnU1dWJ//3vfyI2NtbRzbc5pw7RVq5ciT59+uDAgQP45ZdfsHPnTuzfvx/vvvsucnJyEBAQgJKSEhQWFuLuu++WNofq3bs3ioqKpCWL7R37yTLsL/OxryzHPjMf+8p8TfVVcnIyXn75ZZSVleHJJ5/En3/+idtvvx2rVq1CSkoKPDw8UFlZiU6dOqG0tNTRL8GmnDKYEUKgtLQUf//9N3r27Ckd79OnD/7973/j77//xsqVKwEASqUSJ0+eREZGhpRW/OWXX9C5c2eMGzfOIe23F/aTZdhf5mNfWY59Zj72lfla6qt9+/ZJO/mOHTsWc+bMwZVXXgkAqK2txZ49ezBgwACoVCqHtN9enCaYSU5OliJHmUwGlUqFmpoalJeXA4C0nfkDDzyAhIQEbN26Fenp6YiPj8ctt9yCK664ArNmzcI999yDu+++G9deey369+/vqJdjM+wny7C/zMe+shz7zHzsK/NZ2lfbtm3DuXPnpMenpqbi1KlTmDFjBg4fPow77rjD/i/C3hwyuNXAjz/+KOLi4kSXLl1Ehw4dxHPPPScyMzOFEPo18QEBAdJsdbVaLYQQ4qeffhJxcXFSUbHKykrx5JNPiunTp4u77767XW5/zn6yDPvLfOwry7HPzMe+Ml9r+yo+Pt5kSfWbb74punTpIkaNGtVssdv2xqHBzL59+0SPHj3EO++8Iw4fPiw+/PBDER4eLmbNmiVKSkqkDY8efPBBIYR+h0Oj0NBQsXTpUpPrGWtLtDfsJ8uwv8zHvrIc+8x87CvztbWvPvvsM+l2dna2OHDggN1fgyM5JJgxrm1fsmSJiIuLE6WlpdJ977//vhgyZIhYvHixEEKIDz74QCgUCrFt2zbpnDNnzoguXbqIn376yb4NtzP2k2XYX+ZjX1mOfWY+9pX52FfW4dDMzJNPPinGjRtnsulRRUWFmD17thg2bJhITU0VOp1OTJs2TURFRYkXXnhBHDx4UDz44IOiT58+Iisry4Gttx/2k2XYX+ZjX1mOfWY+9pX52FdtY5dg5vfffxdz584V77zzjti7d690fO3atcLHx0ecOXNGCCGERqORzh8xYoRJ6fa5c+eK/v37i65du4qBAwc6dSny1mI/WYb9ZT72leXYZ+ZjX5mPfWUbNg1mLly4IK699loREREhpk2bJvr06SNUKpX0A6yurhY9evQQM2fOFEKYVkG94oorxKxZs6Tbxm2rG9aeaC/YT5Zhf5mPfWU59pn52FfmY1/Zls2CmcrKSnHPPfeIW2+9VZw9e1Y6PnjwYDF9+nQhhD7yXL58uZDL5Y2KW02bNk2MHTtWut2eakg0xH6yDPvLfOwry7HPzMe+Mh/7yvZsts+Mn58fvL29MX36dHTq1AkajQYAcO211+L48eMAAIVCgVtuuQVTpkzBAw88gG3btkEIgZycHJw6dQrTpk2Trtde62ywnyzD/jIf+8py7DPzsa/Mx76yA1tGSg2XjhkjyTvvvFPMmDHD5Fh1dbUYM2aMiIiIEBMnThQxMTFi2LBhIj093ZbNcxrsJ8uwv8zHvrIc+8x87Cvzsa9sy+5Vs0eNGoX77rsP06dPhxACOp0OCoUCubm5OHLkCPbt24eOHTu6x46Fl8B+sgz7y3zsK8uxz8zHvjIf+8qK7Bk5nTlzRkRGRor9+/dLx4y7GFI99pNl2F/mY19Zjn1mPvaV+dhX1mWX2kzCkPzZsWMHAgICMGjQIADACy+8gEcffRR5eXn2aIbTYz9Zhv1lPvaV5dhn5mNfmY99ZRse9ngS42Slv//+GzfddBM2bdqEmTNnoqqqCl999RUiIiLs0Qynx36yDPvLfOwry7HPzMe+Mh/7ykbslQKqrq4WXbt2FTKZTHh7e4tXX33VXk/tUthPlmF/mY99ZTn2mfnYV+ZjX1mfXScAX3nllejWrRveeust+Pj42OtpXQ77yTLsL/OxryzHPjMf+8p87Cvrsmswo9VqoVAo7PV0Lov9ZBn2l/nYV5Zjn5mPfWU+9pV12X1pNhEREZE12WU1ExEREZGtMJghIiIil8ZghoiIiFwagxkiIiJyaQxmiIiIyKUxmCEiIiKXxmCGiJza888/j/79+zu6GUTkxLjPDBE5jLFOTXPuuecevP/++1Cr1QgNDbVTq4jI1TCYISKHycnJkb5fuXIlnnvuOaSmpkrHfH19oVKpHNE0InIhHGYiIoeJioqSvlQqFWQyWaNjFw8zTZ8+HVOnTsUrr7yCyMhIBAUF4YUXXoBGo8ETTzyBkJAQxMXF4fPPPzd5rqysLNx6660IDg5GaGgopkyZgvPnz9v3BRORTTCYISKXs3nzZly4cAF//fUX3nrrLTz//PO49tprERwcjL179+Khhx7CQw89hIyMDABAVVUVxo4di4CAAPz111/YsWMHAgICcNVVV6G2ttbBr4aI2orBDBG5nJCQELz33ntITEzEfffdh8TERFRVVeHpp59Gt27dsGDBAnh5eWHnzp0AgO+++w5yuRxLly5Fnz590LNnTyxbtgzp6enYunWrY18MEbWZh6MbQERkqd69e0Mur/9bLDIyEklJSdJthUKB0NBQ5OXlAQAOHDiA06dPQ6lUmlynpqYGZ86csU+jichmGMwQkcvx9PQ0uS2TyZo8ptPpAAA6nQ6DBg3CN9980+ha4eHhtmsoEdkFgxkiavcGDhyIlStXIiIiAoGBgY5uDhFZGefMEFG7N23aNISFhWHKlCnYvn07zp07h23btuHRRx9FZmamo5tHRG3EYIaI2j0/Pz/89ddf6NChA2688Ub07NkT9913H6qrq5mpIWoHuGkeERERuTRmZoiIiMilMZghIiIil8ZghoiIiFwagxkiIiJyaQxmiIiIyKUxmCEiIiKXxmCGiIiIXBqDGSIiInJpDGaIiIjIpTGYISIiIpfGYIaIiIhcGoMZIiIicmn/D8g53MFqODHeAAAAAElFTkSuQmCC\"\n",
    "display.Image(b64decode(img))"
   ]
  }
 ],
 "metadata": {
  "celltoolbar": "Slideshow",
  "kernelspec": {
   "display_name": "Python 3 (ipykernel)",
   "language": "python",
   "name": "python3"
  },
  "language_info": {
   "codemirror_mode": {
    "name": "ipython",
    "version": 3
   },
   "file_extension": ".py",
   "mimetype": "text/x-python",
   "name": "python",
   "nbconvert_exporter": "python",
   "pygments_lexer": "ipython3",
   "version": "3.12.11"
  },
  "livereveal": {
   "auto_select": "none",
   "footer": " ",
   "header": "<script src='/files/static/theme/reveal.js'></script>",
   "start_slideshow_at": "selected"
  },
  "widgets": {
   "application/vnd.jupyter.widget-state+json": {
    "state": {
     "0063a22e99c64923bf9d0dfbfb1a529a": {
      "model_module": "jupyter-leaflet",
      "model_module_version": "^0.17.0",
      "model_name": "LeafletMapStyleModel",
      "state": {
       "_model_module_version": "^0.17.0"
      }
     },
     "0b0bdc1ccf3e4224ab810fd1b89895c8": {
      "model_module": "@jupyter-widgets/base",
      "model_module_version": "1.2.0",
      "model_name": "LayoutModel",
      "state": {}
     },
     "0e53c0406a134975b037ab20b34a1d8c": {
      "model_module": "jupyter-leaflet",
      "model_module_version": "^0.17.0",
      "model_name": "LeafletMapStyleModel",
      "state": {
       "_model_module_version": "^0.17.0"
      }
     },
     "1cb111dc5810489fa0287ddae49bf845": {
      "model_module": "jupyter-leaflet",
      "model_module_version": "^0.17.0",
      "model_name": "LeafletTileLayerModel",
      "state": {
       "_model_module_version": "^0.17.0",
       "_view_module_version": "^0.17.0",
       "attribution": "&copy; <a href=\"https://www.openstreetmap.org/copyright\">OpenStreetMap</a> contributors &copy; <a href=\"https://carto.com/attributions\">CARTO</a>",
       "base": true,
       "max_zoom": 20,
       "min_zoom": 1,
       "name": "CartoDB.Positron",
       "options": [
        "attribution",
        "bounds",
        "detect_retina",
        "max_native_zoom",
        "max_zoom",
        "min_native_zoom",
        "min_zoom",
        "no_wrap",
        "tile_size",
        "tms"
       ],
       "url": "https://a.basemaps.cartocdn.com/light_all/{z}/{x}/{y}.png"
      }
     },
     "1dd555e93de24f0e97d1c05738bd5976": {
      "model_module": "jupyter-leaflet",
      "model_module_version": "^0.17.0",
      "model_name": "LeafletMapStyleModel",
      "state": {
       "_model_module_version": "^0.17.0",
       "cursor": "move"
      }
     },
     "1f8012a0da484810a9234489d83dd092": {
      "model_module": "jupyter-leaflet",
      "model_module_version": "^0.17.0",
      "model_name": "LeafletAttributionControlModel",
      "state": {
       "_model_module_version": "^0.17.0",
       "_view_module_version": "^0.17.0",
       "options": [
        "position",
        "prefix"
       ],
       "position": "bottomright",
       "prefix": "ipyleaflet"
      }
     },
     "205eb56e92244c26985045f128c3c339": {
      "model_module": "jupyter-leaflet",
      "model_module_version": "^0.17.0",
      "model_name": "LeafletMapModel",
      "state": {
       "_model_module_version": "^0.17.0",
       "_view_module_version": "^0.17.0",
       "bottom": 6432,
       "center": [
        39.5,
        -70.5
       ],
       "controls": [
        "IPY_MODEL_acf6274dcd8c43f49c453fc5f83edd08",
        "IPY_MODEL_a1a3c3800f484513b915653f349793a6",
        "IPY_MODEL_2d98ad622b5a4a51aa41a716c96c2f13"
       ],
       "default_style": "IPY_MODEL_0063a22e99c64923bf9d0dfbfb1a529a",
       "dragging_style": "IPY_MODEL_a08c4e687d094250b12ade9c870aeb74",
       "east": -64.16015625000001,
       "fullscreen": false,
       "interpolation": "bilinear",
       "layers": [
        "IPY_MODEL_ee6081535cc84bf1ba3eb07db6f848fa",
        "IPY_MODEL_398d6a74240149eab97aa201a6845b68"
       ],
       "layout": "IPY_MODEL_564a5f1d7dc74de19b4dca1025b463d5",
       "left": 4696,
       "modisdate": "2022-08-16",
       "north": 42.8115217450979,
       "options": [
        "bounce_at_zoom_limits",
        "box_zoom",
        "center",
        "close_popup_on_click",
        "double_click_zoom",
        "dragging",
        "fullscreen",
        "inertia",
        "inertia_deceleration",
        "inertia_max_speed",
        "interpolation",
        "keyboard",
        "keyboard_pan_offset",
        "keyboard_zoom_offset",
        "max_zoom",
        "min_zoom",
        "prefer_canvas",
        "scroll_wheel_zoom",
        "tap",
        "tap_tolerance",
        "touch_zoom",
        "world_copy_jump",
        "zoom",
        "zoom_animation_threshold",
        "zoom_delta",
        "zoom_snap"
       ],
       "prefer_canvas": false,
       "right": 5272,
       "south": 36.03133177633189,
       "style": "IPY_MODEL_0063a22e99c64923bf9d0dfbfb1a529a",
       "top": 6032,
       "west": -76.81640625000001,
       "window_url": "http://127.0.0.1:8888/notebooks/01-Tue/00-data-access-in-python/00-data-access.ipynb",
       "zoom": 6
      }
     },
     "2460e500fffd458d85262bc829a30d85": {
      "model_module": "jupyter-leaflet",
      "model_module_version": "^0.17.0",
      "model_name": "LeafletFullScreenControlModel",
      "state": {
       "_model_module_version": "^0.17.0",
       "_view_module_version": "^0.17.0",
       "options": [
        "position"
       ]
      }
     },
     "2518b4e736684661a901e5ac85e91f4f": {
      "model_module": "jupyter-leaflet",
      "model_module_version": "^0.17.0",
      "model_name": "LeafletMapStyleModel",
      "state": {
       "_model_module_version": "^0.17.0"
      }
     },
     "2d98ad622b5a4a51aa41a716c96c2f13": {
      "model_module": "jupyter-leaflet",
      "model_module_version": "^0.17.0",
      "model_name": "LeafletFullScreenControlModel",
      "state": {
       "_model_module_version": "^0.17.0",
       "_view_module_version": "^0.17.0",
       "options": [
        "position"
       ]
      }
     },
     "2ee932b433544658af80e4a7fe1b3f87": {
      "model_module": "jupyter-leaflet",
      "model_module_version": "^0.17.0",
      "model_name": "LeafletZoomControlModel",
      "state": {
       "_model_module_version": "^0.17.0",
       "_view_module_version": "^0.17.0",
       "options": [
        "position",
        "zoom_in_text",
        "zoom_in_title",
        "zoom_out_text",
        "zoom_out_title"
       ]
      }
     },
     "349f97408048461b9670a35bc0737d9b": {
      "model_module": "@jupyter-widgets/controls",
      "model_module_version": "1.5.0",
      "model_name": "DescriptionStyleModel",
      "state": {
       "description_width": ""
      }
     },
     "398d6a74240149eab97aa201a6845b68": {
      "model_module": "jupyter-leaflet",
      "model_module_version": "^0.17.0",
      "model_name": "LeafletRectangleModel",
      "state": {
       "_model_module_version": "^0.17.0",
       "_view_module_version": "^0.17.0",
       "bounds": [
        [
         38,
         -72
        ],
        [
         41,
         -69
        ]
       ],
       "draggable": false,
       "options": [
        "color",
        "dash_array",
        "draggable",
        "fill",
        "fill_color",
        "fill_opacity",
        "line_cap",
        "line_join",
        "no_clip",
        "opacity",
        "pointer_events",
        "smooth_factor",
        "stroke",
        "transform",
        "weight"
       ],
       "rotation": true,
       "scaling": true,
       "transform": false,
       "uniform_scaling": false
      }
     },
     "3ec23e1ebfec4371a7f663e1eacb85a9": {
      "model_module": "@jupyter-widgets/base",
      "model_module_version": "1.2.0",
      "model_name": "LayoutModel",
      "state": {}
     },
     "42bd271b7e5a43b18725bcd83bb6d6ce": {
      "model_module": "jupyter-leaflet",
      "model_module_version": "^0.17.0",
      "model_name": "LeafletMapModel",
      "state": {
       "_model_module_version": "^0.17.0",
       "_view_module_version": "^0.17.0",
       "bottom": 6432,
       "center": [
        39.5,
        -70.5
       ],
       "controls": [
        "IPY_MODEL_e5a3f495215e464fa550c4b78430b620",
        "IPY_MODEL_6a6ae707aa4940919633ce746f93e786",
        "IPY_MODEL_a27a83c460694621a45c0a7dc32644e4"
       ],
       "default_style": "IPY_MODEL_f33e994eb85045ef8508baea9f3adbb6",
       "dragging_style": "IPY_MODEL_1dd555e93de24f0e97d1c05738bd5976",
       "east": -60.07324218750001,
       "fullscreen": false,
       "interpolation": "bilinear",
       "layers": [
        "IPY_MODEL_83315eff3a084d0490645b02322b9e2f",
        "IPY_MODEL_597cf190777742d8b37f3ff6d47e96d3"
       ],
       "layout": "IPY_MODEL_3ec23e1ebfec4371a7f663e1eacb85a9",
       "left": 4510,
       "modisdate": "2022-08-15",
       "north": 42.8115217450979,
       "options": [
        "bounce_at_zoom_limits",
        "box_zoom",
        "center",
        "close_popup_on_click",
        "double_click_zoom",
        "dragging",
        "fullscreen",
        "inertia",
        "inertia_deceleration",
        "inertia_max_speed",
        "interpolation",
        "keyboard",
        "keyboard_pan_offset",
        "keyboard_zoom_offset",
        "max_zoom",
        "min_zoom",
        "prefer_canvas",
        "scroll_wheel_zoom",
        "tap",
        "tap_tolerance",
        "touch_zoom",
        "world_copy_jump",
        "zoom",
        "zoom_animation_threshold",
        "zoom_delta",
        "zoom_snap"
       ],
       "prefer_canvas": false,
       "right": 5458,
       "south": 36.03133177633189,
       "style": "IPY_MODEL_f33e994eb85045ef8508baea9f3adbb6",
       "top": 6032,
       "west": -80.9033203125,
       "window_url": "http://127.0.0.1:8888/notebooks/01-Tue/00-data-access-in-python/00-data-access.ipynb",
       "zoom": 6
      }
     },
     "4c35518862cc4213b2043d1f5c611a6c": {
      "model_module": "jupyter-leaflet",
      "model_module_version": "^0.17.0",
      "model_name": "LeafletMapModel",
      "state": {
       "_model_module_version": "^0.17.0",
       "_view_module_version": "^0.17.0",
       "center": [
        39.50404070558415,
        -70.48828125000001
       ],
       "controls": [
        "IPY_MODEL_8b383fe2b8b24398b40c6357d96dff59",
        "IPY_MODEL_b82a3caaae1a4c3c81822cdf797e83aa",
        "IPY_MODEL_2460e500fffd458d85262bc829a30d85"
       ],
       "default_style": "IPY_MODEL_2518b4e736684661a901e5ac85e91f4f",
       "dragging_style": "IPY_MODEL_5c69b4de3ec047f7a54159c8e1c2eead",
       "east": -180,
       "fullscreen": false,
       "interpolation": "bilinear",
       "layers": [
        "IPY_MODEL_5f9e7b576e2d4c3386f1a7848615d0e1",
        "IPY_MODEL_f58ae99b3ed0405697f6f2764f84e42f"
       ],
       "layout": "IPY_MODEL_0b0bdc1ccf3e4224ab810fd1b89895c8",
       "modisdate": "2022-08-15",
       "north": -90,
       "options": [
        "bounce_at_zoom_limits",
        "box_zoom",
        "center",
        "close_popup_on_click",
        "double_click_zoom",
        "dragging",
        "fullscreen",
        "inertia",
        "inertia_deceleration",
        "inertia_max_speed",
        "interpolation",
        "keyboard",
        "keyboard_pan_offset",
        "keyboard_zoom_offset",
        "max_zoom",
        "min_zoom",
        "prefer_canvas",
        "scroll_wheel_zoom",
        "tap",
        "tap_tolerance",
        "touch_zoom",
        "world_copy_jump",
        "zoom",
        "zoom_animation_threshold",
        "zoom_delta",
        "zoom_snap"
       ],
       "prefer_canvas": false,
       "south": 90,
       "style": "IPY_MODEL_2518b4e736684661a901e5ac85e91f4f",
       "west": 180,
       "window_url": "http://127.0.0.1:8888/notebooks/01-Tue/00-data-access-in-python/00-data-access.ipynb",
       "zoom": 6
      }
     },
     "564a5f1d7dc74de19b4dca1025b463d5": {
      "model_module": "@jupyter-widgets/base",
      "model_module_version": "1.2.0",
      "model_name": "LayoutModel",
      "state": {}
     },
     "597cf190777742d8b37f3ff6d47e96d3": {
      "model_module": "jupyter-leaflet",
      "model_module_version": "^0.17.0",
      "model_name": "LeafletRectangleModel",
      "state": {
       "_model_module_version": "^0.17.0",
       "_view_module_version": "^0.17.0",
       "bounds": [
        [
         38,
         -72
        ],
        [
         41,
         -69
        ]
       ],
       "draggable": false,
       "options": [
        "color",
        "dash_array",
        "draggable",
        "fill",
        "fill_color",
        "fill_opacity",
        "line_cap",
        "line_join",
        "no_clip",
        "opacity",
        "pointer_events",
        "smooth_factor",
        "stroke",
        "transform",
        "weight"
       ],
       "rotation": true,
       "scaling": true,
       "transform": false,
       "uniform_scaling": false
      }
     },
     "5b7e55f225374d948c4abcc0634f9bd6": {
      "model_module": "jupyter-leaflet",
      "model_module_version": "^0.17.0",
      "model_name": "LeafletMapStyleModel",
      "state": {
       "_model_module_version": "^0.17.0",
       "cursor": "move"
      }
     },
     "5c69b4de3ec047f7a54159c8e1c2eead": {
      "model_module": "jupyter-leaflet",
      "model_module_version": "^0.17.0",
      "model_name": "LeafletMapStyleModel",
      "state": {
       "_model_module_version": "^0.17.0",
       "cursor": "move"
      }
     },
     "5f9e7b576e2d4c3386f1a7848615d0e1": {
      "model_module": "jupyter-leaflet",
      "model_module_version": "^0.17.0",
      "model_name": "LeafletTileLayerModel",
      "state": {
       "_model_module_version": "^0.17.0",
       "_view_module_version": "^0.17.0",
       "attribution": "&copy; <a href=\"https://www.openstreetmap.org/copyright\">OpenStreetMap</a> contributors",
       "base": true,
       "max_zoom": 19,
       "min_zoom": 1,
       "name": "OpenStreetMap.Mapnik",
       "options": [
        "attribution",
        "bounds",
        "detect_retina",
        "max_native_zoom",
        "max_zoom",
        "min_native_zoom",
        "min_zoom",
        "no_wrap",
        "tile_size",
        "tms"
       ],
       "url": "https://a.tile.openstreetmap.org/{z}/{x}/{y}.png"
      }
     },
     "621810695fb24e0f834c7d05bfc872d9": {
      "model_module": "jupyter-leaflet",
      "model_module_version": "^0.17.0",
      "model_name": "LeafletMapModel",
      "state": {
       "_model_module_version": "^0.17.0",
       "_view_module_version": "^0.17.0",
       "bottom": 3580,
       "center": [
        30,
        -88
       ],
       "controls": [
        "IPY_MODEL_2ee932b433544658af80e4a7fe1b3f87",
        "IPY_MODEL_75315b5a508f4379b102afbb4a6565c9",
        "IPY_MODEL_7ae32d24a4f44dd487ae1bd8d7b4d8a0"
       ],
       "default_style": "IPY_MODEL_9157db1ac62f4527bfe69b0f6416bc31",
       "dragging_style": "IPY_MODEL_5b7e55f225374d948c4abcc0634f9bd6",
       "east": -75.01464843750001,
       "fullscreen": false,
       "interpolation": "bilinear",
       "layers": [
        "IPY_MODEL_1cb111dc5810489fa0287ddae49bf845",
        "IPY_MODEL_b089fe861d4e4975a1429e02bab4f372"
       ],
       "layout": "IPY_MODEL_72bba39a9aca4bf0976a1b26a917d2fe",
       "left": 1798,
       "modisdate": "2022-08-16",
       "north": 37.30027528134433,
       "options": [
        "bounce_at_zoom_limits",
        "box_zoom",
        "center",
        "close_popup_on_click",
        "double_click_zoom",
        "dragging",
        "fullscreen",
        "inertia",
        "inertia_deceleration",
        "inertia_max_speed",
        "interpolation",
        "keyboard",
        "keyboard_pan_offset",
        "keyboard_zoom_offset",
        "max_zoom",
        "min_zoom",
        "prefer_canvas",
        "scroll_wheel_zoom",
        "tap",
        "tap_tolerance",
        "touch_zoom",
        "world_copy_jump",
        "zoom",
        "zoom_animation_threshold",
        "zoom_delta",
        "zoom_snap"
       ],
       "prefer_canvas": false,
       "right": 2389,
       "south": 22.105998799750566,
       "style": "IPY_MODEL_808ab843b85e45c1ac46bfacc495d545",
       "top": 3180,
       "west": -100.986328125,
       "window_url": "http://127.0.0.1:8888/notebooks/01-Tue/00-data-access-in-python/00-data-access.ipynb",
       "zoom": 5
      }
     },
     "66a112c78616400c917dd2d39a42ca70": {
      "model_module": "jupyter-leaflet",
      "model_module_version": "^0.17.0",
      "model_name": "LeafletMapStyleModel",
      "state": {
       "_model_module_version": "^0.17.0"
      }
     },
     "698f8d03c7a641e6b87509649d19a5e4": {
      "model_module": "@jupyter-widgets/controls",
      "model_module_version": "1.5.0",
      "model_name": "SelectionSliderModel",
      "state": {
       "_options_labels": [
        "13:00",
        "13:30",
        "14:00",
        "14:30",
        "15:00",
        "15:30",
        "16:00",
        "16:30",
        "17:00",
        "17:30",
        "18:00",
        "18:30"
       ],
       "description": "Time:",
       "index": 0,
       "layout": "IPY_MODEL_b959095f660a4706b39a374ef9e8a58f",
       "style": "IPY_MODEL_7d63e48a79584c3fb7e94a71ac609567"
      }
     },
     "6a6ae707aa4940919633ce746f93e786": {
      "model_module": "jupyter-leaflet",
      "model_module_version": "^0.17.0",
      "model_name": "LeafletAttributionControlModel",
      "state": {
       "_model_module_version": "^0.17.0",
       "_view_module_version": "^0.17.0",
       "options": [
        "position",
        "prefix"
       ],
       "position": "bottomright",
       "prefix": "ipyleaflet"
      }
     },
     "6fb360f56bf64813b576e10c28fd1c26": {
      "model_module": "jupyter-leaflet",
      "model_module_version": "^0.17.0",
      "model_name": "LeafletMapModel",
      "state": {
       "_model_module_version": "^0.17.0",
       "_view_module_version": "^0.17.0",
       "bottom": 3580,
       "center": [
        30,
        -88
       ],
       "controls": [
        "IPY_MODEL_ed339b4b8b6542a68bb8d9d7899e4e7f",
        "IPY_MODEL_1f8012a0da484810a9234489d83dd092",
        "IPY_MODEL_731c5968cfdd4ec79c75a4d4f0a7977d"
       ],
       "default_style": "IPY_MODEL_0e53c0406a134975b037ab20b34a1d8c",
       "dragging_style": "IPY_MODEL_e5dcfc614c134baab7e2fb4904593c4f",
       "east": -66.84082031250001,
       "fullscreen": false,
       "interpolation": "bilinear",
       "layers": [
        "IPY_MODEL_f3b09e5594ee449faed5b2cef3bb3bf0",
        "IPY_MODEL_7432a43018544afb8a7818e44fa7df0f"
       ],
       "layout": "IPY_MODEL_c2d176a4fc134fca9a5a357b84179377",
       "left": 1612,
       "modisdate": "2022-08-15",
       "north": 37.30027528134433,
       "options": [
        "bounce_at_zoom_limits",
        "box_zoom",
        "center",
        "close_popup_on_click",
        "double_click_zoom",
        "dragging",
        "fullscreen",
        "inertia",
        "inertia_deceleration",
        "inertia_max_speed",
        "interpolation",
        "keyboard",
        "keyboard_pan_offset",
        "keyboard_zoom_offset",
        "max_zoom",
        "min_zoom",
        "prefer_canvas",
        "scroll_wheel_zoom",
        "tap",
        "tap_tolerance",
        "touch_zoom",
        "world_copy_jump",
        "zoom",
        "zoom_animation_threshold",
        "zoom_delta",
        "zoom_snap"
       ],
       "prefer_canvas": false,
       "right": 2575,
       "south": 22.105998799750566,
       "style": "IPY_MODEL_71344375a855465a81cda7f217a3a336",
       "top": 3180,
       "west": -109.16015625000001,
       "window_url": "http://127.0.0.1:8888/notebooks/01-Tue/00-data-access-in-python/00-data-access.ipynb",
       "zoom": 5
      }
     },
     "71344375a855465a81cda7f217a3a336": {
      "model_module": "jupyter-leaflet",
      "model_module_version": "^0.17.0",
      "model_name": "LeafletMapStyleModel",
      "state": {
       "_model_module_version": "^0.17.0"
      }
     },
     "72bba39a9aca4bf0976a1b26a917d2fe": {
      "model_module": "@jupyter-widgets/base",
      "model_module_version": "1.2.0",
      "model_name": "LayoutModel",
      "state": {}
     },
     "731c5968cfdd4ec79c75a4d4f0a7977d": {
      "model_module": "jupyter-leaflet",
      "model_module_version": "^0.17.0",
      "model_name": "LeafletFullScreenControlModel",
      "state": {
       "_model_module_version": "^0.17.0",
       "_view_module_version": "^0.17.0",
       "options": [
        "position"
       ]
      }
     },
     "7432a43018544afb8a7818e44fa7df0f": {
      "model_module": "jupyter-leaflet",
      "model_module_version": "^0.17.0",
      "model_name": "LeafletWMSLayerModel",
      "state": {
       "_model_module_version": "^0.17.0",
       "_view_module_version": "^0.17.0",
       "attribution": "Weather data © 2012 IEM Nexrad",
       "crs": {
        "custom": false,
        "name": "EPSG3857"
       },
       "format": "image/png",
       "layers": "nexrad-n0r-wmst",
       "options": [
        "attribution",
        "bounds",
        "detect_retina",
        "format",
        "layers",
        "max_native_zoom",
        "max_zoom",
        "min_native_zoom",
        "min_zoom",
        "no_wrap",
        "styles",
        "tile_size",
        "time",
        "tms",
        "transparent",
        "uppercase"
       ],
       "time": "2020-07-25T13:00:00Z",
       "transparent": true,
       "url": "https://mesonet.agron.iastate.edu/cgi-bin/wms/nexrad/n0r-t.cgi?"
      }
     },
     "75315b5a508f4379b102afbb4a6565c9": {
      "model_module": "jupyter-leaflet",
      "model_module_version": "^0.17.0",
      "model_name": "LeafletAttributionControlModel",
      "state": {
       "_model_module_version": "^0.17.0",
       "_view_module_version": "^0.17.0",
       "options": [
        "position",
        "prefix"
       ],
       "position": "bottomright",
       "prefix": "ipyleaflet"
      }
     },
     "7ae32d24a4f44dd487ae1bd8d7b4d8a0": {
      "model_module": "jupyter-leaflet",
      "model_module_version": "^0.17.0",
      "model_name": "LeafletFullScreenControlModel",
      "state": {
       "_model_module_version": "^0.17.0",
       "_view_module_version": "^0.17.0",
       "options": [
        "position"
       ]
      }
     },
     "7d63e48a79584c3fb7e94a71ac609567": {
      "model_module": "@jupyter-widgets/controls",
      "model_module_version": "1.5.0",
      "model_name": "DescriptionStyleModel",
      "state": {
       "description_width": ""
      }
     },
     "808ab843b85e45c1ac46bfacc495d545": {
      "model_module": "jupyter-leaflet",
      "model_module_version": "^0.17.0",
      "model_name": "LeafletMapStyleModel",
      "state": {
       "_model_module_version": "^0.17.0"
      }
     },
     "83315eff3a084d0490645b02322b9e2f": {
      "model_module": "jupyter-leaflet",
      "model_module_version": "^0.17.0",
      "model_name": "LeafletTileLayerModel",
      "state": {
       "_model_module_version": "^0.17.0",
       "_view_module_version": "^0.17.0",
       "attribution": "&copy; <a href=\"https://www.openstreetmap.org/copyright\">OpenStreetMap</a> contributors",
       "base": true,
       "max_zoom": 19,
       "min_zoom": 1,
       "name": "OpenStreetMap.Mapnik",
       "options": [
        "attribution",
        "bounds",
        "detect_retina",
        "max_native_zoom",
        "max_zoom",
        "min_native_zoom",
        "min_zoom",
        "no_wrap",
        "tile_size",
        "tms"
       ],
       "url": "https://a.tile.openstreetmap.org/{z}/{x}/{y}.png"
      }
     },
     "8b383fe2b8b24398b40c6357d96dff59": {
      "model_module": "jupyter-leaflet",
      "model_module_version": "^0.17.0",
      "model_name": "LeafletZoomControlModel",
      "state": {
       "_model_module_version": "^0.17.0",
       "_view_module_version": "^0.17.0",
       "options": [
        "position",
        "zoom_in_text",
        "zoom_in_title",
        "zoom_out_text",
        "zoom_out_title"
       ]
      }
     },
     "9145ea6c8242464f9878179d45fe05ac": {
      "model_module": "@jupyter-widgets/base",
      "model_module_version": "1.2.0",
      "model_name": "LayoutModel",
      "state": {}
     },
     "9157db1ac62f4527bfe69b0f6416bc31": {
      "model_module": "jupyter-leaflet",
      "model_module_version": "^0.17.0",
      "model_name": "LeafletMapStyleModel",
      "state": {
       "_model_module_version": "^0.17.0"
      }
     },
     "a08c4e687d094250b12ade9c870aeb74": {
      "model_module": "jupyter-leaflet",
      "model_module_version": "^0.17.0",
      "model_name": "LeafletMapStyleModel",
      "state": {
       "_model_module_version": "^0.17.0",
       "cursor": "move"
      }
     },
     "a1a3c3800f484513b915653f349793a6": {
      "model_module": "jupyter-leaflet",
      "model_module_version": "^0.17.0",
      "model_name": "LeafletAttributionControlModel",
      "state": {
       "_model_module_version": "^0.17.0",
       "_view_module_version": "^0.17.0",
       "options": [
        "position",
        "prefix"
       ],
       "position": "bottomright",
       "prefix": "ipyleaflet"
      }
     },
     "a27a83c460694621a45c0a7dc32644e4": {
      "model_module": "jupyter-leaflet",
      "model_module_version": "^0.17.0",
      "model_name": "LeafletFullScreenControlModel",
      "state": {
       "_model_module_version": "^0.17.0",
       "_view_module_version": "^0.17.0",
       "options": [
        "position"
       ]
      }
     },
     "acf6274dcd8c43f49c453fc5f83edd08": {
      "model_module": "jupyter-leaflet",
      "model_module_version": "^0.17.0",
      "model_name": "LeafletZoomControlModel",
      "state": {
       "_model_module_version": "^0.17.0",
       "_view_module_version": "^0.17.0",
       "options": [
        "position",
        "zoom_in_text",
        "zoom_in_title",
        "zoom_out_text",
        "zoom_out_title"
       ]
      }
     },
     "b089fe861d4e4975a1429e02bab4f372": {
      "model_module": "jupyter-leaflet",
      "model_module_version": "^0.17.0",
      "model_name": "LeafletWMSLayerModel",
      "state": {
       "_model_module_version": "^0.17.0",
       "_view_module_version": "^0.17.0",
       "attribution": "Weather data © 2012 IEM Nexrad",
       "crs": {
        "custom": false,
        "name": "EPSG3857"
       },
       "format": "image/png",
       "layers": "nexrad-n0r-wmst",
       "options": [
        "attribution",
        "bounds",
        "detect_retina",
        "format",
        "layers",
        "max_native_zoom",
        "max_zoom",
        "min_native_zoom",
        "min_zoom",
        "no_wrap",
        "styles",
        "tile_size",
        "time",
        "tms",
        "transparent",
        "uppercase"
       ],
       "time": "2020-07-25T13:00:00Z",
       "transparent": true,
       "url": "https://mesonet.agron.iastate.edu/cgi-bin/wms/nexrad/n0r-t.cgi?"
      }
     },
     "b2d9ad5663ac4057a7503c8984743281": {
      "model_module": "@jupyter-widgets/controls",
      "model_module_version": "1.5.0",
      "model_name": "SelectionSliderModel",
      "state": {
       "_options_labels": [
        "13:00",
        "13:30",
        "14:00",
        "14:30",
        "15:00",
        "15:30",
        "16:00",
        "16:30",
        "17:00",
        "17:30",
        "18:00",
        "18:30"
       ],
       "description": "Time:",
       "index": 0,
       "layout": "IPY_MODEL_9145ea6c8242464f9878179d45fe05ac",
       "style": "IPY_MODEL_349f97408048461b9670a35bc0737d9b"
      }
     },
     "b82a3caaae1a4c3c81822cdf797e83aa": {
      "model_module": "jupyter-leaflet",
      "model_module_version": "^0.17.0",
      "model_name": "LeafletAttributionControlModel",
      "state": {
       "_model_module_version": "^0.17.0",
       "_view_module_version": "^0.17.0",
       "options": [
        "position",
        "prefix"
       ],
       "position": "bottomright",
       "prefix": "ipyleaflet"
      }
     },
     "b959095f660a4706b39a374ef9e8a58f": {
      "model_module": "@jupyter-widgets/base",
      "model_module_version": "1.2.0",
      "model_name": "LayoutModel",
      "state": {}
     },
     "c2d176a4fc134fca9a5a357b84179377": {
      "model_module": "@jupyter-widgets/base",
      "model_module_version": "1.2.0",
      "model_name": "LayoutModel",
      "state": {}
     },
     "e5a3f495215e464fa550c4b78430b620": {
      "model_module": "jupyter-leaflet",
      "model_module_version": "^0.17.0",
      "model_name": "LeafletZoomControlModel",
      "state": {
       "_model_module_version": "^0.17.0",
       "_view_module_version": "^0.17.0",
       "options": [
        "position",
        "zoom_in_text",
        "zoom_in_title",
        "zoom_out_text",
        "zoom_out_title"
       ]
      }
     },
     "e5dcfc614c134baab7e2fb4904593c4f": {
      "model_module": "jupyter-leaflet",
      "model_module_version": "^0.17.0",
      "model_name": "LeafletMapStyleModel",
      "state": {
       "_model_module_version": "^0.17.0",
       "cursor": "move"
      }
     },
     "e60bd95cf7d14ef7a0b5f1042f62889a": {
      "model_module": "jupyter-leaflet",
      "model_module_version": "^0.17.0",
      "model_name": "LeafletMapStyleModel",
      "state": {
       "_model_module_version": "^0.17.0"
      }
     },
     "ed339b4b8b6542a68bb8d9d7899e4e7f": {
      "model_module": "jupyter-leaflet",
      "model_module_version": "^0.17.0",
      "model_name": "LeafletZoomControlModel",
      "state": {
       "_model_module_version": "^0.17.0",
       "_view_module_version": "^0.17.0",
       "options": [
        "position",
        "zoom_in_text",
        "zoom_in_title",
        "zoom_out_text",
        "zoom_out_title"
       ]
      }
     },
     "ee6081535cc84bf1ba3eb07db6f848fa": {
      "model_module": "jupyter-leaflet",
      "model_module_version": "^0.17.0",
      "model_name": "LeafletTileLayerModel",
      "state": {
       "_model_module_version": "^0.17.0",
       "_view_module_version": "^0.17.0",
       "attribution": "&copy; <a href=\"https://www.openstreetmap.org/copyright\">OpenStreetMap</a> contributors",
       "base": true,
       "max_zoom": 19,
       "min_zoom": 1,
       "name": "OpenStreetMap.Mapnik",
       "options": [
        "attribution",
        "bounds",
        "detect_retina",
        "max_native_zoom",
        "max_zoom",
        "min_native_zoom",
        "min_zoom",
        "no_wrap",
        "tile_size",
        "tms"
       ],
       "url": "https://a.tile.openstreetmap.org/{z}/{x}/{y}.png"
      }
     },
     "f33e994eb85045ef8508baea9f3adbb6": {
      "model_module": "jupyter-leaflet",
      "model_module_version": "^0.17.0",
      "model_name": "LeafletMapStyleModel",
      "state": {
       "_model_module_version": "^0.17.0"
      }
     },
     "f3b09e5594ee449faed5b2cef3bb3bf0": {
      "model_module": "jupyter-leaflet",
      "model_module_version": "^0.17.0",
      "model_name": "LeafletTileLayerModel",
      "state": {
       "_model_module_version": "^0.17.0",
       "_view_module_version": "^0.17.0",
       "attribution": "&copy; <a href=\"https://www.openstreetmap.org/copyright\">OpenStreetMap</a> contributors &copy; <a href=\"https://carto.com/attributions\">CARTO</a>",
       "base": true,
       "max_zoom": 20,
       "min_zoom": 1,
       "name": "CartoDB.Positron",
       "options": [
        "attribution",
        "bounds",
        "detect_retina",
        "max_native_zoom",
        "max_zoom",
        "min_native_zoom",
        "min_zoom",
        "no_wrap",
        "tile_size",
        "tms"
       ],
       "url": "https://a.basemaps.cartocdn.com/light_all/{z}/{x}/{y}.png"
      }
     },
     "f58ae99b3ed0405697f6f2764f84e42f": {
      "model_module": "jupyter-leaflet",
      "model_module_version": "^0.17.0",
      "model_name": "LeafletRectangleModel",
      "state": {
       "_model_module_version": "^0.17.0",
       "_view_module_version": "^0.17.0",
       "bounds": [
        [
         38,
         -72
        ],
        [
         41,
         -69
        ]
       ],
       "draggable": false,
       "options": [
        "color",
        "dash_array",
        "draggable",
        "fill",
        "fill_color",
        "fill_opacity",
        "line_cap",
        "line_join",
        "no_clip",
        "opacity",
        "pointer_events",
        "smooth_factor",
        "stroke",
        "transform",
        "weight"
       ],
       "rotation": true,
       "scaling": true,
       "transform": false,
       "uniform_scaling": false
      }
     },
     "f7e9ea0b22ff4a10ab099af44b44265e": {
      "model_module": "jupyter-leaflet",
      "model_module_version": "^0.17.0",
      "model_name": "LeafletMapStyleModel",
      "state": {
       "_model_module_version": "^0.17.0"
      }
     }
    },
    "version_major": 2,
    "version_minor": 0
   }
  }
 },
 "nbformat": 4,
 "nbformat_minor": 4
}
