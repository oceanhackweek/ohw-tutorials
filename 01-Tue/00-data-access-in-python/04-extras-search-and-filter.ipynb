{
 "cells": [
  {
   "cell_type": "markdown",
   "id": "9f343a15",
   "metadata": {
    "slideshow": {
     "slide_type": "slide"
    }
   },
   "source": [
    "# Finding datasets of interest"
   ]
  },
  {
   "cell_type": "code",
   "execution_count": null,
   "id": "81540dd9",
   "metadata": {
    "slideshow": {
     "slide_type": "fragment"
    }
   },
   "outputs": [],
   "source": [
    "import datetime\n",
    "import pandas as pd\n",
    "import numpy as np\n",
    "from erddapy import ERDDAP\n",
    "from tqdm.notebook import tqdm"
   ]
  },
  {
   "cell_type": "markdown",
   "id": "b8e50478",
   "metadata": {
    "slideshow": {
     "slide_type": "slide"
    }
   },
   "source": [
    "We can use ERDDAP's built in search function to find datasets that match a keyword\n",
    "\n",
    "### Find drifter datasets from OSMC"
   ]
  },
  {
   "cell_type": "code",
   "execution_count": null,
   "id": "a2e3c30e",
   "metadata": {
    "slideshow": {
     "slide_type": "fragment"
    }
   },
   "outputs": [],
   "source": [
    "e = ERDDAP(\n",
    "    server=\"https://osmc.noaa.gov/erddap\",\n",
    "    protocol=\"tabledap\"\n",
    ")\n",
    "\n",
    "url = e.get_search_url(search_for=\"drifter\", response=\"csv\")\n",
    "\n",
    "df = pd.read_csv(url)\n",
    "df[[\"Dataset ID\", \"Title\"]]"
   ]
  },
  {
   "cell_type": "markdown",
   "id": "3c66973a",
   "metadata": {
    "slideshow": {
     "slide_type": "skip"
    }
   },
   "source": [
    "### Find ADCP data on the IOOS sensors ERDDAP"
   ]
  },
  {
   "cell_type": "code",
   "execution_count": null,
   "id": "6c01e335",
   "metadata": {
    "slideshow": {
     "slide_type": "skip"
    }
   },
   "outputs": [],
   "source": [
    "e = ERDDAP(\n",
    "    server=\"https://erddap.sensors.ioos.us/erddap\",\n",
    "    protocol=\"tabledap\"\n",
    ")\n",
    "url = e.get_search_url(search_for=\"adcp\", response=\"csv\")\n",
    "\n",
    "df = pd.read_csv(url)\n",
    "df[[\"Dataset ID\", \"Title\"]]"
   ]
  },
  {
   "cell_type": "markdown",
   "id": "7954743b",
   "metadata": {
    "slideshow": {
     "slide_type": "slide"
    }
   },
   "source": [
    "### Find argo floats with chlorophyll and CDOM data"
   ]
  },
  {
   "cell_type": "code",
   "execution_count": null,
   "id": "3bd182a0",
   "metadata": {
    "slideshow": {
     "slide_type": "fragment"
    }
   },
   "outputs": [],
   "source": [
    "e = ERDDAP(\n",
    "    server=\"https://erddap.ifremer.fr/erddap\",\n",
    ")\n",
    "\n",
    "url = e.get_search_url(search_for=\"chlorophyll CDOM\", response=\"csv\")\n",
    "\n",
    "df = pd.read_csv(url)\n",
    "df[[\"Dataset ID\", \"Title\"]]"
   ]
  },
  {
   "cell_type": "markdown",
   "id": "30727cea",
   "metadata": {},
   "source": [
    "### Search with allDatasets\n",
    "\n",
    "For a more sophisticated search, we can use the `allDatasets` dataset from ERDDAP to examine the primary metadata of all datasets. \n",
    "\n",
    "### Get metadata for IOOS glider datasets"
   ]
  },
  {
   "cell_type": "code",
   "execution_count": null,
   "id": "4c69dfec",
   "metadata": {
    "slideshow": {
     "slide_type": "slide"
    }
   },
   "outputs": [],
   "source": [
    "e = ERDDAP(\n",
    "    server=\"https://gliders.ioos.us/erddap\",\n",
    "    protocol=\"tabledap\",\n",
    ")\n",
    "\n",
    "# Fetch dataset list\n",
    "e.dataset_id = \"allDatasets\"\n",
    "df_datasets = e.to_pandas()\n",
    "\n",
    "# drop the allDatasets row and make the datasetID the index for easier reading\n",
    "df_datasets.set_index(\"datasetID\", inplace=True)\n",
    "df_datasets.drop(\"allDatasets\", inplace=True)\n",
    "df_datasets[\"minTime\"] = pd.to_datetime(df_datasets[\"minTime (UTC)\"].str[:-1])\n",
    "df_datasets[\"maxTime\"] = pd.to_datetime(df_datasets[\"maxTime (UTC)\"].str[:-1])\n",
    "\n",
    "# Keep a susbset of useful columns\n",
    "cols = [\n",
    "    \"institution\",\n",
    "    \"minLongitude (degrees_east)\",\n",
    "    \"maxLongitude (degrees_east)\",\n",
    "    \"minLatitude (degrees_north)\",\n",
    "    \"maxLatitude (degrees_north)\",\n",
    "    \"minAltitude (m)\",\n",
    "    \"maxAltitude (m)\",\n",
    "    \"minTime\",\n",
    "    \"maxTime\",\n",
    "]\n",
    "df_datasets = df_datasets[cols]\n",
    "\n",
    "print(f\"Found {len(df_datasets)} datasets\")"
   ]
  },
  {
   "cell_type": "code",
   "execution_count": null,
   "id": "4658a9e0",
   "metadata": {
    "slideshow": {
     "slide_type": "slide"
    }
   },
   "outputs": [],
   "source": [
    "df_datasets"
   ]
  },
  {
   "cell_type": "markdown",
   "id": "2b1a98e3",
   "metadata": {
    "slideshow": {
     "slide_type": "slide"
    }
   },
   "source": [
    "### Which gliders have uploaded data in the last 6 hours?"
   ]
  },
  {
   "cell_type": "code",
   "execution_count": null,
   "id": "92eb4350",
   "metadata": {
    "slideshow": {
     "slide_type": "fragment"
    }
   },
   "outputs": [],
   "source": [
    "df_datasets[ np.datetime64('now') - df_datasets.maxTime < datetime.timedelta(hours=6)]"
   ]
  },
  {
   "cell_type": "markdown",
   "id": "92dc92e9",
   "metadata": {
    "slideshow": {
     "slide_type": "slide"
    }
   },
   "source": [
    "### Find datasets from deployments that lasted longer than 90 days"
   ]
  },
  {
   "cell_type": "code",
   "execution_count": null,
   "id": "7c230ed2",
   "metadata": {
    "slideshow": {
     "slide_type": "fragment"
    }
   },
   "outputs": [],
   "source": [
    "df_datasets[\"endurance\"] = df_datasets['maxTime'] - df_datasets['minTime']\n",
    "\n",
    "min_days = 90\n",
    "df_datasets[df_datasets[\"endurance\"] > datetime.timedelta(days=min_days)].endurance"
   ]
  },
  {
   "cell_type": "markdown",
   "id": "59dc3d2d",
   "metadata": {
    "slideshow": {
     "slide_type": "slide"
    }
   },
   "source": [
    "### Which glider missions extended to a depth of greater than 150 m in seas north of 70 N?"
   ]
  },
  {
   "cell_type": "code",
   "execution_count": null,
   "id": "c6a9c07b",
   "metadata": {
    "slideshow": {
     "slide_type": "fragment"
    }
   },
   "outputs": [],
   "source": [
    "min_altitude = -150 # note the sign!\n",
    "min_northing = 70\n",
    "\n",
    "mask = (df_datasets[\"maxAltitude (m)\"] < min_altitude).values \\\n",
    "* (df_datasets[\"maxLatitude (degrees_north)\"] > min_northing).values\n",
    "\n",
    "\n",
    "df_datasets[mask]"
   ]
  },
  {
   "cell_type": "code",
   "execution_count": null,
   "id": "32dbc65e",
   "metadata": {
    "slideshow": {
     "slide_type": "slide"
    }
   },
   "outputs": [],
   "source": [
    "e = ERDDAP(\n",
    "    server=\"https://gliders.ioos.us/erddap\",\n",
    "    protocol=\"tabledap\",\n",
    ")\n",
    "e.constraints = {\"time>=\": \"2018-09-20\"}\n",
    "\n",
    "e.dataset_id = \"unit_595-20180804T0000-delayed\"\n",
    "ds = e.to_xarray()"
   ]
  },
  {
   "cell_type": "code",
   "execution_count": null,
   "id": "6b0f8541",
   "metadata": {
    "slideshow": {
     "slide_type": "fragment"
    }
   },
   "outputs": [],
   "source": [
    "ds[\"u\"].plot()"
   ]
  },
  {
   "cell_type": "markdown",
   "id": "21246601",
   "metadata": {},
   "source": [
    "---------------------------\n",
    "### References\n",
    "\n",
    "IOOS ERDDAP https://gliders.ioos.us/erddap\n",
    "\n",
    "More info on using ERDDAP's inbuilt search https://ioos.github.io/erddapy/01b-tabledap-output.html"
   ]
  }
 ],
 "metadata": {
  "celltoolbar": "Slideshow",
  "kernelspec": {
   "display_name": "Python 3 (ipykernel)",
   "language": "python",
   "name": "python3"
  },
  "language_info": {
   "codemirror_mode": {
    "name": "ipython",
    "version": 3
   },
   "file_extension": ".py",
   "mimetype": "text/x-python",
   "name": "python",
   "nbconvert_exporter": "python",
   "pygments_lexer": "ipython3",
   "version": "3.12.11"
  },
  "livereveal": {
   "auto_select": "none",
   "footer": " ",
   "header": "<script src='/files/static/theme/reveal.js'></script>",
   "start_slideshow_at": "selected"
  }
 },
 "nbformat": 4,
 "nbformat_minor": 5
}
