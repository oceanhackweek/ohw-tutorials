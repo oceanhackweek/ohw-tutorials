{
 "cells": [
  {
   "cell_type": "markdown",
   "metadata": {
    "slideshow": {
     "slide_type": "slide"
    }
   },
   "source": [
    "# Gridded datasets\n",
    "\n",
    "ERDDAP has a seperate mechanism for gridded data, like satellite and model/reanalysis products. This is called griddap. "
   ]
  },
  {
   "cell_type": "code",
   "execution_count": null,
   "metadata": {
    "slideshow": {
     "slide_type": "fragment"
    }
   },
   "outputs": [],
   "source": [
    "from erddapy import ERDDAP\n",
    "import xarray as xr\n",
    "import matplotlib.pyplot as plt\n",
    "import pandas as pd\n",
    "import cartopy.crs as ccrs"
   ]
  },
  {
   "cell_type": "markdown",
   "metadata": {
    "slideshow": {
     "slide_type": "fragment"
    }
   },
   "source": [
    "### Specify server and protocol"
   ]
  },
  {
   "cell_type": "code",
   "execution_count": null,
   "metadata": {
    "slideshow": {
     "slide_type": "fragment"
    }
   },
   "outputs": [],
   "source": [
    "pacioos = ERDDAP(\n",
    "    server=\"https://pae-paha.pacioos.hawaii.edu/erddap\",\n",
    "    protocol=\"griddap\",\n",
    ")\n",
    "\n",
    "pacioos.dataset_id = \"etopo5_lon180\"\n",
    "pacioos.griddap_initialize()\n",
    "\n",
    "pacioos.constraints = {\n",
    "    \"latitude>=\": 20,\n",
    "    \"latitude<=\": 60,\n",
    "    \"latitude_step\": 1,\n",
    "    \"longitude>=\": -90,\n",
    "    \"longitude<=\": -30,\n",
    "    \"longitude_step\": 1,\n",
    "}\n",
    "\n",
    "topo = pacioos.to_xarray()"
   ]
  },
  {
   "cell_type": "code",
   "execution_count": null,
   "metadata": {
    "slideshow": {
     "slide_type": "slide"
    }
   },
   "outputs": [],
   "source": [
    "projection = ccrs.PlateCarree()\n",
    "\n",
    "fig, ax = plt.subplots(\n",
    "    subplot_kw={\"projection\": projection},\n",
    "    figsize=(10, 6),\n",
    ")\n",
    "\n",
    "topo[\"ROSE\"].plot(ax=ax)\n",
    "ax.coastlines();"
   ]
  },
  {
   "cell_type": "markdown",
   "metadata": {},
   "source": [
    "See https://ioos.github.io/erddapy/01a-griddap-output.html for a more elaborated example."
   ]
  }
 ],
 "metadata": {
  "celltoolbar": "Slideshow",
  "kernelspec": {
   "display_name": "Python 3 (ipykernel)",
   "language": "python",
   "name": "python3"
  },
  "language_info": {
   "codemirror_mode": {
    "name": "ipython",
    "version": 3
   },
   "file_extension": ".py",
   "mimetype": "text/x-python",
   "name": "python",
   "nbconvert_exporter": "python",
   "pygments_lexer": "ipython3",
   "version": "3.12.11"
  },
  "livereveal": {
   "auto_select": "none",
   "footer": " ",
   "header": "<script src='/files/static/theme/reveal.js'></script>",
   "start_slideshow_at": "selected"
  }
 },
 "nbformat": 4,
 "nbformat_minor": 4
}
